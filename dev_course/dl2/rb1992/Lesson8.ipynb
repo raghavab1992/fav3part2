{
 "cells": [
  {
   "cell_type": "code",
   "execution_count": 5,
   "metadata": {},
   "outputs": [],
   "source": [
    "%load_ext autoreload\n",
    "%autoreload 2\n",
    "\n",
    "%matplotlib inline"
   ]
  },
  {
   "attachments": {},
   "cell_type": "markdown",
   "metadata": {
    "heading_collapsed": true
   },
   "source": [
    "### Matrix Multiplication - 01_matmul.ipynb"
   ]
  },
  {
   "cell_type": "code",
   "execution_count": 2,
   "metadata": {
    "hidden": true
   },
   "outputs": [],
   "source": [
    "import torch"
   ]
  },
  {
   "cell_type": "code",
   "execution_count": 3,
   "metadata": {
    "hidden": true
   },
   "outputs": [],
   "source": [
    "x = torch.rand((5, 784))\n",
    "w = torch.rand(784, 10)"
   ]
  },
  {
   "cell_type": "code",
   "execution_count": 4,
   "metadata": {
    "hidden": true
   },
   "outputs": [
    {
     "data": {
      "text/plain": [
       "(torch.Size([5, 784]), torch.Size([784, 10]))"
      ]
     },
     "execution_count": 4,
     "metadata": {},
     "output_type": "execute_result"
    }
   ],
   "source": [
    "x.shape, w.shape"
   ]
  },
  {
   "cell_type": "code",
   "execution_count": 5,
   "metadata": {
    "hidden": true
   },
   "outputs": [
    {
     "name": "stdout",
     "output_type": "stream",
     "text": [
      "4.11 µs ± 127 ns per loop (mean ± std. dev. of 7 runs, 100000 loops each)\n"
     ]
    }
   ],
   "source": [
    "%timeit torch.matmul(x, w)"
   ]
  },
  {
   "cell_type": "code",
   "execution_count": 6,
   "metadata": {
    "hidden": true
   },
   "outputs": [
    {
     "name": "stdout",
     "output_type": "stream",
     "text": [
      "4.06 µs ± 103 ns per loop (mean ± std. dev. of 7 runs, 100000 loops each)\n"
     ]
    }
   ],
   "source": [
    "%timeit x@w"
   ]
  },
  {
   "cell_type": "code",
   "execution_count": 7,
   "metadata": {
    "hidden": true
   },
   "outputs": [],
   "source": [
    "c = torch.zeros((5, 10))"
   ]
  },
  {
   "cell_type": "code",
   "execution_count": 8,
   "metadata": {
    "hidden": true
   },
   "outputs": [],
   "source": [
    "def matmul(x, w):\n",
    "    for i in range(x.shape[0]):\n",
    "        for j in range(w.shape[1]):\n",
    "            for k in range(w.shape[0]):\n",
    "                c[i,j] += x[i, k]*w[k, j]\n",
    "    return c"
   ]
  },
  {
   "cell_type": "code",
   "execution_count": 14,
   "metadata": {
    "hidden": true
   },
   "outputs": [
    {
     "name": "stdout",
     "output_type": "stream",
     "text": [
      "516 ms ± 4.01 ms per loop (mean ± std. dev. of 7 runs, 1 loop each)\n"
     ]
    }
   ],
   "source": [
    "%timeit matmul(x, w)"
   ]
  },
  {
   "cell_type": "code",
   "execution_count": 12,
   "metadata": {
    "hidden": true
   },
   "outputs": [
    {
     "data": {
      "text/plain": [
       "127250.0"
      ]
     },
     "execution_count": 12,
     "metadata": {},
     "output_type": "execute_result"
    }
   ],
   "source": [
    "509000/4"
   ]
  },
  {
   "cell_type": "code",
   "execution_count": 15,
   "metadata": {
    "hidden": true
   },
   "outputs": [],
   "source": [
    "def matmul_elop(x, w):\n",
    "    for i in range(x.shape[0]):\n",
    "        for j in range(w.shape[1]):\n",
    "            c[i,j] = (x[i, :]*w[:, j]).sum()\n",
    "    return c"
   ]
  },
  {
   "cell_type": "code",
   "execution_count": 16,
   "metadata": {
    "hidden": true
   },
   "outputs": [
    {
     "name": "stdout",
     "output_type": "stream",
     "text": [
      "752 µs ± 5.44 µs per loop (mean ± std. dev. of 7 runs, 1000 loops each)\n"
     ]
    }
   ],
   "source": [
    "%timeit matmul_elop(x, w)"
   ]
  },
  {
   "cell_type": "code",
   "execution_count": 13,
   "metadata": {
    "hidden": true
   },
   "outputs": [
    {
     "data": {
      "text/plain": [
       "687.8378378378378"
      ]
     },
     "execution_count": 13,
     "metadata": {},
     "output_type": "execute_result"
    }
   ],
   "source": [
    "509000/740"
   ]
  },
  {
   "cell_type": "code",
   "execution_count": 38,
   "metadata": {
    "hidden": true
   },
   "outputs": [],
   "source": [
    "def matmul_elop_bc(x, w):\n",
    "    for i in range(x.shape[0]):\n",
    "        c[i,:] = (x[i, :].unsqueeze(1)*w).sum(dim=0)\n",
    "    return c"
   ]
  },
  {
   "cell_type": "code",
   "execution_count": 39,
   "metadata": {
    "hidden": true
   },
   "outputs": [
    {
     "name": "stdout",
     "output_type": "stream",
     "text": [
      "166 µs ± 611 ns per loop (mean ± std. dev. of 7 runs, 10000 loops each)\n"
     ]
    }
   ],
   "source": [
    "%timeit matmul_elop_bc(x, w)"
   ]
  },
  {
   "cell_type": "code",
   "execution_count": 41,
   "metadata": {
    "hidden": true
   },
   "outputs": [
    {
     "data": {
      "text/plain": [
       "torch.Size([5, 10])"
      ]
     },
     "execution_count": 41,
     "metadata": {},
     "output_type": "execute_result"
    }
   ],
   "source": [
    "matmul_elop_bc(x, w).shape"
   ]
  },
  {
   "cell_type": "code",
   "execution_count": 42,
   "metadata": {
    "hidden": true
   },
   "outputs": [
    {
     "data": {
      "text/plain": [
       "4.530120481927711"
      ]
     },
     "execution_count": 42,
     "metadata": {},
     "output_type": "execute_result"
    }
   ],
   "source": [
    "752/166"
   ]
  },
  {
   "cell_type": "code",
   "execution_count": 44,
   "metadata": {
    "hidden": true
   },
   "outputs": [
    {
     "name": "stdout",
     "output_type": "stream",
     "text": [
      "23.5 µs ± 603 ns per loop (mean ± std. dev. of 7 runs, 10000 loops each)\n"
     ]
    }
   ],
   "source": [
    "%timeit torch.einsum('ij,jk->ik', x, w)"
   ]
  },
  {
   "cell_type": "code",
   "execution_count": 45,
   "metadata": {
    "hidden": true
   },
   "outputs": [
    {
     "data": {
      "text/plain": [
       "6.916666666666667"
      ]
     },
     "execution_count": 45,
     "metadata": {},
     "output_type": "execute_result"
    }
   ],
   "source": [
    "166/24"
   ]
  },
  {
   "cell_type": "code",
   "execution_count": 46,
   "metadata": {
    "hidden": true
   },
   "outputs": [
    {
     "name": "stdout",
     "output_type": "stream",
     "text": [
      "3.94 µs ± 83.9 ns per loop (mean ± std. dev. of 7 runs, 100000 loops each)\n"
     ]
    }
   ],
   "source": [
    "%timeit x.matmul(w)"
   ]
  },
  {
   "attachments": {},
   "cell_type": "markdown",
   "metadata": {},
   "source": [
    "### 02_fully_connected.ipynb"
   ]
  },
  {
   "cell_type": "code",
   "execution_count": 1,
   "metadata": {},
   "outputs": [],
   "source": [
    "import fastai"
   ]
  },
  {
   "cell_type": "code",
   "execution_count": 2,
   "metadata": {},
   "outputs": [
    {
     "data": {
      "text/plain": [
       "'1.0.51'"
      ]
     },
     "execution_count": 2,
     "metadata": {},
     "output_type": "execute_result"
    }
   ],
   "source": [
    "fastai.__version__"
   ]
  },
  {
   "cell_type": "code",
   "execution_count": 3,
   "metadata": {},
   "outputs": [],
   "source": [
    "from pathlib import Path\n",
    "from IPython.core.debugger import set_trace\n",
    "from fastai import datasets\n",
    "import pickle, gzip, math, torch, matplotlib as mpl\n",
    "import matplotlib.pyplot as plt\n",
    "from torch import tensor\n",
    "\n",
    "MNIST_URL='http://deeplearning.net/data/mnist/mnist.pkl'"
   ]
  },
  {
   "cell_type": "code",
   "execution_count": 6,
   "metadata": {},
   "outputs": [],
   "source": [
    "#export\n",
    "# from exp.nb_01 import *\n",
    "\n",
    "def get_data():\n",
    "    path = datasets.download_data(MNIST_URL, ext='.gz')\n",
    "    with gzip.open(path, 'rb') as f:\n",
    "        ((x_train, y_train), (x_valid, y_valid), _) = pickle.load(f, encoding='latin-1')\n",
    "    return map(tensor, (x_train,y_train,x_valid,y_valid))\n",
    "\n",
    "def normalize(x, m, s): return (x-m)/s"
   ]
  },
  {
   "cell_type": "code",
   "execution_count": 7,
   "metadata": {},
   "outputs": [],
   "source": [
    "x_train,y_train,x_valid,y_valid = get_data()"
   ]
  },
  {
   "cell_type": "code",
   "execution_count": 9,
   "metadata": {},
   "outputs": [
    {
     "data": {
      "text/plain": [
       "(torch.Size([50000, 784]), torch.Size([50000]))"
      ]
     },
     "execution_count": 9,
     "metadata": {},
     "output_type": "execute_result"
    }
   ],
   "source": [
    "x_train.shape, y_train.shape"
   ]
  },
  {
   "cell_type": "code",
   "execution_count": 12,
   "metadata": {},
   "outputs": [],
   "source": [
    "train_mean, train_std = x_train.mean(), x_train.std()"
   ]
  },
  {
   "cell_type": "code",
   "execution_count": 13,
   "metadata": {},
   "outputs": [],
   "source": [
    "def normalize(x, mean, std):\n",
    "    return (x-mean)/std"
   ]
  },
  {
   "cell_type": "code",
   "execution_count": 16,
   "metadata": {},
   "outputs": [],
   "source": [
    "x_train = normalize(x_train, train_mean, train_std)\n",
    "x_valid = normalize(x_valid, train_mean, train_std)"
   ]
  },
  {
   "cell_type": "code",
   "execution_count": 33,
   "metadata": {},
   "outputs": [
    {
     "data": {
      "text/plain": [
       "(tensor(-6.2598e-06), tensor(1.))"
      ]
     },
     "execution_count": 33,
     "metadata": {},
     "output_type": "execute_result"
    }
   ],
   "source": [
    "x_train.mean(), x_train.std()\n",
    "# x_valid.mean(), x_valid.std()"
   ]
  },
  {
   "cell_type": "code",
   "execution_count": 18,
   "metadata": {},
   "outputs": [
    {
     "data": {
      "text/plain": [
       "tensor(9)"
      ]
     },
     "execution_count": 18,
     "metadata": {},
     "output_type": "execute_result"
    }
   ],
   "source": [
    "y_train.max()"
   ]
  },
  {
   "cell_type": "markdown",
   "metadata": {},
   "source": [
    "#### Forward"
   ]
  },
  {
   "cell_type": "code",
   "execution_count": 21,
   "metadata": {},
   "outputs": [],
   "source": [
    "ni= x_train.shape[1]"
   ]
  },
  {
   "cell_type": "code",
   "execution_count": 44,
   "metadata": {},
   "outputs": [],
   "source": [
    "nh = 50\n",
    "w1 = torch.randn((ni, nh))/math.sqrt(ni/2)\n",
    "b1 = torch.zeros((nh))\n",
    "w2 = torch.randn((nh, 1))/math.sqrt(nh/2)\n",
    "b2 = torch.zeros(1)"
   ]
  },
  {
   "cell_type": "code",
   "execution_count": 40,
   "metadata": {},
   "outputs": [
    {
     "data": {
      "text/plain": [
       "(tensor(0.0003), tensor(0.0505))"
      ]
     },
     "execution_count": 40,
     "metadata": {},
     "output_type": "execute_result"
    }
   ],
   "source": [
    "w1.mean(), w1.std()"
   ]
  },
  {
   "cell_type": "code",
   "execution_count": 27,
   "metadata": {},
   "outputs": [
    {
     "data": {
      "text/plain": [
       "torch.Size([784, 50])"
      ]
     },
     "execution_count": 27,
     "metadata": {},
     "output_type": "execute_result"
    }
   ],
   "source": [
    "w1.shape"
   ]
  },
  {
   "cell_type": "code",
   "execution_count": 28,
   "metadata": {},
   "outputs": [
    {
     "data": {
      "text/plain": [
       "torch.Size([50000, 784])"
      ]
     },
     "execution_count": 28,
     "metadata": {},
     "output_type": "execute_result"
    }
   ],
   "source": [
    "x_train.shape"
   ]
  },
  {
   "cell_type": "code",
   "execution_count": 47,
   "metadata": {},
   "outputs": [],
   "source": [
    "def lin(x, w, b):\n",
    "    return x@w+b\n",
    "\n",
    "def relu(x):\n",
    "    return torch.clamp(x, 0.) - 0.5"
   ]
  },
  {
   "cell_type": "code",
   "execution_count": 48,
   "metadata": {},
   "outputs": [],
   "source": [
    "t = relu(lin(x_train, w1, b1))\n",
    "t.mean(), t.std()"
   ]
  },
  {
   "cell_type": "code",
   "execution_count": 50,
   "metadata": {},
   "outputs": [],
   "source": [
    "from torch.nn import init"
   ]
  },
  {
   "cell_type": "code",
   "execution_count": 71,
   "metadata": {},
   "outputs": [
    {
     "data": {
      "text/plain": [
       "tensor([[ 0.0204, -0.1071,  0.0575,  ...,  0.0156, -0.0138,  0.0485],\n",
       "        [-0.0912,  0.0439,  0.0484,  ..., -0.0351,  0.0066,  0.0752],\n",
       "        [-0.0552,  0.0526,  0.0356,  ...,  0.0148,  0.0584,  0.0037],\n",
       "        ...,\n",
       "        [-0.0647, -0.0029,  0.0191,  ...,  0.0115, -0.0389, -0.0086],\n",
       "        [-0.0685,  0.0834, -0.0691,  ..., -0.0095,  0.0548,  0.1023],\n",
       "        [ 0.0209,  0.0162, -0.0214,  ..., -0.0051,  0.0751,  0.0189]])"
      ]
     },
     "execution_count": 71,
     "metadata": {},
     "output_type": "execute_result"
    }
   ],
   "source": [
    "init.kaiming_normal_(w1, mode='fan_out')\n",
    "# init.kaiming_uniform_(w1, mode='fan_out')"
   ]
  },
  {
   "cell_type": "code",
   "execution_count": 73,
   "metadata": {},
   "outputs": [
    {
     "data": {
      "text/plain": [
       "torch.Size([784, 50])"
      ]
     },
     "execution_count": 73,
     "metadata": {},
     "output_type": "execute_result"
    }
   ],
   "source": [
    "w1.shape"
   ]
  },
  {
   "cell_type": "code",
   "execution_count": 72,
   "metadata": {},
   "outputs": [
    {
     "data": {
      "text/plain": [
       "(tensor(0.0301), tensor(0.7743))"
      ]
     },
     "execution_count": 72,
     "metadata": {},
     "output_type": "execute_result"
    }
   ],
   "source": [
    "t = relu(lin(x_train, w1, b1))\n",
    "t.mean(), t.std()"
   ]
  },
  {
   "cell_type": "code",
   "execution_count": 76,
   "metadata": {},
   "outputs": [
    {
     "data": {
      "text/plain": [
       "torch.Size([50, 784])"
      ]
     },
     "execution_count": 76,
     "metadata": {},
     "output_type": "execute_result"
    }
   ],
   "source": [
    "torch.nn.Linear(ni, nh).weight.shape"
   ]
  },
  {
   "cell_type": "code",
   "execution_count": 90,
   "metadata": {},
   "outputs": [],
   "source": [
    "torch.nn.Linear??\n",
    "# torch.nn.functional.linear??\n",
    "# init.uniform_??"
   ]
  },
  {
   "cell_type": "code",
   "execution_count": 91,
   "metadata": {},
   "outputs": [],
   "source": [
    "torch.nn.modules.conv._ConvNd.reset_parameters??"
   ]
  },
  {
   "cell_type": "code",
   "execution_count": 97,
   "metadata": {},
   "outputs": [],
   "source": [
    "def model(x):\n",
    "    l1 = relu(lin(x, w1, b1))\n",
    "    print(l1.mean(), l1.std())\n",
    "    l2 = relu(lin(l1, w2, b2))\n",
    "    print(l2.mean(), l2.std())\n",
    "    return l2"
   ]
  },
  {
   "cell_type": "code",
   "execution_count": 98,
   "metadata": {
    "collapsed": true
   },
   "outputs": [
    {
     "name": "stdout",
     "output_type": "stream",
     "text": [
      "tensor(0.0253) tensor(0.7681)\n",
      "tensor(0.3651) tensor(0.7439)\n",
      "tensor(0.0253) tensor(0.7681)\n",
      "tensor(0.3651) tensor(0.7439)\n",
      "tensor(0.0253) tensor(0.7681)\n",
      "tensor(0.3651) tensor(0.7439)\n",
      "tensor(0.0253) tensor(0.7681)\n",
      "tensor(0.3651) tensor(0.7439)\n",
      "tensor(0.0253) tensor(0.7681)\n",
      "tensor(0.3651) tensor(0.7439)\n",
      "tensor(0.0253) tensor(0.7681)\n",
      "tensor(0.3651) tensor(0.7439)\n",
      "tensor(0.0253) tensor(0.7681)\n",
      "tensor(0.3651) tensor(0.7439)\n",
      "tensor(0.0253) tensor(0.7681)\n",
      "tensor(0.3651) tensor(0.7439)\n",
      "tensor(0.0253) tensor(0.7681)\n",
      "tensor(0.3651) tensor(0.7439)\n",
      "tensor(0.0253) tensor(0.7681)\n",
      "tensor(0.3651) tensor(0.7439)\n",
      "tensor(0.0253) tensor(0.7681)\n",
      "tensor(0.3651) tensor(0.7439)\n",
      "tensor(0.0253) tensor(0.7681)\n",
      "tensor(0.3651) tensor(0.7439)\n",
      "tensor(0.0253) tensor(0.7681)\n",
      "tensor(0.3651) tensor(0.7439)\n",
      "tensor(0.0253) tensor(0.7681)\n",
      "tensor(0.3651) tensor(0.7439)\n",
      "tensor(0.0253) tensor(0.7681)\n",
      "tensor(0.3651) tensor(0.7439)\n",
      "tensor(0.0253) tensor(0.7681)\n",
      "tensor(0.3651) tensor(0.7439)\n",
      "tensor(0.0253) tensor(0.7681)\n",
      "tensor(0.3651) tensor(0.7439)\n",
      "tensor(0.0253) tensor(0.7681)\n",
      "tensor(0.3651) tensor(0.7439)\n",
      "tensor(0.0253) tensor(0.7681)\n",
      "tensor(0.3651) tensor(0.7439)\n",
      "tensor(0.0253) tensor(0.7681)\n",
      "tensor(0.3651) tensor(0.7439)\n",
      "tensor(0.0253) tensor(0.7681)\n",
      "tensor(0.3651) tensor(0.7439)\n",
      "tensor(0.0253) tensor(0.7681)\n",
      "tensor(0.3651) tensor(0.7439)\n",
      "tensor(0.0253) tensor(0.7681)\n",
      "tensor(0.3651) tensor(0.7439)\n",
      "tensor(0.0253) tensor(0.7681)\n",
      "tensor(0.3651) tensor(0.7439)\n",
      "tensor(0.0253) tensor(0.7681)\n",
      "tensor(0.3651) tensor(0.7439)\n",
      "tensor(0.0253) tensor(0.7681)\n",
      "tensor(0.3651) tensor(0.7439)\n",
      "tensor(0.0253) tensor(0.7681)\n",
      "tensor(0.3651) tensor(0.7439)\n",
      "tensor(0.0253) tensor(0.7681)\n",
      "tensor(0.3651) tensor(0.7439)\n",
      "tensor(0.0253) tensor(0.7681)\n",
      "tensor(0.3651) tensor(0.7439)\n",
      "tensor(0.0253) tensor(0.7681)\n",
      "tensor(0.3651) tensor(0.7439)\n",
      "tensor(0.0253) tensor(0.7681)\n",
      "tensor(0.3651) tensor(0.7439)\n",
      "tensor(0.0253) tensor(0.7681)\n",
      "tensor(0.3651) tensor(0.7439)\n",
      "tensor(0.0253) tensor(0.7681)\n",
      "tensor(0.3651) tensor(0.7439)\n",
      "tensor(0.0253) tensor(0.7681)\n",
      "tensor(0.3651) tensor(0.7439)\n",
      "tensor(0.0253) tensor(0.7681)\n",
      "tensor(0.3651) tensor(0.7439)\n",
      "tensor(0.0253) tensor(0.7681)\n",
      "tensor(0.3651) tensor(0.7439)\n",
      "tensor(0.0253) tensor(0.7681)\n",
      "tensor(0.3651) tensor(0.7439)\n",
      "tensor(0.0253) tensor(0.7681)\n",
      "tensor(0.3651) tensor(0.7439)\n",
      "tensor(0.0253) tensor(0.7681)\n",
      "tensor(0.3651) tensor(0.7439)\n",
      "tensor(0.0253) tensor(0.7681)\n",
      "tensor(0.3651) tensor(0.7439)\n",
      "tensor(0.0253) tensor(0.7681)\n",
      "tensor(0.3651) tensor(0.7439)\n",
      "tensor(0.0253) tensor(0.7681)\n",
      "tensor(0.3651) tensor(0.7439)\n",
      "tensor(0.0253) tensor(0.7681)\n",
      "tensor(0.3651) tensor(0.7439)\n",
      "tensor(0.0253) tensor(0.7681)\n",
      "tensor(0.3651) tensor(0.7439)\n",
      "tensor(0.0253) tensor(0.7681)\n",
      "tensor(0.3651) tensor(0.7439)\n",
      "tensor(0.0253) tensor(0.7681)\n",
      "tensor(0.3651) tensor(0.7439)\n",
      "tensor(0.0253) tensor(0.7681)\n",
      "tensor(0.3651) tensor(0.7439)\n",
      "tensor(0.0253) tensor(0.7681)\n",
      "tensor(0.3651) tensor(0.7439)\n",
      "tensor(0.0253) tensor(0.7681)\n",
      "tensor(0.3651) tensor(0.7439)\n",
      "tensor(0.0253) tensor(0.7681)\n",
      "tensor(0.3651) tensor(0.7439)\n",
      "tensor(0.0253) tensor(0.7681)\n",
      "tensor(0.3651) tensor(0.7439)\n",
      "tensor(0.0253) tensor(0.7681)\n",
      "tensor(0.3651) tensor(0.7439)\n",
      "tensor(0.0253) tensor(0.7681)\n",
      "tensor(0.3651) tensor(0.7439)\n",
      "tensor(0.0253) tensor(0.7681)\n",
      "tensor(0.3651) tensor(0.7439)\n",
      "tensor(0.0253) tensor(0.7681)\n",
      "tensor(0.3651) tensor(0.7439)\n",
      "tensor(0.0253) tensor(0.7681)\n",
      "tensor(0.3651) tensor(0.7439)\n",
      "tensor(0.0253) tensor(0.7681)\n",
      "tensor(0.3651) tensor(0.7439)\n",
      "tensor(0.0253) tensor(0.7681)\n",
      "tensor(0.3651) tensor(0.7439)\n",
      "tensor(0.0253) tensor(0.7681)\n",
      "tensor(0.3651) tensor(0.7439)\n",
      "tensor(0.0253) tensor(0.7681)\n",
      "tensor(0.3651) tensor(0.7439)\n",
      "tensor(0.0253) tensor(0.7681)\n",
      "tensor(0.3651) tensor(0.7439)\n",
      "tensor(0.0253) tensor(0.7681)\n",
      "tensor(0.3651) tensor(0.7439)\n",
      "tensor(0.0253) tensor(0.7681)\n",
      "tensor(0.3651) tensor(0.7439)\n",
      "tensor(0.0253) tensor(0.7681)\n",
      "tensor(0.3651) tensor(0.7439)\n",
      "tensor(0.0253) tensor(0.7681)\n",
      "tensor(0.3651) tensor(0.7439)\n",
      "tensor(0.0253) tensor(0.7681)\n",
      "tensor(0.3651) tensor(0.7439)\n",
      "tensor(0.0253) tensor(0.7681)\n",
      "tensor(0.3651) tensor(0.7439)\n",
      "tensor(0.0253) tensor(0.7681)\n",
      "tensor(0.3651) tensor(0.7439)\n",
      "tensor(0.0253) tensor(0.7681)\n",
      "tensor(0.3651) tensor(0.7439)\n",
      "tensor(0.0253) tensor(0.7681)\n",
      "tensor(0.3651) tensor(0.7439)\n",
      "8.38 ms ± 632 µs per loop (mean ± std. dev. of 7 runs, 10 loops each)\n"
     ]
    }
   ],
   "source": [
    "%timeit -n 10 _=model(x_valid)"
   ]
  },
  {
   "cell_type": "code",
   "execution_count": 104,
   "metadata": {},
   "outputs": [],
   "source": [
    "def mse(out, tar): return (out.squeeze(-1)-tar.float()).pow(2).mean()"
   ]
  },
  {
   "cell_type": "code",
   "execution_count": 105,
   "metadata": {},
   "outputs": [
    {
     "name": "stdout",
     "output_type": "stream",
     "text": [
      "tensor(0.0253) tensor(0.7681)\n",
      "tensor(0.3651) tensor(0.7439)\n"
     ]
    },
    {
     "data": {
      "text/plain": [
       "tensor(26.0104)"
      ]
     },
     "execution_count": 105,
     "metadata": {},
     "output_type": "execute_result"
    }
   ],
   "source": [
    "mse(model(x_valid), y_valid)"
   ]
  },
  {
   "cell_type": "markdown",
   "metadata": {},
   "source": [
    "#### Backward pass"
   ]
  },
  {
   "cell_type": "code",
   "execution_count": 153,
   "metadata": {},
   "outputs": [],
   "source": [
    "l1 = x_train@w1 + b1\n",
    "l2 = relu(l1)\n",
    "l3 = l2@w2 + b2\n",
    "loss = mse(l3, y_train.float())"
   ]
  },
  {
   "cell_type": "code",
   "execution_count": 160,
   "metadata": {},
   "outputs": [
    {
     "data": {
      "text/plain": [
       "(torch.Size([50000, 50]),\n",
       " torch.Size([50000, 50]),\n",
       " torch.Size([50000, 1]),\n",
       " tensor(22.8813),\n",
       " torch.Size([50000]),\n",
       " torch.Size([50000]))"
      ]
     },
     "execution_count": 160,
     "metadata": {},
     "output_type": "execute_result"
    }
   ],
   "source": [
    "l1.shape, l2.shape, l3.shape, loss, y_train.shape, l3.squeeze().shape"
   ]
  },
  {
   "cell_type": "code",
   "execution_count": 170,
   "metadata": {},
   "outputs": [],
   "source": [
    "l3.g = 2*(l3.squeeze()-y_train.float()).unsqueeze(-1)"
   ]
  },
  {
   "cell_type": "code",
   "execution_count": 171,
   "metadata": {},
   "outputs": [],
   "source": [
    "l2.g = l3.g@w2.t()\n",
    "w2.g = l3.g * l2"
   ]
  },
  {
   "cell_type": "code",
   "execution_count": 176,
   "metadata": {},
   "outputs": [
    {
     "data": {
      "text/plain": [
       "torch.Size([50, 1])"
      ]
     },
     "execution_count": 176,
     "metadata": {},
     "output_type": "execute_result"
    }
   ],
   "source": [
    "w2.shape"
   ]
  },
  {
   "cell_type": "code",
   "execution_count": 150,
   "metadata": {},
   "outputs": [],
   "source": [
    "def loss_grad(inp, out):\n",
    "    inp.g = 2.*(inp.squeeze()-out).unsqueeze(-1)\n",
    "\n",
    "def linear_grad(inp, w, b, out):\n",
    "    inp.g = out.g@w2.t()\n",
    "    w.g = out.g*inp\n",
    "    b.g = out.g\n",
    "\n",
    "def relu_grad(inp, out):\n",
    "    inp.g = out.g * (inp>0).float()"
   ]
  },
  {
   "cell_type": "code",
   "execution_count": 151,
   "metadata": {},
   "outputs": [],
   "source": [
    "def fwd_back_pass(x, y):\n",
    "    l1 = x@w1 + b1\n",
    "    l2 = relu(l1)\n",
    "    l3 = l2@w2 + b2\n",
    "    loss = mse(l3, y)\n",
    "    print(loss)\n",
    "    \n",
    "    loss_grad(l3, y)\n",
    "    linear_grad(l2, w2, b2, l3)\n",
    "    relu_grad(l1, l2)\n",
    "    linear_grad(x, w1, b1, l1)"
   ]
  },
  {
   "cell_type": "code",
   "execution_count": 152,
   "metadata": {
    "collapsed": true
   },
   "outputs": [
    {
     "name": "stdout",
     "output_type": "stream",
     "text": [
      "tensor(22.8813)\n"
     ]
    },
    {
     "ename": "RuntimeError",
     "evalue": "size mismatch, m1: [50000 x 50], m2: [1 x 50] at /opt/conda/conda-bld/pytorch_1549630534704/work/aten/src/TH/generic/THTensorMath.cpp:940",
     "output_type": "error",
     "traceback": [
      "\u001b[0;31m---------------------------------------------------------------------------\u001b[0m",
      "\u001b[0;31mRuntimeError\u001b[0m                              Traceback (most recent call last)",
      "\u001b[0;32m<ipython-input-152-fe94900c5660>\u001b[0m in \u001b[0;36m<module>\u001b[0;34m\u001b[0m\n\u001b[0;32m----> 1\u001b[0;31m \u001b[0mfwd_back_pass\u001b[0m\u001b[0;34m(\u001b[0m\u001b[0mx_train\u001b[0m\u001b[0;34m,\u001b[0m \u001b[0my_train\u001b[0m\u001b[0;34m.\u001b[0m\u001b[0mfloat\u001b[0m\u001b[0;34m(\u001b[0m\u001b[0;34m)\u001b[0m\u001b[0;34m)\u001b[0m\u001b[0;34m\u001b[0m\u001b[0;34m\u001b[0m\u001b[0m\n\u001b[0m",
      "\u001b[0;32m<ipython-input-151-4b8eb55833fe>\u001b[0m in \u001b[0;36mfwd_back_pass\u001b[0;34m(x, y)\u001b[0m\n\u001b[1;32m      9\u001b[0m     \u001b[0mlinear_grad\u001b[0m\u001b[0;34m(\u001b[0m\u001b[0ml2\u001b[0m\u001b[0;34m,\u001b[0m \u001b[0mw2\u001b[0m\u001b[0;34m,\u001b[0m \u001b[0mb2\u001b[0m\u001b[0;34m,\u001b[0m \u001b[0ml3\u001b[0m\u001b[0;34m)\u001b[0m\u001b[0;34m\u001b[0m\u001b[0;34m\u001b[0m\u001b[0m\n\u001b[1;32m     10\u001b[0m     \u001b[0mrelu_grad\u001b[0m\u001b[0;34m(\u001b[0m\u001b[0ml1\u001b[0m\u001b[0;34m,\u001b[0m \u001b[0ml2\u001b[0m\u001b[0;34m)\u001b[0m\u001b[0;34m\u001b[0m\u001b[0;34m\u001b[0m\u001b[0m\n\u001b[0;32m---> 11\u001b[0;31m     \u001b[0mlinear_grad\u001b[0m\u001b[0;34m(\u001b[0m\u001b[0mx\u001b[0m\u001b[0;34m,\u001b[0m \u001b[0mw1\u001b[0m\u001b[0;34m,\u001b[0m \u001b[0mb1\u001b[0m\u001b[0;34m,\u001b[0m \u001b[0ml1\u001b[0m\u001b[0;34m)\u001b[0m\u001b[0;34m\u001b[0m\u001b[0;34m\u001b[0m\u001b[0m\n\u001b[0m",
      "\u001b[0;32m<ipython-input-150-c0584e534d5b>\u001b[0m in \u001b[0;36mlinear_grad\u001b[0;34m(inp, w, b, out)\u001b[0m\n\u001b[1;32m      3\u001b[0m \u001b[0;34m\u001b[0m\u001b[0m\n\u001b[1;32m      4\u001b[0m \u001b[0;32mdef\u001b[0m \u001b[0mlinear_grad\u001b[0m\u001b[0;34m(\u001b[0m\u001b[0minp\u001b[0m\u001b[0;34m,\u001b[0m \u001b[0mw\u001b[0m\u001b[0;34m,\u001b[0m \u001b[0mb\u001b[0m\u001b[0;34m,\u001b[0m \u001b[0mout\u001b[0m\u001b[0;34m)\u001b[0m\u001b[0;34m:\u001b[0m\u001b[0;34m\u001b[0m\u001b[0;34m\u001b[0m\u001b[0m\n\u001b[0;32m----> 5\u001b[0;31m     \u001b[0minp\u001b[0m\u001b[0;34m.\u001b[0m\u001b[0mg\u001b[0m \u001b[0;34m=\u001b[0m \u001b[0mout\u001b[0m\u001b[0;34m.\u001b[0m\u001b[0mg\u001b[0m\u001b[0;34m@\u001b[0m\u001b[0mw2\u001b[0m\u001b[0;34m.\u001b[0m\u001b[0mt\u001b[0m\u001b[0;34m(\u001b[0m\u001b[0;34m)\u001b[0m\u001b[0;34m\u001b[0m\u001b[0;34m\u001b[0m\u001b[0m\n\u001b[0m\u001b[1;32m      6\u001b[0m     \u001b[0mw\u001b[0m\u001b[0;34m.\u001b[0m\u001b[0mg\u001b[0m \u001b[0;34m=\u001b[0m \u001b[0mout\u001b[0m\u001b[0;34m.\u001b[0m\u001b[0mg\u001b[0m\u001b[0;34m*\u001b[0m\u001b[0minp\u001b[0m\u001b[0;34m\u001b[0m\u001b[0;34m\u001b[0m\u001b[0m\n\u001b[1;32m      7\u001b[0m     \u001b[0mb\u001b[0m\u001b[0;34m.\u001b[0m\u001b[0mg\u001b[0m \u001b[0;34m=\u001b[0m \u001b[0mout\u001b[0m\u001b[0;34m.\u001b[0m\u001b[0mg\u001b[0m\u001b[0;34m\u001b[0m\u001b[0;34m\u001b[0m\u001b[0m\n",
      "\u001b[0;31mRuntimeError\u001b[0m: size mismatch, m1: [50000 x 50], m2: [1 x 50] at /opt/conda/conda-bld/pytorch_1549630534704/work/aten/src/TH/generic/THTensorMath.cpp:940"
     ]
    }
   ],
   "source": [
    "fwd_back_pass(x_train, y_train.float())"
   ]
  },
  {
   "cell_type": "code",
   "execution_count": null,
   "metadata": {},
   "outputs": [],
   "source": []
  },
  {
   "cell_type": "code",
   "execution_count": null,
   "metadata": {},
   "outputs": [],
   "source": []
  },
  {
   "cell_type": "code",
   "execution_count": null,
   "metadata": {},
   "outputs": [],
   "source": []
  }
 ],
 "metadata": {
  "kernelspec": {
   "display_name": "fav3p2",
   "language": "python",
   "name": "base"
  },
  "language_info": {
   "codemirror_mode": {
    "name": "ipython",
    "version": 3
   },
   "file_extension": ".py",
   "mimetype": "text/x-python",
   "name": "python",
   "nbconvert_exporter": "python",
   "pygments_lexer": "ipython3",
   "version": "3.6.8"
  }
 },
 "nbformat": 4,
 "nbformat_minor": 2
}
