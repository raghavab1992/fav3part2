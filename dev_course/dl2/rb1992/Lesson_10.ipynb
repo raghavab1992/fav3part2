{
 "cells": [
  {
   "cell_type": "markdown",
   "metadata": {},
   "source": [
    "### Imports"
   ]
  },
  {
   "cell_type": "code",
   "execution_count": 2,
   "metadata": {},
   "outputs": [],
   "source": [
    "import os, sys\n",
    "module_path = os.path.abspath(os.path.join('..'))\n",
    "if module_path not in sys.path:\n",
    "    sys.path.append(module_path)"
   ]
  },
  {
   "cell_type": "code",
   "execution_count": 1,
   "metadata": {},
   "outputs": [],
   "source": [
    "%load_ext autoreload\n",
    "%autoreload 2\n",
    "\n",
    "%matplotlib inline"
   ]
  },
  {
   "cell_type": "code",
   "execution_count": 2,
   "metadata": {},
   "outputs": [],
   "source": [
    "import torch\n",
    "import matplotlib.pyplot as plt"
   ]
  },
  {
   "cell_type": "markdown",
   "metadata": {
    "heading_collapsed": true
   },
   "source": [
    "### Callbacks"
   ]
  },
  {
   "cell_type": "code",
   "execution_count": 7,
   "metadata": {
    "hidden": true
   },
   "outputs": [],
   "source": [
    "import time\n",
    "from functools import partial"
   ]
  },
  {
   "cell_type": "code",
   "execution_count": 32,
   "metadata": {
    "hidden": true
   },
   "outputs": [],
   "source": [
    "def rand_fn(cb):\n",
    "    for i in range(5):\n",
    "        cb(i, i*2)\n",
    "        time.sleep(1)"
   ]
  },
  {
   "cell_type": "code",
   "execution_count": 33,
   "metadata": {
    "hidden": true
   },
   "outputs": [],
   "source": [
    "def printf(i, j, excl):\n",
    "    print(f'{excl}_epoch_{i}')"
   ]
  },
  {
   "cell_type": "code",
   "execution_count": 34,
   "metadata": {
    "hidden": true
   },
   "outputs": [
    {
     "name": "stdout",
     "output_type": "stream",
     "text": [
      "Lets see!!_epoch_0\n",
      "Lets see!!_epoch_1\n",
      "Lets see!!_epoch_2\n",
      "Lets see!!_epoch_3\n",
      "Lets see!!_epoch_4\n"
     ]
    }
   ],
   "source": [
    "rand_fn(partial(printf,excl='Lets see!!'))"
   ]
  },
  {
   "cell_type": "code",
   "execution_count": 35,
   "metadata": {
    "hidden": true
   },
   "outputs": [
    {
     "name": "stdout",
     "output_type": "stream",
     "text": [
      "Wow lambda with epoch 0, test 0\n",
      "Wow lambda with epoch 1, test 2\n",
      "Wow lambda with epoch 2, test 4\n",
      "Wow lambda with epoch 3, test 6\n",
      "Wow lambda with epoch 4, test 8\n"
     ]
    }
   ],
   "source": [
    "rand_fn(lambda i,j=9: print(f'Wow lambda with epoch {i}, test {j}'))"
   ]
  },
  {
   "cell_type": "code",
   "execution_count": 37,
   "metadata": {
    "hidden": true
   },
   "outputs": [],
   "source": [
    "p1 = partial(printf, 1,2)"
   ]
  },
  {
   "cell_type": "code",
   "execution_count": null,
   "metadata": {
    "hidden": true
   },
   "outputs": [],
   "source": []
  },
  {
   "cell_type": "code",
   "execution_count": 70,
   "metadata": {
    "hidden": true
   },
   "outputs": [],
   "source": [
    "x = torch.randn(100)\n",
    "y = 2*x+4\n",
    "z = 2*x**3+4"
   ]
  },
  {
   "cell_type": "code",
   "execution_count": 71,
   "metadata": {
    "collapsed": true,
    "hidden": true
   },
   "outputs": [
    {
     "data": {
      "text/plain": [
       "(tensor([-1.2090, -0.6950, -0.1367,  0.8105,  1.4805, -0.1381, -1.2899, -0.8167,\n",
       "         -2.5611, -0.9711, -0.5440, -2.0192,  0.1588, -0.0712,  0.4977,  0.5592,\n",
       "         -0.0106,  1.5847, -1.2351,  0.7648,  0.5892,  0.7746,  1.1947, -0.2134,\n",
       "          0.1729,  0.5730, -1.1746,  1.2534, -1.4749, -0.5804, -0.0325, -0.4682,\n",
       "         -2.0134, -0.1455,  0.8796,  0.7226,  0.4653,  0.1597, -0.4037, -1.5664,\n",
       "          0.2742,  0.1851, -0.1658,  0.3117,  0.5379, -1.0156, -0.1305,  0.4906,\n",
       "         -0.1360, -0.5546,  1.5158, -1.6576,  2.6146,  1.5203,  0.2613, -0.6651,\n",
       "         -0.6697,  0.3326,  0.4230, -1.9040,  1.4942, -0.1302, -0.2260,  1.2331,\n",
       "          0.9112,  0.1802, -0.9162,  0.4393, -1.7377, -0.8772, -1.2436,  0.1902,\n",
       "         -0.4614,  0.3282,  0.9795, -0.0897, -0.4019,  0.0164, -0.7823,  0.7566,\n",
       "          0.1378, -0.0822,  0.4286, -0.8362, -0.5680,  0.6239, -0.4077,  0.0524,\n",
       "         -0.2799, -0.1841, -0.6943,  0.0986,  0.5529, -1.9049, -0.3928,  0.6429,\n",
       "          0.1944, -0.4001,  1.0286, -0.3083]),\n",
       " tensor([ 1.5820,  2.6101,  3.7266,  5.6210,  6.9611,  3.7238,  1.4202,  2.3666,\n",
       "         -1.1221,  2.0577,  2.9120, -0.0384,  4.3175,  3.8575,  4.9954,  5.1184,\n",
       "          3.9788,  7.1695,  1.5299,  5.5296,  5.1784,  5.5493,  6.3895,  3.5733,\n",
       "          4.3458,  5.1460,  1.6509,  6.5069,  1.0503,  2.8392,  3.9350,  3.0637,\n",
       "         -0.0269,  3.7090,  5.7591,  5.4453,  4.9305,  4.3193,  3.1926,  0.8671,\n",
       "          4.5483,  4.3702,  3.6683,  4.6234,  5.0758,  1.9689,  3.7390,  4.9813,\n",
       "          3.7280,  2.8909,  7.0316,  0.6849,  9.2292,  7.0406,  4.5227,  2.6698,\n",
       "          2.6607,  4.6653,  4.8461,  0.1920,  6.9883,  3.7397,  3.5479,  6.4661,\n",
       "          5.8223,  4.3604,  2.1675,  4.8787,  0.5246,  2.2456,  1.5127,  4.3805,\n",
       "          3.0772,  4.6564,  5.9591,  3.8207,  3.1962,  4.0329,  2.4354,  5.5132,\n",
       "          4.2756,  3.8356,  4.8571,  2.3275,  2.8640,  5.2479,  3.1845,  4.1047,\n",
       "          3.4402,  3.6319,  2.6115,  4.1972,  5.1058,  0.1901,  3.2144,  5.2859,\n",
       "          4.3887,  3.1999,  6.0571,  3.3835]),\n",
       " tensor([  0.4657,   3.3287,   3.9949,   5.0649,  10.4907,   3.9947,  -0.2922,\n",
       "           2.9104, -29.5964,   2.1682,   3.6780, -12.4647,   4.0080,   3.9993,\n",
       "           4.2465,   4.3497,   4.0000,  11.9598,   0.2321,   4.8946,   4.4091,\n",
       "           4.9297,   7.4106,   3.9806,   4.0103,   4.3763,   0.7591,   7.9385,\n",
       "          -2.4164,   3.6089,   3.9999,   3.7948, -12.3245,   3.9938,   5.3609,\n",
       "           4.7547,   4.2014,   4.0081,   3.8684,  -3.6872,   4.0412,   4.0127,\n",
       "           3.9909,   4.0606,   4.3112,   1.9051,   3.9956,   4.2362,   3.9950,\n",
       "           3.6589,  10.9654,  -5.1085,  39.7469,  11.0276,   4.0357,   3.4116,\n",
       "           3.3994,   4.0736,   4.1514,  -9.8052,  10.6715,   3.9956,   3.9769,\n",
       "           7.7496,   5.5129,   4.0117,   2.4616,   4.1696,  -6.4945,   2.6499,\n",
       "           0.1530,   4.0138,   3.8036,   4.0707,   5.8797,   3.9986,   3.8702,\n",
       "           4.0000,   3.0424,   4.8663,   4.0052,   3.9989,   4.1574,   2.8305,\n",
       "           3.6335,   4.4858,   3.8644,   4.0003,   3.9562,   3.9875,   3.3307,\n",
       "           4.0019,   4.3380,  -9.8253,   3.8788,   4.5315,   4.0147,   3.8719,\n",
       "           6.1763,   3.9414]))"
      ]
     },
     "execution_count": 71,
     "metadata": {},
     "output_type": "execute_result"
    }
   ],
   "source": [
    "x, y, z"
   ]
  },
  {
   "cell_type": "code",
   "execution_count": 72,
   "metadata": {
    "hidden": true
   },
   "outputs": [
    {
     "data": {
      "text/plain": [
       "<matplotlib.collections.PathCollection at 0x7f5e56c3cf60>"
      ]
     },
     "execution_count": 72,
     "metadata": {},
     "output_type": "execute_result"
    },
    {
     "data": {
      "image/png": "[encoded data removed]",
      "text/plain": [
       "<Figure size 432x288 with 1 Axes>"
      ]
     },
     "metadata": {
      "needs_background": "light"
     },
     "output_type": "display_data"
    }
   ],
   "source": [
    "plt.scatter(x, y)\n",
    "plt.scatter(x, z)"
   ]
  },
  {
   "cell_type": "code",
   "execution_count": 73,
   "metadata": {
    "hidden": true
   },
   "outputs": [],
   "source": [
    "def cov(x, y): \n",
    "    t = ((x*y).mean()) - (x.mean()*y.mean())\n",
    "    return t"
   ]
  },
  {
   "cell_type": "code",
   "execution_count": 123,
   "metadata": {
    "hidden": true
   },
   "outputs": [],
   "source": [
    "def pcorr(x, y):\n",
    "    covar = cov(x,y)\n",
    "    stdx, stdy = ((x-x.mean()).pow(2).mean()).sqrt(), ((y-y.mean()).pow(2).mean()).sqrt()\n",
    "#     print(covar, stdx, stdy)\n",
    "    print(covar/(stdx*stdy))\n",
    "    return covar/(stdx*stdy)"
   ]
  },
  {
   "cell_type": "code",
   "execution_count": 81,
   "metadata": {
    "hidden": true
   },
   "outputs": [
    {
     "data": {
      "text/plain": [
       "(tensor(0.8344), tensor(1.6689), tensor(4.6252))"
      ]
     },
     "execution_count": 81,
     "metadata": {},
     "output_type": "execute_result"
    }
   ],
   "source": [
    "cov(x, x), cov(x, y), cov(x, z)"
   ]
  },
  {
   "cell_type": "code",
   "execution_count": 85,
   "metadata": {
    "hidden": true
   },
   "outputs": [
    {
     "name": "stdout",
     "output_type": "stream",
     "text": [
      "tensor(0.8344) tensor(0.9135) tensor(0.9135)\n",
      "tensor(1.6689) tensor(0.9135) tensor(1.8269)\n",
      "tensor(4.6252) tensor(0.9135) tensor(6.3036)\n",
      "tensor(314.2314) tensor(0.9135) tensor(747.8719)\n"
     ]
    },
    {
     "data": {
      "text/plain": [
       "(tensor(1.), tensor(1.), tensor(0.8032), tensor(0.4600))"
      ]
     },
     "execution_count": 85,
     "metadata": {},
     "output_type": "execute_result"
    }
   ],
   "source": [
    "pcorr(x, x), pcorr(x, y), pcorr(x, z), pcorr(x, x**9)"
   ]
  },
  {
   "cell_type": "code",
   "execution_count": 97,
   "metadata": {
    "hidden": true
   },
   "outputs": [
    {
     "name": "stdout",
     "output_type": "stream",
     "text": [
      "tensor(0.8344) tensor(0.9135) tensor(0.9135)\n"
     ]
    },
    {
     "data": {
      "text/plain": [
       "array(1., dtype=float32)"
      ]
     },
     "execution_count": 97,
     "metadata": {},
     "output_type": "execute_result"
    }
   ],
   "source": [
    "pcorr(x, x)."
   ]
  },
  {
   "cell_type": "code",
   "execution_count": 124,
   "metadata": {
    "collapsed": true,
    "hidden": true
   },
   "outputs": [
    {
     "name": "stdout",
     "output_type": "stream",
     "text": [
      "tensor(nan)\n",
      "tensor(1.)\n",
      "tensor(-0.2148)\n",
      "tensor(0.8032)\n",
      "tensor(-0.1513)\n",
      "tensor(0.6145)\n",
      "tensor(-0.0741)\n",
      "tensor(0.5122)\n",
      "tensor(-0.0183)\n",
      "tensor(0.4600)\n",
      "tensor(0.0186)\n",
      "tensor(0.4326)\n",
      "tensor(0.0435)\n",
      "tensor(0.4176)\n",
      "tensor(0.0611)\n",
      "tensor(0.4090)\n",
      "tensor(0.0745)\n",
      "tensor(0.4036)\n",
      "tensor(0.0855)\n",
      "tensor(0.4001)\n",
      "tensor(0.0949)\n",
      "tensor(0.3975)\n",
      "tensor(0.1034)\n",
      "tensor(0.3953)\n",
      "tensor(0.1112)\n",
      "tensor(0.3935)\n",
      "tensor(0.1186)\n",
      "tensor(0.3917)\n",
      "tensor(0.1257)\n",
      "tensor(0.3899)\n"
     ]
    }
   ],
   "source": [
    "n=30\n",
    "a, b = list(range(n)), [pcorr(x, x.pow(n)).numpy() for n in range(n)]"
   ]
  },
  {
   "cell_type": "code",
   "execution_count": 119,
   "metadata": {
    "hidden": true
   },
   "outputs": [
    {
     "data": {
      "text/plain": [
       "<matplotlib.collections.PathCollection at 0x7f5e5786aef0>"
      ]
     },
     "execution_count": 119,
     "metadata": {},
     "output_type": "execute_result"
    },
    {
     "data": {
      "image/png": "[encoded data removed]",
      "text/plain": [
       "<Figure size 432x288 with 1 Axes>"
      ]
     },
     "metadata": {
      "needs_background": "light"
     },
     "output_type": "display_data"
    }
   ],
   "source": [
    "plt.scatter(a, b)"
   ]
  },
  {
   "cell_type": "markdown",
   "metadata": {
    "heading_collapsed": true
   },
   "source": [
    "### CNN on cuda"
   ]
  },
  {
   "cell_type": "code",
   "execution_count": 4,
   "metadata": {
    "hidden": true
   },
   "outputs": [],
   "source": [
    "#export\n",
    "from exp.nb_05b import *\n",
    "torch.set_num_threads(2)"
   ]
  },
  {
   "cell_type": "code",
   "execution_count": 5,
   "metadata": {
    "hidden": true
   },
   "outputs": [
    {
     "data": {
      "text/plain": [
       "(tensor(3.0614e-05), tensor(1.))"
      ]
     },
     "execution_count": 5,
     "metadata": {},
     "output_type": "execute_result"
    }
   ],
   "source": [
    "x_train,y_train,x_valid,y_valid = get_data()\n",
    "\n",
    "#export\n",
    "def normalize_to(train, valid):\n",
    "    m,s = train.mean(),train.std()\n",
    "    return normalize(train, m, s), normalize(valid, m, s)\n",
    "\n",
    "x_train,x_valid = normalize_to(x_train,x_valid)\n",
    "train_ds,valid_ds = Dataset(x_train, y_train),Dataset(x_valid, y_valid)\n",
    "\n",
    "x_train.mean(),x_train.std()"
   ]
  },
  {
   "cell_type": "code",
   "execution_count": 6,
   "metadata": {
    "hidden": true
   },
   "outputs": [],
   "source": [
    "nh,bs = 50,512\n",
    "c = y_train.max().item()+1\n",
    "loss_func = F.cross_entropy\n",
    "\n",
    "data = DataBunch(*get_dls(train_ds, valid_ds, bs), c)"
   ]
  },
  {
   "cell_type": "code",
   "execution_count": 7,
   "metadata": {
    "hidden": true
   },
   "outputs": [],
   "source": [
    "# def convout(i, k, p, s):\n",
    "#     return (i-k+2*p)//s + 1\n",
    "\n",
    "# # convout(28, 5, 2, 2), padding(28, 5, 2, 14),convout(14, 3, 1, 2),convout(7, 3, 1, 2)\n",
    "# convout(2, 3, 1, 2)"
   ]
  },
  {
   "cell_type": "code",
   "execution_count": 8,
   "metadata": {
    "hidden": true
   },
   "outputs": [],
   "source": [
    "# #export\n",
    "class Lambda(nn.Module):\n",
    "    def __init__(self, func):\n",
    "        super().__init__()\n",
    "        self.func = func\n",
    "\n",
    "    def forward(self, x): return self.func(x)\n",
    "\n",
    "def flatten(x):      return x.view(x.shape[0], -1)\n",
    "def mnist_resize(x): return x.view(-1, 1, 28, 28)\n",
    "\n",
    "def get_cnn_model(data):\n",
    "    return nn.Sequential(\n",
    "        Lambda(mnist_resize),\n",
    "        nn.Conv2d( 1, 8, 5, padding=2,stride=2), nn.ReLU(), #14\n",
    "        nn.Conv2d( 8,16, 3, padding=1,stride=2), nn.ReLU(), # 7\n",
    "        nn.Conv2d(16,32, 3, padding=1,stride=2), nn.ReLU(), # 4\n",
    "        nn.Conv2d(32,32, 3, padding=1,stride=2), nn.ReLU(), # 2\n",
    "        nn.AdaptiveAvgPool2d(1),\n",
    "        Lambda(flatten),\n",
    "        nn.Linear(32,data.c)\n",
    "    )\n",
    "\n",
    "model = get_cnn_model(data)"
   ]
  },
  {
   "cell_type": "code",
   "execution_count": 9,
   "metadata": {
    "hidden": true
   },
   "outputs": [],
   "source": [
    "cbfs = [Recorder, partial(AvgStatsCallback,accuracy)]\n",
    "opt = optim.SGD(model.parameters(), lr=0.4)\n",
    "learn = Learner(model, opt, loss_func, data)\n",
    "run = Runner(cb_funcs=cbfs)\n",
    "\n",
    "# %time run.fit(1, learn)"
   ]
  },
  {
   "cell_type": "markdown",
   "metadata": {
    "heading_collapsed": true
   },
   "source": [
    "### CUDA, Refactoring"
   ]
  },
  {
   "cell_type": "code",
   "execution_count": 10,
   "metadata": {
    "hidden": true
   },
   "outputs": [],
   "source": [
    "# Somewhat more flexible way\n",
    "device = torch.device('cuda',0)\n",
    "\n",
    "class CudaCallback(Callback):\n",
    "    def __init__(self,device): self.device=device\n",
    "    def begin_fit(self): self.model.to(device)\n",
    "    def begin_batch(self): self.run.xb,self.run.yb = self.xb.to(device),self.yb.to(device)\n",
    "\n",
    "# Somewhat less flexible, but quite convenient\n",
    "torch.cuda.set_device(device)\n",
    "\n",
    "#export\n",
    "class CudaCallback(Callback):\n",
    "    def begin_fit(self): self.model.cuda()\n",
    "    def begin_batch(self): self.run.xb,self.run.yb = self.xb.cuda(),self.yb.cuda()\n",
    "\n",
    "cbfs.append(CudaCallback)\n",
    "\n",
    "model = get_cnn_model(data)\n",
    "\n",
    "opt = optim.SGD(model.parameters(), lr=0.4)\n",
    "learn = Learner(model, opt, loss_func, data)\n",
    "run = Runner(cb_funcs=cbfs)\n",
    "\n",
    "# %time run.fit(3, learn)"
   ]
  },
  {
   "cell_type": "markdown",
   "metadata": {
    "heading_collapsed": true
   },
   "source": [
    "### Refactoring"
   ]
  },
  {
   "cell_type": "code",
   "execution_count": 11,
   "metadata": {
    "hidden": true
   },
   "outputs": [],
   "source": [
    "def conv2d(ni, nf, ks=3, stride=2):\n",
    "    return nn.Sequential(\n",
    "        nn.Conv2d(ni, nf, ks, padding=ks//2, stride=stride), nn.ReLU())\n",
    "\n",
    "#export\n",
    "class BatchTransformXCallback(Callback):\n",
    "    _order=2\n",
    "    def __init__(self, tfm): self.tfm = tfm\n",
    "    def begin_batch(self): self.run.xb = self.tfm(self.xb)\n",
    "\n",
    "def view_tfm(*size):\n",
    "    def _inner(x): return x.view(*((-1,)+size))\n",
    "    return _inner\n",
    "\n",
    "mnist_view = view_tfm(1,28,28)\n",
    "cbfs.append(partial(BatchTransformXCallback, mnist_view))\n",
    "\n",
    "nfs = [8,16,32,32]\n",
    "def get_cnn_layers(data, nfs):\n",
    "    nfs = [1] + nfs\n",
    "    return [\n",
    "        conv2d(nfs[i], nfs[i+1], 5 if i==0 else 3)\n",
    "        for i in range(len(nfs)-1)\n",
    "    ] + [nn.AdaptiveAvgPool2d(1), Lambda(flatten), nn.Linear(nfs[-1], data.c)]\n",
    "\n",
    "def get_cnn_model(data, nfs): return nn.Sequential(*get_cnn_layers(data, nfs))\n",
    "\n",
    "def get_runner(model, data, lr=0.6, cbs=None, opt_func=None, loss_func = F.cross_entropy):\n",
    "    if opt_func is None: opt_func = optim.SGD\n",
    "    opt = opt_func(model.parameters(), lr=lr)\n",
    "    learn = Learner(model, opt, loss_func, data)\n",
    "    return learn, Runner(cb_funcs=listify(cbs))\n",
    "\n",
    "model = get_cnn_model(data, nfs)\n",
    "learn,run = get_runner(model, data, lr=0.4, cbs=cbfs)"
   ]
  },
  {
   "cell_type": "code",
   "execution_count": 12,
   "metadata": {
    "hidden": true
   },
   "outputs": [
    {
     "name": "stdout",
     "output_type": "stream",
     "text": [
      "train: [1.957883125, tensor(0.3072, device='cuda:0')]\n",
      "valid: [0.71319453125, tensor(0.7679, device='cuda:0')]\n",
      "train: [0.4622051953125, tensor(0.8576, device='cuda:0')]\n",
      "valid: [0.2350505126953125, tensor(0.9316, device='cuda:0')]\n",
      "train: [0.19021236328125, tensor(0.9436, device='cuda:0')]\n",
      "valid: [0.14325621337890626, tensor(0.9576, device='cuda:0')]\n"
     ]
    }
   ],
   "source": [
    "run.fit(3, learn)"
   ]
  },
  {
   "cell_type": "markdown",
   "metadata": {
    "heading_collapsed": true
   },
   "source": [
    "### Hooks"
   ]
  },
  {
   "cell_type": "code",
   "execution_count": 22,
   "metadata": {
    "hidden": true
   },
   "outputs": [],
   "source": [
    "#manual insertions"
   ]
  },
  {
   "cell_type": "code",
   "execution_count": 95,
   "metadata": {
    "collapsed": true,
    "hidden": true
   },
   "outputs": [
    {
     "data": {
      "text/plain": [
       "Sequential(\n",
       "  (0): Sequential(\n",
       "    (0): Conv2d(1, 8, kernel_size=(5, 5), stride=(2, 2), padding=(2, 2))\n",
       "    (1): ReLU()\n",
       "  )\n",
       "  (1): Sequential(\n",
       "    (0): Conv2d(8, 16, kernel_size=(3, 3), stride=(2, 2), padding=(1, 1))\n",
       "    (1): ReLU()\n",
       "  )\n",
       "  (2): Sequential(\n",
       "    (0): Conv2d(16, 32, kernel_size=(3, 3), stride=(2, 2), padding=(1, 1))\n",
       "    (1): ReLU()\n",
       "  )\n",
       "  (3): Sequential(\n",
       "    (0): Conv2d(32, 32, kernel_size=(3, 3), stride=(2, 2), padding=(1, 1))\n",
       "    (1): ReLU()\n",
       "  )\n",
       "  (4): AdaptiveAvgPool2d(output_size=1)\n",
       "  (5): Lambda()\n",
       "  (6): Linear(in_features=32, out_features=10, bias=True)\n",
       ")"
      ]
     },
     "execution_count": 95,
     "metadata": {},
     "output_type": "execute_result"
    }
   ],
   "source": [
    "model"
   ]
  },
  {
   "cell_type": "code",
   "execution_count": 96,
   "metadata": {
    "hidden": true
   },
   "outputs": [],
   "source": [
    "actv_mean = [[] for _ in range(10)]\n",
    "actv_std = [[] for _ in range(10)]"
   ]
  },
  {
   "cell_type": "code",
   "execution_count": 97,
   "metadata": {
    "hidden": true
   },
   "outputs": [],
   "source": [
    "# This is the exact calculation to be done for each layer\n",
    "def actv_stats(i, m, ip, op):\n",
    "#     print(i, type(m), ip[0].shape, op.shape)\n",
    "    if m.training:\n",
    "        actv_mean[i].append(op.data.mean())\n",
    "        actv_std[i].append(op.data.std())"
   ]
  },
  {
   "cell_type": "code",
   "execution_count": 14,
   "metadata": {
    "code_folding": [
     0
    ],
    "hidden": true
   },
   "outputs": [],
   "source": [
    "# This is for registering the hook with the above fn for a specific layer\n",
    "def conv_check(m, count=0):\n",
    "    global count1\n",
    "    count1 = count\n",
    "    for l in m.children():\n",
    "        if isinstance(l, nn.Conv2d): \n",
    "#             m.register_forward_hook(actv_stats)\n",
    "            count1 += 1\n",
    "        print(type(l), count1)\n",
    "        conv_check(l, count1)\n",
    "#         print('recursivedone')"
   ]
  },
  {
   "cell_type": "code",
   "execution_count": 15,
   "metadata": {
    "code_folding": [
     0
    ],
    "hidden": true
   },
   "outputs": [],
   "source": [
    "def conv_check_clos(m, count=0):\n",
    "    def _inner(l, count):\n",
    "        if isinstance(l, nn.Conv2d):\n",
    "            count += 1\n",
    "        print('inner1:',type(l), count)\n",
    "        return count\n",
    "    def _inner2(m, count1):\n",
    "        for l in m.children():\n",
    "            count1 = _inner(l, count1)\n",
    "            print('inner2:',type(l), count1)\n",
    "            _inner2(l, count1)\n",
    "    _inner2(m, count)"
   ]
  },
  {
   "cell_type": "code",
   "execution_count": 16,
   "metadata": {
    "collapsed": true,
    "hidden": true
   },
   "outputs": [
    {
     "name": "stdout",
     "output_type": "stream",
     "text": [
      "inner1: <class 'torch.nn.modules.container.Sequential'> 0\n",
      "inner2: <class 'torch.nn.modules.container.Sequential'> 0\n",
      "inner1: <class 'torch.nn.modules.conv.Conv2d'> 1\n",
      "inner2: <class 'torch.nn.modules.conv.Conv2d'> 1\n",
      "inner1: <class 'torch.nn.modules.activation.ReLU'> 1\n",
      "inner2: <class 'torch.nn.modules.activation.ReLU'> 1\n",
      "inner1: <class 'torch.nn.modules.container.Sequential'> 0\n",
      "inner2: <class 'torch.nn.modules.container.Sequential'> 0\n",
      "inner1: <class 'torch.nn.modules.conv.Conv2d'> 1\n",
      "inner2: <class 'torch.nn.modules.conv.Conv2d'> 1\n",
      "inner1: <class 'torch.nn.modules.activation.ReLU'> 1\n",
      "inner2: <class 'torch.nn.modules.activation.ReLU'> 1\n",
      "inner1: <class 'torch.nn.modules.container.Sequential'> 0\n",
      "inner2: <class 'torch.nn.modules.container.Sequential'> 0\n",
      "inner1: <class 'torch.nn.modules.conv.Conv2d'> 1\n",
      "inner2: <class 'torch.nn.modules.conv.Conv2d'> 1\n",
      "inner1: <class 'torch.nn.modules.activation.ReLU'> 1\n",
      "inner2: <class 'torch.nn.modules.activation.ReLU'> 1\n",
      "inner1: <class 'torch.nn.modules.container.Sequential'> 0\n",
      "inner2: <class 'torch.nn.modules.container.Sequential'> 0\n",
      "inner1: <class 'torch.nn.modules.conv.Conv2d'> 1\n",
      "inner2: <class 'torch.nn.modules.conv.Conv2d'> 1\n",
      "inner1: <class 'torch.nn.modules.activation.ReLU'> 1\n",
      "inner2: <class 'torch.nn.modules.activation.ReLU'> 1\n",
      "inner1: <class 'torch.nn.modules.pooling.AdaptiveAvgPool2d'> 0\n",
      "inner2: <class 'torch.nn.modules.pooling.AdaptiveAvgPool2d'> 0\n",
      "inner1: <class '__main__.Lambda'> 0\n",
      "inner2: <class '__main__.Lambda'> 0\n",
      "inner1: <class 'torch.nn.modules.linear.Linear'> 0\n",
      "inner2: <class 'torch.nn.modules.linear.Linear'> 0\n"
     ]
    }
   ],
   "source": [
    "conv_check_clos(model)"
   ]
  },
  {
   "cell_type": "code",
   "execution_count": 98,
   "metadata": {
    "code_folding": [],
    "hidden": true
   },
   "outputs": [
    {
     "name": "stdout",
     "output_type": "stream",
     "text": [
      "Conv2d(1, 8, kernel_size=(5, 5), stride=(2, 2), padding=(2, 2)) 0\n",
      "ReLU() 1\n",
      "Conv2d(8, 16, kernel_size=(3, 3), stride=(2, 2), padding=(1, 1)) 2\n",
      "ReLU() 3\n",
      "Conv2d(16, 32, kernel_size=(3, 3), stride=(2, 2), padding=(1, 1)) 4\n",
      "ReLU() 5\n",
      "Conv2d(32, 32, kernel_size=(3, 3), stride=(2, 2), padding=(1, 1)) 6\n",
      "ReLU() 7\n",
      "AdaptiveAvgPool2d(output_size=1) 8\n",
      "Linear(in_features=32, out_features=10, bias=True) 9\n"
     ]
    }
   ],
   "source": [
    "class conv_check_class():\n",
    "    def __init__(self, count=0):\n",
    "        self.count = count\n",
    "        self.stored = []\n",
    "        \n",
    "    def update_hook(self, m):\n",
    "        for l in m.children():\n",
    "            if isinstance(l, (nn.Conv2d, nn.ReLU, nn.AdaptiveAvgPool2d, nn.Linear)):\n",
    "#             if 1==1:\n",
    "                print(l, self.count)\n",
    "                f = partial(actv_stats, self.count)\n",
    "                self.stored.append(l.register_forward_hook(f))\n",
    "                self.count += 1\n",
    "            self.update_hook(l)\n",
    "        return self.stored\n",
    "\n",
    "hconv = conv_check_class()\n",
    "\n",
    "hstored1 = hconv.update_hook(model)"
   ]
  },
  {
   "cell_type": "code",
   "execution_count": 99,
   "metadata": {
    "hidden": true
   },
   "outputs": [
    {
     "name": "stdout",
     "output_type": "stream",
     "text": [
      "train: [1.89094828125, tensor(0.3324, device='cuda:0')]\n",
      "valid: [0.58856064453125, tensor(0.8125, device='cuda:0')]\n",
      "train: [0.3477845703125, tensor(0.8943, device='cuda:0')]\n",
      "valid: [0.18861728515625, tensor(0.9425, device='cuda:0')]\n",
      "train: [0.17796701171875, tensor(0.9461, device='cuda:0')]\n",
      "valid: [0.1265625732421875, tensor(0.9631, device='cuda:0')]\n"
     ]
    }
   ],
   "source": [
    "run.fit(3, learn)"
   ]
  },
  {
   "cell_type": "code",
   "execution_count": 100,
   "metadata": {
    "hidden": true
   },
   "outputs": [],
   "source": [
    "import numpy as np\n",
    "actv_mean1 = np.array(actv_mean)\n",
    "actv_std1 = np.array(actv_std)"
   ]
  },
  {
   "cell_type": "code",
   "execution_count": 101,
   "metadata": {
    "hidden": true
   },
   "outputs": [
    {
     "data": {
      "text/plain": [
       "<matplotlib.legend.Legend at 0x7fdd81deacc0>"
      ]
     },
     "execution_count": 101,
     "metadata": {},
     "output_type": "execute_result"
    },
    {
     "data": {
      "image/png": "[encoded data removed]",
      "text/plain": [
       "<Figure size 432x288 with 1 Axes>"
      ]
     },
     "metadata": {
      "needs_background": "light"
     },
     "output_type": "display_data"
    }
   ],
   "source": [
    "for o in actv_mean1[[0, 2, 4, 6],:]: plt.plot(o)\n",
    "plt.legend([0, 2, 4, 6])"
   ]
  },
  {
   "cell_type": "code",
   "execution_count": 102,
   "metadata": {
    "hidden": true
   },
   "outputs": [
    {
     "data": {
      "text/plain": [
       "<matplotlib.legend.Legend at 0x7fdd81e3ce10>"
      ]
     },
     "execution_count": 102,
     "metadata": {},
     "output_type": "execute_result"
    },
    {
     "data": {
      "image/png": "[encoded data removed]",
      "text/plain": [
       "<Figure size 432x288 with 1 Axes>"
      ]
     },
     "metadata": {
      "needs_background": "light"
     },
     "output_type": "display_data"
    }
   ],
   "source": [
    "for o in actv_mean1[[1, 3, 5, 7],:]: plt.plot(o)\n",
    "plt.legend([1, 3, 5, 7])"
   ]
  },
  {
   "cell_type": "code",
   "execution_count": 103,
   "metadata": {
    "hidden": true
   },
   "outputs": [
    {
     "data": {
      "text/plain": [
       "<matplotlib.legend.Legend at 0x7fdd81f68128>"
      ]
     },
     "execution_count": 103,
     "metadata": {},
     "output_type": "execute_result"
    },
    {
     "data": {
      "image/png": "[encoded data removed]",
      "text/plain": [
       "<Figure size 432x288 with 1 Axes>"
      ]
     },
     "metadata": {
      "needs_background": "light"
     },
     "output_type": "display_data"
    }
   ],
   "source": [
    "for o in actv_mean1[[8, 9],:]: plt.plot(o)\n",
    "plt.legend([8, 9])"
   ]
  },
  {
   "cell_type": "code",
   "execution_count": 104,
   "metadata": {
    "hidden": true
   },
   "outputs": [
    {
     "data": {
      "text/plain": [
       "<matplotlib.legend.Legend at 0x7fdd81a8fa90>"
      ]
     },
     "execution_count": 104,
     "metadata": {},
     "output_type": "execute_result"
    },
    {
     "data": {
      "image/png": "[encoded data removed]",
      "text/plain": [
       "<Figure size 432x288 with 1 Axes>"
      ]
     },
     "metadata": {
      "needs_background": "light"
     },
     "output_type": "display_data"
    }
   ],
   "source": [
    "for o in actv_std1[[0, 2, 4, 6],:]: plt.plot(o)\n",
    "plt.legend([0, 2, 4, 6])"
   ]
  },
  {
   "cell_type": "code",
   "execution_count": 105,
   "metadata": {
    "hidden": true
   },
   "outputs": [
    {
     "data": {
      "text/plain": [
       "<matplotlib.legend.Legend at 0x7fdd80a0da90>"
      ]
     },
     "execution_count": 105,
     "metadata": {},
     "output_type": "execute_result"
    },
    {
     "data": {
      "image/png": "[encoded data removed]",
      "text/plain": [
       "<Figure size 432x288 with 1 Axes>"
      ]
     },
     "metadata": {
      "needs_background": "light"
     },
     "output_type": "display_data"
    }
   ],
   "source": [
    "for o in actv_std1[[1, 3, 5, 7],:]: plt.plot(o)\n",
    "plt.legend([1, 3, 5, 7])"
   ]
  },
  {
   "cell_type": "code",
   "execution_count": 106,
   "metadata": {
    "hidden": true
   },
   "outputs": [
    {
     "data": {
      "text/plain": [
       "<matplotlib.legend.Legend at 0x7fdd809f9898>"
      ]
     },
     "execution_count": 106,
     "metadata": {},
     "output_type": "execute_result"
    },
    {
     "data": {
      "image/png": "[encoded data removed]",
      "text/plain": [
       "<Figure size 432x288 with 1 Axes>"
      ]
     },
     "metadata": {
      "needs_background": "light"
     },
     "output_type": "display_data"
    }
   ],
   "source": [
    "for o in actv_std1[[8, 9],:]: plt.plot(o)\n",
    "plt.legend([8, 9])"
   ]
  },
  {
   "cell_type": "code",
   "execution_count": 107,
   "metadata": {
    "hidden": true
   },
   "outputs": [],
   "source": [
    "# conv, relu activations, histograms"
   ]
  },
  {
   "cell_type": "code",
   "execution_count": 109,
   "metadata": {
    "hidden": true
   },
   "outputs": [],
   "source": [
    "for h in hstored1: h.remove()"
   ]
  },
  {
   "cell_type": "markdown",
   "metadata": {
    "heading_collapsed": true,
    "hidden": true
   },
   "source": [
    "#### List of Hooks"
   ]
  },
  {
   "cell_type": "code",
   "execution_count": 12,
   "metadata": {
    "hidden": true
   },
   "outputs": [],
   "source": [
    "class ListContainer():\n",
    "    def __init__(self, items):\n",
    "        self.items = listify(items)\n",
    "        \n",
    "    def __len__(self): return len(self.items)\n",
    "    \n",
    "    def __getitem__(self, idx):\n",
    "        if is_listy(idx): \n",
    "            if isinstance(idx[0], bool): return [self.items[cnt] for cnt,i in enumerate(idx) if i]\n",
    "            else: return [self.items[i] for i in idx]\n",
    "        else : return self.items[idx]\n",
    "        \n",
    "    def __iter__(self): return iter(self.items)\n",
    "    \n",
    "    def __setitem__(self, i, o): self.items[i]=o\n",
    "    \n",
    "    def __delitem__(self, i): del self.items[i]\n",
    "    \n",
    "    def __repr__(self): return f'list containing {len(self.items)} elements'"
   ]
  },
  {
   "cell_type": "code",
   "execution_count": 223,
   "metadata": {
    "hidden": true
   },
   "outputs": [],
   "source": [
    "x=ListContainer(('12', '212', '2123'))"
   ]
  },
  {
   "cell_type": "code",
   "execution_count": 217,
   "metadata": {
    "hidden": true
   },
   "outputs": [],
   "source": [
    "x.__setitem__(2, '1212')"
   ]
  },
  {
   "cell_type": "code",
   "execution_count": 219,
   "metadata": {
    "hidden": true
   },
   "outputs": [],
   "source": [
    "x.__delitem__(0)"
   ]
  },
  {
   "cell_type": "code",
   "execution_count": 220,
   "metadata": {
    "hidden": true
   },
   "outputs": [
    {
     "data": {
      "text/plain": [
       "['212', '1212']"
      ]
     },
     "execution_count": 220,
     "metadata": {},
     "output_type": "execute_result"
    }
   ],
   "source": [
    "x.items"
   ]
  },
  {
   "cell_type": "code",
   "execution_count": 228,
   "metadata": {
    "hidden": true
   },
   "outputs": [
    {
     "data": {
      "text/plain": [
       "['12', '2123']"
      ]
     },
     "execution_count": 228,
     "metadata": {},
     "output_type": "execute_result"
    }
   ],
   "source": [
    "x[True,False, True]"
   ]
  },
  {
   "cell_type": "code",
   "execution_count": 230,
   "metadata": {
    "hidden": true
   },
   "outputs": [
    {
     "data": {
      "text/plain": [
       "'12'"
      ]
     },
     "execution_count": 230,
     "metadata": {},
     "output_type": "execute_result"
    }
   ],
   "source": [
    "x[tensor(0)]"
   ]
  },
  {
   "cell_type": "code",
   "execution_count": 13,
   "metadata": {
    "code_folding": [],
    "hidden": true
   },
   "outputs": [],
   "source": [
    "#export\n",
    "def children(m): return list(m.children())\n",
    "\n",
    "class Hook():\n",
    "    def __init__(self, m, f): self.hook = m.register_forward_hook(partial(f, self))\n",
    "    def remove(self): self.hook.remove()\n",
    "    def __del__(self): self.remove()\n",
    "\n",
    "def append_stats(hook, mod, inp, outp):\n",
    "    if not hasattr(hook,'stats'): hook.stats = ([],[])\n",
    "    means,stds = hook.stats\n",
    "    if mod.training:\n",
    "        means.append(outp.data.mean())\n",
    "        stds .append(outp.data.std())\n",
    "#export\n",
    "class ListContainer():\n",
    "    def __init__(self, items): self.items = listify(items)\n",
    "    def __getitem__(self, idx):\n",
    "        try: return self.items[idx]\n",
    "        except TypeError:\n",
    "            if isinstance(idx[0],bool):\n",
    "                assert len(idx)==len(self) # bool mask\n",
    "                return [o for m,o in zip(idx,self.items) if m]\n",
    "            return [self.items[i] for i in idx]\n",
    "    def __len__(self): return len(self.items)\n",
    "    def __iter__(self): return iter(self.items)\n",
    "    def __setitem__(self, i, o): self.items[i] = o\n",
    "    def __delitem__(self, i): del(self.items[i])\n",
    "    def __repr__(self):\n",
    "        res = f'{self.__class__.__name__} ({len(self)} items)\\n{self.items[:10]}'\n",
    "        if len(self)>10: res = res[:-1]+ '...]'\n",
    "        return res\n",
    "    \n",
    "#export\n",
    "from torch.nn import init\n",
    "\n",
    "class Hooks(ListContainer):\n",
    "    def __init__(self, ms, f): \n",
    "        super().__init__([Hook(m, f) for m in ms])\n",
    "    def __enter__(self, *args): return self\n",
    "    def __exit__ (self, *args): self.remove()\n",
    "    def __del__(self): self.remove()\n",
    "\n",
    "    def __delitem__(self, i):\n",
    "        self[i].remove()\n",
    "        super().__delitem__(i)\n",
    "        \n",
    "    def remove(self):\n",
    "        for h in self: h.remove()"
   ]
  },
  {
   "cell_type": "code",
   "execution_count": 14,
   "metadata": {
    "hidden": true
   },
   "outputs": [],
   "source": [
    "model = get_cnn_model(data, nfs).cuda()\n",
    "learn,run = get_runner(model, data, lr=0.9, cbs=cbfs)"
   ]
  },
  {
   "cell_type": "code",
   "execution_count": 50,
   "metadata": {
    "hidden": true
   },
   "outputs": [
    {
     "data": {
      "text/plain": [
       "Hooks (12 items)\n",
       "[<__main__.Hook object at 0x7fdd8c25f7f0>, <__main__.Hook object at 0x7fdd8c25f780>, <__main__.Hook object at 0x7fdd8c25f6a0>, <__main__.Hook object at 0x7fdd8c25f5c0>, <__main__.Hook object at 0x7fdd8c25f5f8>, <__main__.Hook object at 0x7fdd8c25f550>, <__main__.Hook object at 0x7fdd8c25f4e0>, <__main__.Hook object at 0x7fdd8c25f0b8>, <__main__.Hook object at 0x7fdd8c25f470>, <__main__.Hook object at 0x7fdd8c25f320>...]"
      ]
     },
     "execution_count": 50,
     "metadata": {},
     "output_type": "execute_result"
    }
   ],
   "source": [
    "hooks = Hooks(model, append_stats)\n",
    "hooks"
   ]
  },
  {
   "cell_type": "code",
   "execution_count": 85,
   "metadata": {
    "hidden": true
   },
   "outputs": [],
   "source": [
    "hooks.remove()"
   ]
  },
  {
   "cell_type": "markdown",
   "metadata": {
    "heading_collapsed": true,
    "hidden": true
   },
   "source": [
    "##### small exps understanding iters"
   ]
  },
  {
   "cell_type": "code",
   "execution_count": 55,
   "metadata": {
    "hidden": true
   },
   "outputs": [
    {
     "data": {
      "text/plain": [
       "__main__.Hooks"
      ]
     },
     "execution_count": 55,
     "metadata": {},
     "output_type": "execute_result"
    }
   ],
   "source": [
    "type(hooks)"
   ]
  },
  {
   "cell_type": "code",
   "execution_count": 68,
   "metadata": {
    "hidden": true
   },
   "outputs": [],
   "source": [
    "class dummy():\n",
    "    def __init__(self, item):\n",
    "        self.item = item\n",
    "    def __len__(self):\n",
    "        return len(self.item)\n",
    "    \n",
    "    def __repr__(self):\n",
    "        res = f'{self.__class__.__name__} ({len(self)} item)\\n{self.item[:10]}'\n",
    "        return res\n",
    "        \n",
    "class dummy2(dummy):\n",
    "    def __init__(self, items):\n",
    "        super().__init__([dummy(item) for item in items ])    "
   ]
  },
  {
   "cell_type": "code",
   "execution_count": 70,
   "metadata": {
    "hidden": true
   },
   "outputs": [],
   "source": [
    "t = dummy2(['checkl']*4)"
   ]
  },
  {
   "cell_type": "code",
   "execution_count": 82,
   "metadata": {
    "hidden": true
   },
   "outputs": [
    {
     "data": {
      "text/plain": [
       "dummy (6 item)\n",
       "checkl"
      ]
     },
     "execution_count": 82,
     "metadata": {},
     "output_type": "execute_result"
    }
   ],
   "source": [
    "t.item[2]"
   ]
  },
  {
   "cell_type": "code",
   "execution_count": 27,
   "metadata": {
    "hidden": true
   },
   "outputs": [
    {
     "data": {
      "text/plain": [
       "Sequential(\n",
       "  (0): Sequential(\n",
       "    (0): Conv2d(1, 8, kernel_size=(5, 5), stride=(2, 2), padding=(2, 2))\n",
       "    (1): ReLU()\n",
       "  )\n",
       "  (1): Sequential(\n",
       "    (0): Conv2d(8, 16, kernel_size=(3, 3), stride=(2, 2), padding=(1, 1))\n",
       "    (1): ReLU()\n",
       "  )\n",
       "  (2): Sequential(\n",
       "    (0): Conv2d(16, 32, kernel_size=(3, 3), stride=(2, 2), padding=(1, 1))\n",
       "    (1): ReLU()\n",
       "  )\n",
       "  (3): Sequential(\n",
       "    (0): Conv2d(32, 32, kernel_size=(3, 3), stride=(2, 2), padding=(1, 1))\n",
       "    (1): ReLU()\n",
       "  )\n",
       "  (4): AdaptiveAvgPool2d(output_size=1)\n",
       "  (5): Lambda()\n",
       "  (6): Linear(in_features=32, out_features=10, bias=True)\n",
       ")"
      ]
     },
     "execution_count": 27,
     "metadata": {},
     "output_type": "execute_result"
    }
   ],
   "source": [
    "model"
   ]
  },
  {
   "cell_type": "code",
   "execution_count": 26,
   "metadata": {
    "hidden": true
   },
   "outputs": [
    {
     "data": {
      "text/plain": [
       "Hooks (7 items)\n",
       "[<__main__.Hook object at 0x7fdd8c1ca6d8>, <__main__.Hook object at 0x7fdd8c1ca978>, <__main__.Hook object at 0x7fdd8c422ba8>, <__main__.Hook object at 0x7fdd8c422c88>, <__main__.Hook object at 0x7fdd8c422da0>, <__main__.Hook object at 0x7fdd8c422b38>, <__main__.Hook object at 0x7fdd8c422e10>]"
      ]
     },
     "execution_count": 26,
     "metadata": {},
     "output_type": "execute_result"
    }
   ],
   "source": [
    "hooks"
   ]
  },
  {
   "cell_type": "markdown",
   "metadata": {
    "heading_collapsed": true,
    "hidden": true
   },
   "source": [
    "##### Back"
   ]
  },
  {
   "cell_type": "code",
   "execution_count": 86,
   "metadata": {
    "hidden": true
   },
   "outputs": [
    {
     "name": "stdout",
     "output_type": "stream",
     "text": [
      "tensor(0.1805, device='cuda:0', grad_fn=<MeanBackward0>) tensor(0.3178, device='cuda:0', grad_fn=<StdBackward0>)\n",
      "tensor(0.4675, device='cuda:0', grad_fn=<MeanBackward0>) tensor(1.0025, device='cuda:0', grad_fn=<StdBackward0>)\n"
     ]
    }
   ],
   "source": [
    "x,y = next(iter(data.train_dl))\n",
    "x = mnist_resize(x).cuda()\n",
    "\n",
    "x.mean(),x.std()\n",
    "\n",
    "p = model[0](x)\n",
    "print(p.mean(),p.std())\n",
    "\n",
    "for l in model:\n",
    "    if isinstance(l, nn.Sequential):\n",
    "        init.kaiming_normal_(l[0].weight)\n",
    "        l[0].bias.data.zero_()\n",
    "\n",
    "p = model[0](x)\n",
    "print(p.mean(),p.std())"
   ]
  },
  {
   "cell_type": "markdown",
   "metadata": {
    "heading_collapsed": true,
    "hidden": true
   },
   "source": [
    "#### Hist"
   ]
  },
  {
   "cell_type": "code",
   "execution_count": 24,
   "metadata": {
    "hidden": true
   },
   "outputs": [],
   "source": [
    "def append_stats(hook, mod, inp, outp):\n",
    "    if not hasattr(hook,'stats'): hook.stats = ([],[],[])\n",
    "    means,stds,hists = hook.stats\n",
    "    if mod.training:\n",
    "        means.append(outp.data.mean().cpu())\n",
    "        stds .append(outp.data.std().cpu())\n",
    "        hists.append(outp.data.cpu().histc(40,0,10)) #histc isn't implemented on the GPU\n",
    "        \n",
    "model = get_cnn_model(data, nfs).cuda()\n",
    "learn,run = get_runner(model, data, lr=0.9, cbs=cbfs)\n",
    "\n",
    "for l in model:\n",
    "    if isinstance(l, nn.Sequential):\n",
    "        init.kaiming_normal_(l[0].weight)\n",
    "        l[0].bias.data.zero_()"
   ]
  },
  {
   "cell_type": "code",
   "execution_count": 25,
   "metadata": {
    "hidden": true
   },
   "outputs": [
    {
     "name": "stdout",
     "output_type": "stream",
     "text": [
      "train: [1.33313421875, tensor(0.5723, device='cuda:0')]\n",
      "valid: [0.2653849609375, tensor(0.9224, device='cuda:0')]\n"
     ]
    }
   ],
   "source": [
    "with Hooks(model, append_stats) as hooks: run.fit(1, learn)"
   ]
  },
  {
   "cell_type": "code",
   "execution_count": 17,
   "metadata": {
    "hidden": true
   },
   "outputs": [],
   "source": [
    "t1=hooks[0]"
   ]
  },
  {
   "cell_type": "code",
   "execution_count": 19,
   "metadata": {
    "hidden": true
   },
   "outputs": [
    {
     "data": {
      "text/plain": [
       "40"
      ]
     },
     "execution_count": 19,
     "metadata": {},
     "output_type": "execute_result"
    }
   ],
   "source": [
    "len(t1.stats[2][0])"
   ]
  },
  {
   "cell_type": "code",
   "execution_count": 38,
   "metadata": {
    "hidden": true
   },
   "outputs": [
    {
     "data": {
      "text/plain": [
       "tensor([[4.9372e+05, 4.9077e+05, 4.9609e+05,  ..., 3.3880e+05, 3.3874e+05,\n",
       "         2.2225e+05],\n",
       "        [9.8098e+04, 1.0342e+05, 1.0359e+05,  ..., 8.3240e+04, 8.3239e+04,\n",
       "         5.4230e+04],\n",
       "        [7.6365e+04, 7.5276e+04, 7.5324e+04,  ..., 9.3519e+04, 9.3135e+04,\n",
       "         5.7287e+04],\n",
       "        ...,\n",
       "        [0.0000e+00, 0.0000e+00, 0.0000e+00,  ..., 2.2000e+02, 1.3100e+02,\n",
       "         1.3700e+02],\n",
       "        [0.0000e+00, 0.0000e+00, 0.0000e+00,  ..., 1.7600e+02, 9.4000e+01,\n",
       "         1.0600e+02],\n",
       "        [0.0000e+00, 0.0000e+00, 0.0000e+00,  ..., 1.1900e+02, 6.9000e+01,\n",
       "         5.6000e+01]])"
      ]
     },
     "execution_count": 38,
     "metadata": {},
     "output_type": "execute_result"
    }
   ],
   "source": [
    "t"
   ]
  },
  {
   "cell_type": "code",
   "execution_count": 40,
   "metadata": {
    "hidden": true
   },
   "outputs": [
    {
     "data": {
      "text/plain": [
       "torch.Size([40, 98])"
      ]
     },
     "execution_count": 40,
     "metadata": {},
     "output_type": "execute_result"
    }
   ],
   "source": [
    "t.shape"
   ]
  },
  {
   "cell_type": "code",
   "execution_count": 73,
   "metadata": {
    "hidden": true
   },
   "outputs": [
    {
     "data": {
      "text/plain": [
       "tensor([[6.1498e-01, 6.1131e-01, 6.1793e-01,  ..., 4.2213e-01, 4.2200e-01,\n",
       "         4.2195e-01],\n",
       "        [1.2219e-01, 1.2883e-01, 1.2903e-01,  ..., 1.0372e-01, 1.0370e-01,\n",
       "         1.0296e-01],\n",
       "        [9.5121e-02, 9.3765e-02, 9.3825e-02,  ..., 1.1652e-01, 1.1603e-01,\n",
       "         1.0876e-01],\n",
       "        ...,\n",
       "        [0.0000e+00, 0.0000e+00, 0.0000e+00,  ..., 2.7412e-04, 1.6320e-04,\n",
       "         2.6010e-04],\n",
       "        [0.0000e+00, 0.0000e+00, 0.0000e+00,  ..., 2.1929e-04, 1.1710e-04,\n",
       "         2.0124e-04],\n",
       "        [0.0000e+00, 0.0000e+00, 0.0000e+00,  ..., 1.4827e-04, 8.5959e-05,\n",
       "         1.0632e-04]])"
      ]
     },
     "execution_count": 73,
     "metadata": {},
     "output_type": "execute_result"
    }
   ],
   "source": [
    "t/t.sum(dim=0).unsqueeze(0)"
   ]
  },
  {
   "cell_type": "code",
   "execution_count": 26,
   "metadata": {
    "hidden": true
   },
   "outputs": [],
   "source": [
    "t=torch.stack(hooks[0].stats[2]).t().float()"
   ]
  },
  {
   "cell_type": "code",
   "execution_count": 166,
   "metadata": {
    "hidden": true
   },
   "outputs": [
    {
     "data": {
      "text/plain": [
       "tensor([251.8111, 243.5017, 273.7857, 284.8589, 274.8803, 284.5366, 270.5398,\n",
       "        291.6339, 259.9235, 262.1779, 288.2370, 285.2852, 291.5260, 277.6511,\n",
       "        295.8062, 284.7162, 298.2117, 285.4803, 293.4277, 289.3548, 290.7386,\n",
       "        292.0014, 290.6313, 292.9819, 200.2332, 229.3359, 224.3498, 216.1972,\n",
       "        301.4565, 302.0923, 302.0127, 303.1362, 303.1775, 303.9331, 304.4315,\n",
       "        303.9088, 305.1615, 304.7551, 268.1440, 271.3652, 277.0861, 293.4761,\n",
       "        305.3237, 312.2903, 311.7312, 314.7014, 314.6419, 313.8931, 315.2707,\n",
       "        317.6677, 318.3716, 315.4821, 308.8746, 311.1998, 314.5747, 317.5499,\n",
       "        318.2152, 317.5591, 319.5114, 307.9389, 313.4597, 314.9713, 290.2546,\n",
       "        284.8245, 295.8150, 307.3593, 309.9408, 305.9018, 297.0680, 306.2454,\n",
       "        307.3970, 311.1239, 313.4704, 315.3575, 310.9887, 307.0809, 313.6784,\n",
       "        311.4209, 309.6801, 307.5875, 308.4310, 306.7231, 309.2258, 305.9720,\n",
       "        308.5490, 310.0266, 285.4426, 307.0323, 310.5867, 311.6470, 310.7939,\n",
       "        304.4779, 307.8756, 306.7178, 313.4989, 305.5155, 308.7790, 285.7747])"
      ]
     },
     "execution_count": 166,
     "metadata": {},
     "output_type": "execute_result"
    }
   ],
   "source": [
    "torch.stack(hooks[0].stats[2]).t().float().log1p().sum(dim=0)"
   ]
  },
  {
   "cell_type": "code",
   "execution_count": 130,
   "metadata": {
    "hidden": true
   },
   "outputs": [
    {
     "data": {
      "text/plain": [
       "tensor([0., 0., 0., 0., 0., 0., 0., 0., 0., 1.])"
      ]
     },
     "execution_count": 130,
     "metadata": {},
     "output_type": "execute_result"
    }
   ],
   "source": [
    "tensor(10.).histc(10, 0, 10)"
   ]
  },
  {
   "cell_type": "code",
   "execution_count": 31,
   "metadata": {
    "hidden": true
   },
   "outputs": [
    {
     "data": {
      "image/png": "[encoded data removed]",
      "text/plain": [
       "<Figure size 1080x432 with 4 Axes>"
      ]
     },
     "metadata": {
      "needs_background": "light"
     },
     "output_type": "display_data"
    }
   ],
   "source": [
    "# Thanks to @ste for initial version of histogram plotting code\n",
    "def get_hist(h): return torch.stack(h.stats[2]).t().float().log1p()\n",
    "fig,axes = plt.subplots(2,2, figsize=(15,6))\n",
    "\n",
    "for ax,h in zip(axes.flatten(), hooks[:4]):\n",
    "    ax.imshow(get_hist(h), origin='lower')\n",
    "    ax.axis('off')\n",
    "plt.tight_layout()"
   ]
  },
  {
   "cell_type": "code",
   "execution_count": 79,
   "metadata": {
    "hidden": true
   },
   "outputs": [
    {
     "data": {
      "image/png": "[encoded data removed]",
      "text/plain": [
       "<Figure size 1080x432 with 4 Axes>"
      ]
     },
     "metadata": {
      "needs_background": "light"
     },
     "output_type": "display_data"
    }
   ],
   "source": [
    "# Thanks to @ste for initial version of histogram plotting code\n",
    "def get_hist1(h): \n",
    "    x=torch.stack(h.stats[2]).t().float()\n",
    "    return x/x.sum(dim=0).unsqueeze(0)\n",
    "fig,axes = plt.subplots(2,2, figsize=(15,6))\n",
    "\n",
    "for ax,h in zip(axes.flatten(), hooks[:4]):\n",
    "    ax.imshow(get_hist1(h), origin='lower')\n",
    "    ax.axis('off')\n",
    "plt.tight_layout()"
   ]
  },
  {
   "cell_type": "code",
   "execution_count": 5,
   "metadata": {
    "hidden": true
   },
   "outputs": [
    {
     "name": "stdout",
     "output_type": "stream",
     "text": [
      "<class '_io.TextIOWrapper'>\n"
     ]
    }
   ],
   "source": [
    "with open('/data/home/h216520/Desktop/fastai_work/OCR.ipynb') as f:\n",
    "    x=f.read()\n",
    "    print(type(f))"
   ]
  },
  {
   "cell_type": "code",
   "execution_count": 40,
   "metadata": {
    "hidden": true
   },
   "outputs": [],
   "source": [
    "files=[]\n",
    "for i in range(972):\n",
    "    files.append(open('/data/home/h216520/Desktop/fastai_work/fav3part2/azure-pipelines.yml', 'w'))"
   ]
  },
  {
   "cell_type": "markdown",
   "metadata": {},
   "source": [
    "### Batch_Norm"
   ]
  },
  {
   "cell_type": "code",
   "execution_count": 3,
   "metadata": {},
   "outputs": [
    {
     "name": "stdout",
     "output_type": "stream",
     "text": [
      "The autoreload extension is already loaded. To reload it, use:\n",
      "  %reload_ext autoreload\n"
     ]
    }
   ],
   "source": [
    "%load_ext autoreload\n",
    "%autoreload 2\n",
    "\n",
    "%matplotlib inline\n",
    "\n",
    "#export\n",
    "from exp.nb_06 import *"
   ]
  },
  {
   "cell_type": "markdown",
   "metadata": {
    "heading_collapsed": true
   },
   "source": [
    "#### Without"
   ]
  },
  {
   "cell_type": "code",
   "execution_count": 4,
   "metadata": {
    "hidden": true
   },
   "outputs": [],
   "source": [
    "x_train,y_train,x_valid,y_valid = get_data()\n",
    "\n",
    "x_train,x_valid = normalize_to(x_train,x_valid)\n",
    "train_ds,valid_ds = Dataset(x_train, y_train),Dataset(x_valid, y_valid)\n",
    "\n",
    "nh,bs = 50,512\n",
    "c = y_train.max().item()+1\n",
    "loss_func = F.cross_entropy\n",
    "\n",
    "data = DataBunch(*get_dls(train_ds, valid_ds, bs), c)\n",
    "\n",
    "mnist_view = view_tfm(1,28,28)\n",
    "cbfs = [Recorder,\n",
    "        partial(AvgStatsCallback,accuracy),\n",
    "        CudaCallback,\n",
    "        partial(BatchTransformXCallback, mnist_view)]\n",
    "\n",
    "nfs = [8,16,32,64,64]"
   ]
  },
  {
   "cell_type": "code",
   "execution_count": 34,
   "metadata": {
    "hidden": true
   },
   "outputs": [
    {
     "name": "stdout",
     "output_type": "stream",
     "text": [
      "train: [2.32049953125, tensor(0.1030, device='cuda:0')]\n",
      "valid: [2.3168169921875, tensor(0.1107, device='cuda:0')]\n",
      "train: [2.31149015625, tensor(0.1144, device='cuda:0')]\n",
      "valid: [2.3080009765625, tensor(0.1242, device='cuda:0')]\n",
      "train: [2.30316546875, tensor(0.1294, device='cuda:0')]\n",
      "valid: [2.2997416015625, tensor(0.1415, device='cuda:0')]\n",
      "train: [2.295225625, tensor(0.1493, device='cuda:0')]\n",
      "valid: [2.291699609375, tensor(0.1621, device='cuda:0')]\n",
      "train: [2.2874015625, tensor(0.1741, device='cuda:0')]\n",
      "valid: [2.28366171875, tensor(0.1880, device='cuda:0')]\n",
      "CPU times: user 4.68 s, sys: 783 ms, total: 5.47 s\n",
      "Wall time: 5.46 s\n"
     ]
    }
   ],
   "source": [
    "learn,run = get_learn_run(nfs, data, 0.001, conv_layer, cbs=cbfs)\n",
    "%time run.fit(5, learn)"
   ]
  },
  {
   "cell_type": "code",
   "execution_count": 20,
   "metadata": {
    "hidden": true
   },
   "outputs": [
    {
     "name": "stdout",
     "output_type": "stream",
     "text": [
      "train: [2.24780421875, tensor(0.1886, device='cuda:0')]\n",
      "valid: [2.1536158203125, tensor(0.3965, device='cuda:0')]\n",
      "train: [1.8626628125, tensor(0.5124, device='cuda:0')]\n",
      "valid: [1.30739404296875, tensor(0.6825, device='cuda:0')]\n",
      "train: [0.90143234375, tensor(0.7524, device='cuda:0')]\n",
      "valid: [0.592249560546875, tensor(0.8408, device='cuda:0')]\n",
      "train: [0.5342010546875, tensor(0.8445, device='cuda:0')]\n",
      "valid: [0.418200537109375, tensor(0.8825, device='cuda:0')]\n",
      "train: [0.41388015625, tensor(0.8786, device='cuda:0')]\n",
      "valid: [0.3439680908203125, tensor(0.8999, device='cuda:0')]\n",
      "CPU times: user 4.94 s, sys: 731 ms, total: 5.67 s\n",
      "Wall time: 5.5 s\n"
     ]
    }
   ],
   "source": [
    "learn,run = get_learn_run(nfs, data, 0.01, conv_layer, cbs=cbfs)\n",
    "%time run.fit(5, learn)"
   ]
  },
  {
   "cell_type": "code",
   "execution_count": 22,
   "metadata": {
    "hidden": true
   },
   "outputs": [
    {
     "name": "stdout",
     "output_type": "stream",
     "text": [
      "train: [0.947094296875, tensor(0.7096, device='cuda:0')]\n",
      "valid: [0.294803076171875, tensor(0.9129, device='cuda:0')]\n",
      "train: [0.27221607421875, tensor(0.9189, device='cuda:0')]\n",
      "valid: [0.20140330810546875, tensor(0.9408, device='cuda:0')]\n",
      "train: [0.193566875, tensor(0.9415, device='cuda:0')]\n",
      "valid: [0.1408010498046875, tensor(0.9574, device='cuda:0')]\n",
      "train: [0.139719189453125, tensor(0.9578, device='cuda:0')]\n",
      "valid: [0.11855823974609375, tensor(0.9652, device='cuda:0')]\n",
      "train: [0.1144638671875, tensor(0.9646, device='cuda:0')]\n",
      "valid: [0.1184726806640625, tensor(0.9656, device='cuda:0')]\n",
      "CPU times: user 4.63 s, sys: 813 ms, total: 5.44 s\n",
      "Wall time: 5.43 s\n"
     ]
    }
   ],
   "source": [
    "learn,run = get_learn_run(nfs, data, 0.1, conv_layer, cbs=cbfs)\n",
    "%time run.fit(5, learn)"
   ]
  },
  {
   "cell_type": "code",
   "execution_count": 26,
   "metadata": {
    "hidden": true
   },
   "outputs": [
    {
     "name": "stdout",
     "output_type": "stream",
     "text": [
      "train: [1.52849234375, tensor(0.4951, device='cuda:0')]\n",
      "valid: [0.258629443359375, tensor(0.9233, device='cuda:0')]\n",
      "train: [0.1755623828125, tensor(0.9466, device='cuda:0')]\n",
      "valid: [0.10831990966796876, tensor(0.9673, device='cuda:0')]\n",
      "train: [0.3946256640625, tensor(0.8899, device='cuda:0')]\n",
      "valid: [0.20109129638671874, tensor(0.9412, device='cuda:0')]\n",
      "train: [0.147959248046875, tensor(0.9545, device='cuda:0')]\n",
      "valid: [0.11161932373046875, tensor(0.9675, device='cuda:0')]\n",
      "train: [0.089335869140625, tensor(0.9718, device='cuda:0')]\n",
      "valid: [0.0848570068359375, tensor(0.9736, device='cuda:0')]\n",
      "CPU times: user 4.67 s, sys: 743 ms, total: 5.41 s\n",
      "Wall time: 5.41 s\n"
     ]
    }
   ],
   "source": [
    "learn,run = get_learn_run(nfs, data, .5, conv_layer, cbs=cbfs)\n",
    "%time run.fit(5, learn)"
   ]
  },
  {
   "cell_type": "code",
   "execution_count": 28,
   "metadata": {
    "hidden": true
   },
   "outputs": [
    {
     "name": "stdout",
     "output_type": "stream",
     "text": [
      "train: [1.80311265625, tensor(0.3841, device='cuda:0')]\n",
      "valid: [0.575915478515625, tensor(0.7950, device='cuda:0')]\n",
      "train: [0.30229171875, tensor(0.9086, device='cuda:0')]\n",
      "valid: [0.1453071044921875, tensor(0.9553, device='cuda:0')]\n",
      "train: [0.127481943359375, tensor(0.9607, device='cuda:0')]\n",
      "valid: [0.1177689697265625, tensor(0.9649, device='cuda:0')]\n",
      "train: [0.099764501953125, tensor(0.9695, device='cuda:0')]\n",
      "valid: [0.1353005615234375, tensor(0.9580, device='cuda:0')]\n",
      "train: [0.0720773095703125, tensor(0.9778, device='cuda:0')]\n",
      "valid: [0.09465933837890625, tensor(0.9733, device='cuda:0')]\n",
      "CPU times: user 4.7 s, sys: 785 ms, total: 5.49 s\n",
      "Wall time: 5.48 s\n"
     ]
    }
   ],
   "source": [
    "learn,run = get_learn_run(nfs, data, .75, conv_layer, cbs=cbfs)\n",
    "%time run.fit(5, learn)"
   ]
  },
  {
   "cell_type": "code",
   "execution_count": 32,
   "metadata": {
    "hidden": true
   },
   "outputs": [
    {
     "name": "stdout",
     "output_type": "stream",
     "text": [
      "train: [1.598471875, tensor(0.4413, device='cuda:0')]\n",
      "valid: [0.2738348388671875, tensor(0.9152, device='cuda:0')]\n",
      "train: [0.1992318359375, tensor(0.9393, device='cuda:0')]\n",
      "valid: [0.14196317138671874, tensor(0.9588, device='cuda:0')]\n",
      "train: [0.10347560546875, tensor(0.9686, device='cuda:0')]\n",
      "valid: [0.08896378784179687, tensor(0.9736, device='cuda:0')]\n",
      "train: [0.072380390625, tensor(0.9773, device='cuda:0')]\n",
      "valid: [0.0813375, tensor(0.9746, device='cuda:0')]\n",
      "train: [0.06082970703125, tensor(0.9809, device='cuda:0')]\n",
      "valid: [0.085568017578125, tensor(0.9732, device='cuda:0')]\n",
      "CPU times: user 4.8 s, sys: 719 ms, total: 5.52 s\n",
      "Wall time: 5.51 s\n"
     ]
    }
   ],
   "source": [
    "learn,run = get_learn_run(nfs, data, .85, conv_layer, cbs=cbfs)\n",
    "%time run.fit(5, learn)"
   ]
  },
  {
   "cell_type": "code",
   "execution_count": 15,
   "metadata": {
    "hidden": true
   },
   "outputs": [
    {
     "name": "stdout",
     "output_type": "stream",
     "text": [
      "train: [1.45778390625, tensor(0.5134, device='cuda:0')]\n",
      "valid: [0.3280900146484375, tensor(0.9017, device='cuda:0')]\n",
      "train: [0.20329685546875, tensor(0.9391, device='cuda:0')]\n",
      "valid: [0.12246651611328126, tensor(0.9615, device='cuda:0')]\n",
      "train: [0.114012373046875, tensor(0.9648, device='cuda:0')]\n",
      "valid: [0.1035958984375, tensor(0.9686, device='cuda:0')]\n",
      "train: [0.07549044921875, tensor(0.9764, device='cuda:0')]\n",
      "valid: [0.08248961181640625, tensor(0.9747, device='cuda:0')]\n",
      "train: [0.0510380322265625, tensor(0.9845, device='cuda:0')]\n",
      "valid: [0.07613021850585938, tensor(0.9767, device='cuda:0')]\n",
      "train: [0.03994650634765625, tensor(0.9878, device='cuda:0')]\n",
      "valid: [0.0656514892578125, tensor(0.9810, device='cuda:0')]\n",
      "train: [0.02979921630859375, tensor(0.9914, device='cuda:0')]\n",
      "valid: [0.06335931396484375, tensor(0.9819, device='cuda:0')]\n",
      "train: [0.02348486083984375, tensor(0.9936, device='cuda:0')]\n",
      "valid: [0.0638732666015625, tensor(0.9817, device='cuda:0')]\n"
     ]
    }
   ],
   "source": [
    "sched = combine_scheds([0.3, 0.7], [sched_lin(0.6, .85), sched_lin(.85, 0.1)]) \n",
    "learn,run = get_learn_run(nfs, data, 0.9, conv_layer, cbs=cbfs+[partial(ParamScheduler,'lr', sched)])\n",
    "\n",
    "run.fit(8, learn)"
   ]
  },
  {
   "cell_type": "markdown",
   "metadata": {
    "heading_collapsed": true
   },
   "source": [
    "#### With bathnorm"
   ]
  },
  {
   "cell_type": "code",
   "execution_count": 19,
   "metadata": {
    "code_folding": [
     0,
     32,
     38
    ],
    "hidden": true
   },
   "outputs": [],
   "source": [
    "class BatchNorm(nn.Module):\n",
    "    def __init__(self, nf, mom=0.1, eps=1e-5):\n",
    "        super().__init__()\n",
    "        # NB: pytorch bn mom is opposite of what you'd expect\n",
    "        self.mom,self.eps = mom,eps\n",
    "        self.mults = nn.Parameter(torch.ones (nf,1,1))\n",
    "        self.adds  = nn.Parameter(torch.zeros(nf,1,1))\n",
    "        self.register_buffer('vars',  torch.ones(1,nf,1,1))\n",
    "        self.register_buffer('means', torch.zeros(1,nf,1,1))\n",
    "\n",
    "    def update_stats(self, x):\n",
    "        m = x.mean((0,2,3), keepdim=True)\n",
    "        v = x.var ((0,2,3), keepdim=True)\n",
    "        self.means.lerp_(m, self.mom)\n",
    "        self.vars.lerp_ (v, self.mom)\n",
    "        return m,v\n",
    "        \n",
    "    def forward(self, x):\n",
    "        if self.training:\n",
    "            with torch.no_grad(): m,v = self.update_stats(x)\n",
    "        else: m,v = self.means,self.vars\n",
    "        x = (x-m) / (v+self.eps).sqrt()\n",
    "        return x*self.mults + self.adds\n",
    "\n",
    "def conv_layer(ni, nf, ks=3, stride=2, bn=True, **kwargs):\n",
    "    # No bias needed if using bn\n",
    "    layers = [nn.Conv2d(ni, nf, ks, padding=ks//2, stride=stride, bias=not bn),\n",
    "              GeneralRelu(**kwargs)]\n",
    "    if bn: layers.append(BatchNorm(nf))\n",
    "    return nn.Sequential(*layers)\n",
    "\n",
    "#export\n",
    "def init_cnn_(m, f):\n",
    "    if isinstance(m, nn.Conv2d):\n",
    "        f(m.weight, a=0.1)\n",
    "        if getattr(m, 'bias', None) is not None: m.bias.data.zero_()\n",
    "    for l in m.children(): init_cnn_(l, f)\n",
    "\n",
    "def init_cnn(m, uniform=False):\n",
    "    f = init.kaiming_uniform_ if uniform else init.kaiming_normal_\n",
    "    init_cnn_(m, f)\n",
    "\n",
    "def get_learn_run(nfs, data, lr, layer, cbs=None, opt_func=None, uniform=False, **kwargs):\n",
    "    model = get_cnn_model(data, nfs, layer, **kwargs)\n",
    "    init_cnn(model, uniform=uniform)\n",
    "    return get_runner(model, data, lr=lr, cbs=cbs, opt_func=opt_func)"
   ]
  },
  {
   "cell_type": "code",
   "execution_count": 37,
   "metadata": {
    "hidden": true
   },
   "outputs": [],
   "source": [
    "learn,run = get_learn_run(nfs, data, 0.9, conv_layer, cbs=cbfs)"
   ]
  },
  {
   "cell_type": "code",
   "execution_count": 38,
   "metadata": {
    "hidden": true
   },
   "outputs": [
    {
     "name": "stdout",
     "output_type": "stream",
     "text": [
      "train: [0.27782736328125, tensor(0.9142, device='cuda:0')]\n",
      "valid: [0.3635430419921875, tensor(0.8984, device='cuda:0')]\n"
     ]
    },
    {
     "data": {
      "image/png": "[encoded data removed]",
      "text/plain": [
       "<Figure size 720x288 with 2 Axes>"
      ]
     },
     "metadata": {
      "needs_background": "light"
     },
     "output_type": "display_data"
    },
    {
     "data": {
      "image/png": "[encoded data removed]",
      "text/plain": [
       "<Figure size 720x288 with 2 Axes>"
      ]
     },
     "metadata": {
      "needs_background": "light"
     },
     "output_type": "display_data"
    }
   ],
   "source": [
    "with Hooks(learn.model, append_stats) as hooks:\n",
    "    run.fit(1, learn)\n",
    "    fig,(ax0,ax1) = plt.subplots(1,2, figsize=(10,4))\n",
    "    for h in hooks[:-1]:\n",
    "        ms,ss = h.stats\n",
    "        ax0.plot(ms[:10])\n",
    "        ax1.plot(ss[:10])\n",
    "    plt.legend(range(6));\n",
    "    \n",
    "    fig,(ax0,ax1) = plt.subplots(1,2, figsize=(10,4))\n",
    "    for h in hooks[:-1]:\n",
    "        ms,ss = h.stats\n",
    "        ax0.plot(ms)\n",
    "        ax1.plot(ss)"
   ]
  },
  {
   "cell_type": "code",
   "execution_count": 42,
   "metadata": {
    "hidden": true
   },
   "outputs": [
    {
     "name": "stdout",
     "output_type": "stream",
     "text": [
      "train: [0.2652420703125, tensor(0.9175, device='cuda:0')]\n",
      "valid: [0.16534803466796874, tensor(0.9498, device='cuda:0')]\n",
      "train: [0.092765751953125, tensor(0.9714, device='cuda:0')]\n",
      "valid: [0.09234058227539063, tensor(0.9708, device='cuda:0')]\n",
      "train: [0.0669977294921875, tensor(0.9794, device='cuda:0')]\n",
      "valid: [0.08945142211914063, tensor(0.9724, device='cuda:0')]\n",
      "train: [0.0537047509765625, tensor(0.9831, device='cuda:0')]\n",
      "valid: [0.10258529052734375, tensor(0.9702, device='cuda:0')]\n",
      "train: [0.0449621533203125, tensor(0.9854, device='cuda:0')]\n",
      "valid: [0.06440958251953124, tensor(0.9809, device='cuda:0')]\n",
      "CPU times: user 5.31 s, sys: 568 ms, total: 5.88 s\n",
      "Wall time: 5.88 s\n"
     ]
    }
   ],
   "source": [
    "learn,run = get_learn_run(nfs, data, 0.85, conv_layer, cbs=cbfs)\n",
    "\n",
    "%time run.fit(5, learn)"
   ]
  },
  {
   "cell_type": "code",
   "execution_count": 43,
   "metadata": {
    "hidden": true
   },
   "outputs": [
    {
     "name": "stdout",
     "output_type": "stream",
     "text": [
      "train: [0.253840390625, tensor(0.9202, device='cuda:0')]\n",
      "valid: [0.12025931396484375, tensor(0.9636, device='cuda:0')]\n",
      "train: [0.08339240234375, tensor(0.9747, device='cuda:0')]\n",
      "valid: [0.10728033447265625, tensor(0.9664, device='cuda:0')]\n",
      "train: [0.0624084228515625, tensor(0.9809, device='cuda:0')]\n",
      "valid: [0.12916085205078126, tensor(0.9619, device='cuda:0')]\n",
      "train: [0.047849130859375, tensor(0.9854, device='cuda:0')]\n",
      "valid: [0.103679931640625, tensor(0.9676, device='cuda:0')]\n",
      "train: [0.04045895751953125, tensor(0.9874, device='cuda:0')]\n",
      "valid: [0.10622989501953126, tensor(0.9718, device='cuda:0')]\n",
      "CPU times: user 5.37 s, sys: 622 ms, total: 5.99 s\n",
      "Wall time: 5.98 s\n"
     ]
    }
   ],
   "source": [
    "learn,run = get_learn_run(nfs, data, 1.0, conv_layer, cbs=cbfs)\n",
    "\n",
    "%time run.fit(5, learn)"
   ]
  },
  {
   "cell_type": "code",
   "execution_count": 47,
   "metadata": {
    "hidden": true
   },
   "outputs": [
    {
     "name": "stdout",
     "output_type": "stream",
     "text": [
      "train: [0.29049447265625, tensor(0.9102, device='cuda:0')]\n",
      "valid: [0.17383809814453124, tensor(0.9468, device='cuda:0')]\n",
      "train: [0.09820775390625, tensor(0.9699, device='cuda:0')]\n",
      "valid: [0.09666119384765624, tensor(0.9714, device='cuda:0')]\n",
      "train: [0.07014521484375, tensor(0.9780, device='cuda:0')]\n",
      "valid: [0.08955065307617187, tensor(0.9726, device='cuda:0')]\n",
      "train: [0.0554037646484375, tensor(0.9833, device='cuda:0')]\n",
      "valid: [0.0904542236328125, tensor(0.9719, device='cuda:0')]\n",
      "train: [0.0455511572265625, tensor(0.9859, device='cuda:0')]\n",
      "valid: [0.08076631469726563, tensor(0.9761, device='cuda:0')]\n",
      "CPU times: user 5.43 s, sys: 534 ms, total: 5.97 s\n",
      "Wall time: 5.96 s\n"
     ]
    }
   ],
   "source": [
    "learn,run = get_learn_run(nfs, data, 0.9, conv_layer, cbs=cbfs)\n",
    "\n",
    "%time run.fit(5, learn)"
   ]
  },
  {
   "cell_type": "markdown",
   "metadata": {
    "heading_collapsed": true
   },
   "source": [
    "#### Builtin batchnorm"
   ]
  },
  {
   "cell_type": "code",
   "execution_count": 29,
   "metadata": {
    "hidden": true
   },
   "outputs": [
    {
     "name": "stdout",
     "output_type": "stream",
     "text": [
      "train: [0.511205234375, tensor(0.8336, device='cuda:0')]\n",
      "valid: [0.1488172607421875, tensor(0.9544, device='cuda:0')]\n",
      "train: [0.090207763671875, tensor(0.9721, device='cuda:0')]\n",
      "valid: [0.09464492797851562, tensor(0.9704, device='cuda:0')]\n",
      "train: [0.0682173779296875, tensor(0.9790, device='cuda:0')]\n",
      "valid: [0.07513945922851563, tensor(0.9782, device='cuda:0')]\n",
      "train: [0.046308935546875, tensor(0.9851, device='cuda:0')]\n",
      "valid: [0.06466155395507812, tensor(0.9800, device='cuda:0')]\n",
      "train: [0.03762859375, tensor(0.9878, device='cuda:0')]\n",
      "valid: [0.053961181640625, tensor(0.9843, device='cuda:0')]\n",
      "CPU times: user 4.9 s, sys: 584 ms, total: 5.48 s\n",
      "Wall time: 5.47 s\n"
     ]
    }
   ],
   "source": [
    "#export\n",
    "def conv_layer(ni, nf, ks=3, stride=2, bn=True, **kwargs):\n",
    "    layers = [nn.Conv2d(ni, nf, ks, padding=ks//2, stride=stride, bias=not bn),\n",
    "              GeneralRelu(**kwargs)]\n",
    "    if bn: layers.append(nn.BatchNorm2d(nf, eps=1e-5, momentum=0.1))\n",
    "    return nn.Sequential(*layers)\n",
    "\n",
    "learn,run = get_learn_run(nfs, data, 4., conv_layer, cbs=cbfs)\n",
    "%time run.fit(5, learn)"
   ]
  },
  {
   "cell_type": "code",
   "execution_count": 21,
   "metadata": {
    "hidden": true
   },
   "outputs": [
    {
     "name": "stdout",
     "output_type": "stream",
     "text": [
      "train: [0.30061001953125, tensor(0.9096, device='cuda:0')]\n",
      "valid: [0.1524759033203125, tensor(0.9534, device='cuda:0')]\n",
      "train: [0.0813785302734375, tensor(0.9739, device='cuda:0')]\n",
      "valid: [0.0703448486328125, tensor(0.9793, device='cuda:0')]\n",
      "train: [0.0557771435546875, tensor(0.9824, device='cuda:0')]\n",
      "valid: [0.08586849975585938, tensor(0.9745, device='cuda:0')]\n",
      "train: [0.0438241552734375, tensor(0.9865, device='cuda:0')]\n",
      "valid: [0.06521295776367188, tensor(0.9806, device='cuda:0')]\n",
      "train: [0.03551069580078125, tensor(0.9882, device='cuda:0')]\n",
      "valid: [0.0584620361328125, tensor(0.9817, device='cuda:0')]\n",
      "CPU times: user 4.91 s, sys: 626 ms, total: 5.54 s\n",
      "Wall time: 5.53 s\n"
     ]
    }
   ],
   "source": [
    "#export\n",
    "def conv_layer(ni, nf, ks=3, stride=2, bn=True, **kwargs):\n",
    "    layers = [nn.Conv2d(ni, nf, ks, padding=ks//2, stride=stride, bias=not bn),\n",
    "              GeneralRelu(**kwargs)]\n",
    "    if bn: layers.append(nn.BatchNorm2d(nf, eps=1e-5, momentum=0.1))\n",
    "    return nn.Sequential(*layers)\n",
    "\n",
    "learn,run = get_learn_run(nfs, data, 1, conv_layer, cbs=cbfs)\n",
    "%time run.fit(5, learn)"
   ]
  },
  {
   "cell_type": "markdown",
   "metadata": {},
   "source": [
    "#### With scheduling"
   ]
  },
  {
   "cell_type": "code",
   "execution_count": 22,
   "metadata": {},
   "outputs": [
    {
     "name": "stdout",
     "output_type": "stream",
     "text": [
      "train: [0.31941458984375, tensor(0.9066, device='cuda:0')]\n",
      "valid: [0.132680908203125, tensor(0.9588, device='cuda:0')]\n",
      "train: [0.12924603515625, tensor(0.9605, device='cuda:0')]\n",
      "valid: [0.10539952392578125, tensor(0.9683, device='cuda:0')]\n",
      "train: [0.066176982421875, tensor(0.9791, device='cuda:0')]\n",
      "valid: [0.08972996826171875, tensor(0.9692, device='cuda:0')]\n",
      "train: [0.04029283203125, tensor(0.9874, device='cuda:0')]\n",
      "valid: [0.060884503173828125, tensor(0.9813, device='cuda:0')]\n",
      "train: [0.027576220703125, tensor(0.9915, device='cuda:0')]\n",
      "valid: [0.0534090576171875, tensor(0.9832, device='cuda:0')]\n",
      "train: [0.018805802001953125, tensor(0.9941, device='cuda:0')]\n",
      "valid: [0.052223260498046875, tensor(0.9835, device='cuda:0')]\n",
      "train: [0.01158542236328125, tensor(0.9970, device='cuda:0')]\n",
      "valid: [0.04783311462402344, tensor(0.9863, device='cuda:0')]\n",
      "train: [0.007989600830078126, tensor(0.9984, device='cuda:0')]\n",
      "valid: [0.04786164245605469, tensor(0.9860, device='cuda:0')]\n"
     ]
    }
   ],
   "source": [
    "sched = combine_scheds([0.3, 0.7], [sched_lin(0.6, 2.), sched_lin(2., 0.1)]) \n",
    "\n",
    "learn,run = get_learn_run(nfs, data, 0.9, conv_layer, cbs=cbfs\n",
    "                          +[partial(ParamScheduler,'lr', sched)])\n",
    "\n",
    "run.fit(8, learn)"
   ]
  },
  {
   "cell_type": "code",
   "execution_count": 30,
   "metadata": {},
   "outputs": [
    {
     "name": "stdout",
     "output_type": "stream",
     "text": [
      "train: [0.312761328125, tensor(0.9085, device='cuda:0')]\n",
      "valid: [0.2089347900390625, tensor(0.9348, device='cuda:0')]\n",
      "train: [0.110280205078125, tensor(0.9654, device='cuda:0')]\n",
      "valid: [0.113768505859375, tensor(0.9673, device='cuda:0')]\n",
      "train: [0.0817685595703125, tensor(0.9740, device='cuda:0')]\n",
      "valid: [0.0739475830078125, tensor(0.9773, device='cuda:0')]\n",
      "train: [0.043726728515625, tensor(0.9863, device='cuda:0')]\n",
      "valid: [0.062292724609375, tensor(0.9812, device='cuda:0')]\n",
      "train: [0.02859611328125, tensor(0.9907, device='cuda:0')]\n",
      "valid: [0.06478782348632812, tensor(0.9820, device='cuda:0')]\n",
      "train: [0.0189613818359375, tensor(0.9941, device='cuda:0')]\n",
      "valid: [0.04323339538574219, tensor(0.9868, device='cuda:0')]\n",
      "train: [0.0109611669921875, tensor(0.9970, device='cuda:0')]\n",
      "valid: [0.043109307861328126, tensor(0.9878, device='cuda:0')]\n",
      "train: [0.0074640771484375, tensor(0.9985, device='cuda:0')]\n",
      "valid: [0.043522909545898436, tensor(0.9876, device='cuda:0')]\n"
     ]
    }
   ],
   "source": [
    "sched = combine_scheds([0.3, 0.7], [sched_lin(0.6, 3.), sched_lin(3., 0.1)]) \n",
    "\n",
    "learn,run = get_learn_run(nfs, data, 0.9, conv_layer, cbs=cbfs\n",
    "                          +[partial(ParamScheduler,'lr', sched)])\n",
    "\n",
    "run.fit(8, learn)"
   ]
  },
  {
   "cell_type": "markdown",
   "metadata": {
    "heading_collapsed": true
   },
   "source": [
    "### Layernorm"
   ]
  },
  {
   "cell_type": "code",
   "execution_count": 33,
   "metadata": {
    "hidden": true
   },
   "outputs": [],
   "source": [
    "class LayerNorm(nn.Module):\n",
    "    __constants__ = ['eps']\n",
    "    def __init__(self, eps=1e-5):\n",
    "        super().__init__()\n",
    "        self.eps = eps\n",
    "        self.mult = nn.Parameter(tensor(1.))\n",
    "        self.add  = nn.Parameter(tensor(0.))\n",
    "\n",
    "    def forward(self, x):\n",
    "        m = x.mean((1,2,3), keepdim=True)\n",
    "        v = x.var ((1,2,3), keepdim=True)\n",
    "        x = (x-m) / ((v+self.eps).sqrt())\n",
    "        return x*self.mult + self.add\n",
    "    \n",
    "def conv_ln(ni, nf, ks=3, stride=2, bn=True, **kwargs):\n",
    "    layers = [nn.Conv2d(ni, nf, ks, padding=ks//2, stride=stride, bias=True),\n",
    "              GeneralRelu(**kwargs)]\n",
    "    if bn: layers.append(LayerNorm())\n",
    "    return nn.Sequential(*layers)"
   ]
  },
  {
   "cell_type": "code",
   "execution_count": 39,
   "metadata": {
    "hidden": true
   },
   "outputs": [
    {
     "name": "stdout",
     "output_type": "stream",
     "text": [
      "train: [0.4195255078125, tensor(0.8645, device='cuda:0')]\n",
      "valid: [0.1119390625, tensor(0.9652, device='cuda:0')]\n",
      "train: [0.10390806640625, tensor(0.9679, device='cuda:0')]\n",
      "valid: [0.14279937744140625, tensor(0.9610, device='cuda:0')]\n",
      "train: [0.061377802734375, tensor(0.9805, device='cuda:0')]\n",
      "valid: [0.07315323486328125, tensor(0.9782, device='cuda:0')]\n",
      "train: [0.04221341796875, tensor(0.9867, device='cuda:0')]\n",
      "valid: [0.0640574951171875, tensor(0.9802, device='cuda:0')]\n",
      "train: [0.0305229638671875, tensor(0.9902, device='cuda:0')]\n",
      "valid: [0.23301806640625, tensor(0.9436, device='cuda:0')]\n",
      "CPU times: user 6.1 s, sys: 644 ms, total: 6.74 s\n",
      "Wall time: 6.73 s\n"
     ]
    }
   ],
   "source": [
    "learn,run = get_learn_run(nfs, data, 0.5, conv_ln, cbs=cbfs)\n",
    "%time run.fit(5, learn)"
   ]
  },
  {
   "cell_type": "markdown",
   "metadata": {
    "heading_collapsed": true
   },
   "source": [
    "### Instance Norm"
   ]
  },
  {
   "cell_type": "code",
   "execution_count": 60,
   "metadata": {
    "hidden": true
   },
   "outputs": [],
   "source": [
    "class InstanceNorm(nn.Module):\n",
    "    __constants__ = ['eps']\n",
    "    def __init__(self, nf, eps=1e-0):\n",
    "        super().__init__()\n",
    "        self.eps = eps\n",
    "        self.mults = nn.Parameter(torch.ones (nf,1,1))\n",
    "        self.adds  = nn.Parameter(torch.zeros(nf,1,1))\n",
    "\n",
    "    def forward(self, x):\n",
    "        m = x.mean((2,3), keepdim=True)\n",
    "        v = x.var ((2,3), keepdim=True)\n",
    "        res = (x-m) / ((v+self.eps).sqrt())\n",
    "        return res*self.mults + self.adds"
   ]
  },
  {
   "cell_type": "code",
   "execution_count": 61,
   "metadata": {
    "hidden": true
   },
   "outputs": [],
   "source": [
    "def conv_in(ni, nf, ks=3, stride=2, bn=True, **kwargs):\n",
    "    layers = [nn.Conv2d(ni, nf, ks, padding=ks//2, stride=stride, bias=True),\n",
    "              GeneralRelu(**kwargs)]\n",
    "    if bn: layers.append(InstanceNorm(nf))\n",
    "    return nn.Sequential(*layers)"
   ]
  },
  {
   "cell_type": "code",
   "execution_count": 66,
   "metadata": {
    "hidden": true
   },
   "outputs": [
    {
     "name": "stdout",
     "output_type": "stream",
     "text": [
      "train: [nan, tensor(0.0986, device='cuda:0')]\n",
      "valid: [nan, tensor(0.0991, device='cuda:0')]\n",
      "train: [nan, tensor(0.0986, device='cuda:0')]\n",
      "valid: [nan, tensor(0.0991, device='cuda:0')]\n",
      "train: [nan, tensor(0.0986, device='cuda:0')]\n",
      "valid: [nan, tensor(0.0991, device='cuda:0')]\n",
      "train: [nan, tensor(0.0986, device='cuda:0')]\n",
      "valid: [nan, tensor(0.0991, device='cuda:0')]\n",
      "train: [nan, tensor(0.0986, device='cuda:0')]\n",
      "valid: [nan, tensor(0.0991, device='cuda:0')]\n",
      "CPU times: user 6.16 s, sys: 628 ms, total: 6.78 s\n",
      "Wall time: 6.78 s\n"
     ]
    }
   ],
   "source": [
    "learn,run = get_learn_run(nfs, data, 0.001, conv_in, cbs=cbfs)\n",
    "%time run.fit(5, learn)"
   ]
  },
  {
   "cell_type": "markdown",
   "metadata": {},
   "source": [
    "### Fix small batch sizes "
   ]
  },
  {
   "cell_type": "code",
   "execution_count": 67,
   "metadata": {},
   "outputs": [],
   "source": [
    "data = DataBunch(*get_dls(train_ds, valid_ds, 2), c)\n",
    "def conv_layer(ni, nf, ks=3, stride=2, bn=True, **kwargs):\n",
    "    layers = [nn.Conv2d(ni, nf, ks, padding=ks//2, stride=stride, bias=not bn),\n",
    "              GeneralRelu(**kwargs)]\n",
    "    if bn: layers.append(nn.BatchNorm2d(nf, eps=1e-5, momentum=0.1))\n",
    "    return nn.Sequential(*layers)"
   ]
  },
  {
   "cell_type": "code",
   "execution_count": 68,
   "metadata": {},
   "outputs": [
    {
     "name": "stdout",
     "output_type": "stream",
     "text": [
      "train: [2.29279625, tensor(0.2002, device='cuda:0')]\n",
      "valid: [110837314.3552, tensor(0.1884, device='cuda:0')]\n",
      "CPU times: user 1min 24s, sys: 881 ms, total: 1min 24s\n",
      "Wall time: 1min 24s\n"
     ]
    }
   ],
   "source": [
    "learn,run = get_learn_run(nfs, data, 0.4, conv_layer, cbs=cbfs)\n",
    "%time run.fit(5, learn)"
   ]
  },
  {
   "cell_type": "code",
   "execution_count": 69,
   "metadata": {},
   "outputs": [
    {
     "name": "stdout",
     "output_type": "stream",
     "text": [
      "train: [2.316385625, tensor(0.1790, device='cuda:0')]\n",
      "valid: [3064467.6608, tensor(0.1648, device='cuda:0')]\n",
      "train: [2.31255109375, tensor(0.1845, device='cuda:0')]\n",
      "valid: [778914.8672, tensor(0.2132, device='cuda:0')]\n",
      "train: [2.30442484375, tensor(0.1881, device='cuda:0')]\n",
      "valid: [9268678.656, tensor(0.1950, device='cuda:0')]\n",
      "CPU times: user 4min 10s, sys: 3.6 s, total: 4min 14s\n",
      "Wall time: 4min 13s\n"
     ]
    }
   ],
   "source": [
    "%time run.fit(3, learn)"
   ]
  },
  {
   "cell_type": "markdown",
   "metadata": {},
   "source": [
    "#### Running Batchnorm"
   ]
  },
  {
   "cell_type": "code",
   "execution_count": 70,
   "metadata": {
    "code_folding": []
   },
   "outputs": [],
   "source": [
    "class RunningBatchNorm(nn.Module):\n",
    "    def __init__(self, nf, mom=0.1, eps=1e-5):\n",
    "        super().__init__()\n",
    "        self.mom,self.eps = mom,eps\n",
    "        self.mults = nn.Parameter(torch.ones (nf,1,1))\n",
    "        self.adds = nn.Parameter(torch.zeros(nf,1,1))\n",
    "        self.register_buffer('sums', torch.zeros(1,nf,1,1))\n",
    "        self.register_buffer('sqrs', torch.zeros(1,nf,1,1))\n",
    "        self.register_buffer('batch', tensor(0.))\n",
    "        self.register_buffer('count', tensor(0.))\n",
    "        self.register_buffer('step', tensor(0.))\n",
    "        self.register_buffer('dbias', tensor(0.))\n",
    "\n",
    "    def update_stats(self, x):\n",
    "        bs,nc,*_ = x.shape\n",
    "        self.sums.detach_()\n",
    "        self.sqrs.detach_()\n",
    "        dims = (0,2,3)\n",
    "        s = x.sum(dims, keepdim=True)\n",
    "        ss = (x*x).sum(dims, keepdim=True)\n",
    "        c = self.count.new_tensor(x.numel()/nc)\n",
    "        mom1 = 1 - (1-self.mom)/math.sqrt(bs-1)\n",
    "        self.mom1 = self.dbias.new_tensor(mom1)\n",
    "        self.sums.lerp_(s, self.mom1)\n",
    "        self.sqrs.lerp_(ss, self.mom1)\n",
    "        self.count.lerp_(c, self.mom1)\n",
    "        self.dbias = self.dbias*(1-self.mom1) + self.mom1\n",
    "        self.batch += bs\n",
    "        self.step += 1\n",
    "\n",
    "    def forward(self, x):\n",
    "        if self.training: self.update_stats(x)\n",
    "        sums = self.sums\n",
    "        sqrs = self.sqrs\n",
    "        c = self.count\n",
    "        if self.step<100:\n",
    "            sums = sums / self.dbias\n",
    "            sqrs = sqrs / self.dbias\n",
    "            c    = c    / self.dbias\n",
    "        means = sums/c\n",
    "        vars = (sqrs/c).sub_(means*means)\n",
    "        if bool(self.batch < 20): vars.clamp_min_(0.01)\n",
    "        x = (x-means).div_((vars.add_(self.eps)).sqrt())\n",
    "        return x.mul_(self.mults).add_(self.adds)"
   ]
  },
  {
   "cell_type": "code",
   "execution_count": 71,
   "metadata": {},
   "outputs": [],
   "source": [
    "def conv_rbn(ni, nf, ks=3, stride=2, bn=True, **kwargs):\n",
    "    layers = [nn.Conv2d(ni, nf, ks, padding=ks//2, stride=stride, bias=not bn),\n",
    "              GeneralRelu(**kwargs)]\n",
    "    if bn: layers.append(RunningBatchNorm(nf))\n",
    "    return nn.Sequential(*layers)"
   ]
  },
  {
   "cell_type": "code",
   "execution_count": 72,
   "metadata": {},
   "outputs": [
    {
     "name": "stdout",
     "output_type": "stream",
     "text": [
      "train: [0.6220980078125, tensor(0.8293, device='cuda:0')]\n",
      "valid: [1.073240234375, tensor(0.9406, device='cuda:0')]\n",
      "CPU times: user 3min 32s, sys: 1.98 s, total: 3min 34s\n",
      "Wall time: 3min 34s\n"
     ]
    }
   ],
   "source": [
    "learn,run = get_learn_run(nfs, data, 0.4, conv_rbn, cbs=cbfs)\n",
    "%time run.fit(1, learn)"
   ]
  },
  {
   "cell_type": "markdown",
   "metadata": {},
   "source": [
    "#### Single epoch best"
   ]
  },
  {
   "cell_type": "code",
   "execution_count": 96,
   "metadata": {},
   "outputs": [],
   "source": [
    "data = DataBunch(*get_dls(train_ds, valid_ds, 32), c)\n",
    "\n",
    "sched = combine_scheds([0.4, 0.6], [sched_lin(0.6, 3.), sched_lin(3., 0.1)]) \n",
    "\n",
    "learn,run = get_learn_run(nfs, data, 0.9, conv_layer, cbs=cbfs\n",
    "                          +[partial(ParamScheduler,'lr', sched)])"
   ]
  },
  {
   "cell_type": "code",
   "execution_count": 97,
   "metadata": {},
   "outputs": [
    {
     "name": "stdout",
     "output_type": "stream",
     "text": [
      "train: [0.21637677734375, tensor(0.9347, device='cuda:0')]\n",
      "valid: [0.05533582153320313, tensor(0.9833, device='cuda:0')]\n",
      "CPU times: user 6.22 s, sys: 60.2 ms, total: 6.28 s\n",
      "Wall time: 6.27 s\n"
     ]
    }
   ],
   "source": [
    "%time run.fit(1, learn)"
   ]
  },
  {
   "cell_type": "code",
   "execution_count": 75,
   "metadata": {},
   "outputs": [
    {
     "name": "stdout",
     "output_type": "stream",
     "text": [
      "train: [0.1696855078125, tensor(0.9480, device='cuda:0')]\n",
      "valid: [0.04934849548339844, tensor(0.9861, device='cuda:0')]\n",
      "CPU times: user 6.17 s, sys: 64.2 ms, total: 6.23 s\n",
      "Wall time: 6.22 s\n"
     ]
    }
   ],
   "source": [
    "learn,run = get_learn_run(nfs, data, 0.9, conv_layer, cbs=cbfs\n",
    "                          +[partial(ParamScheduler,'lr', sched)])\n",
    "\n",
    "%time run.fit(1, learn)"
   ]
  },
  {
   "cell_type": "code",
   "execution_count": null,
   "metadata": {},
   "outputs": [],
   "source": []
  },
  {
   "cell_type": "code",
   "execution_count": null,
   "metadata": {},
   "outputs": [],
   "source": []
  }
 ],
 "metadata": {
  "kernelspec": {
   "display_name": "fav3p2",
   "language": "python",
   "name": "base"
  },
  "language_info": {
   "codemirror_mode": {
    "name": "ipython",
    "version": 3
   },
   "file_extension": ".py",
   "mimetype": "text/x-python",
   "name": "python",
   "nbconvert_exporter": "python",
   "pygments_lexer": "ipython3",
   "version": "3.6.8"
  }
 },
 "nbformat": 4,
 "nbformat_minor": 2
}
