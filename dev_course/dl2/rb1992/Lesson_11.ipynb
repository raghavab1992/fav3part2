{
 "cells": [
  {
   "cell_type": "markdown",
   "metadata": {
    "heading_collapsed": true
   },
   "source": [
    "## Imports"
   ]
  },
  {
   "cell_type": "code",
   "execution_count": 3,
   "metadata": {
    "hidden": true
   },
   "outputs": [],
   "source": [
    "import os, sys\n",
    "module_path = os.path.abspath(os.path.join('..'))\n",
    "if module_path not in sys.path:\n",
    "    sys.path.append(module_path)"
   ]
  },
  {
   "cell_type": "code",
   "execution_count": 4,
   "metadata": {
    "hidden": true
   },
   "outputs": [],
   "source": [
    "%load_ext autoreload\n",
    "%autoreload 2\n",
    "\n",
    "%matplotlib inline"
   ]
  },
  {
   "cell_type": "markdown",
   "metadata": {
    "heading_collapsed": true
   },
   "source": [
    "## LSUV"
   ]
  },
  {
   "cell_type": "code",
   "execution_count": 3,
   "metadata": {
    "hidden": true
   },
   "outputs": [],
   "source": [
    "#export\n",
    "from exp.nb_07 import *"
   ]
  },
  {
   "cell_type": "code",
   "execution_count": 4,
   "metadata": {
    "hidden": true
   },
   "outputs": [],
   "source": [
    "x_train,y_train,x_valid,y_valid = get_data()\n",
    "\n",
    "x_train,x_valid = normalize_to(x_train,x_valid)\n",
    "train_ds,valid_ds = Dataset(x_train, y_train),Dataset(x_valid, y_valid)\n",
    "\n",
    "nh,bs = 50,128\n",
    "c = y_train.max().item()+1\n",
    "loss_func = F.cross_entropy\n",
    "\n",
    "data = DataBunch(*get_dls(train_ds, valid_ds, bs), c)"
   ]
  },
  {
   "cell_type": "code",
   "execution_count": 5,
   "metadata": {
    "hidden": true
   },
   "outputs": [],
   "source": [
    "mnist_view = view_tfm(1,28,28)\n",
    "cbfs = [Recorder,\n",
    "        partial(AvgStatsCallback,accuracy),\n",
    "        CudaCallback,\n",
    "        partial(BatchTransformXCallback, mnist_view)]"
   ]
  },
  {
   "cell_type": "code",
   "execution_count": 6,
   "metadata": {
    "hidden": true
   },
   "outputs": [],
   "source": [
    "nfs = [8,16,32,64,64]\n",
    "class ConvLayer(nn.Module):\n",
    "    def __init__(self, ni, nf, ks=3, stride=2, sub=0., **kwargs):\n",
    "        super().__init__()\n",
    "        self.conv = nn.Conv2d(ni, nf, ks, padding=ks//2, stride=stride, bias=True)\n",
    "        self.relu = GeneralRelu(sub=sub, **kwargs)\n",
    "    \n",
    "    def forward(self, x): return self.relu(self.conv(x))\n",
    "    \n",
    "    @property\n",
    "    def bias(self): return -self.relu.sub\n",
    "    @bias.setter\n",
    "    def bias(self,v): self.relu.sub = -v\n",
    "    @property\n",
    "    def weight(self): return self.conv.weight"
   ]
  },
  {
   "cell_type": "code",
   "execution_count": 7,
   "metadata": {
    "hidden": true
   },
   "outputs": [],
   "source": [
    "learn,run = get_learn_run(nfs, data, 0.6, ConvLayer, cbs=cbfs)"
   ]
  },
  {
   "cell_type": "code",
   "execution_count": 39,
   "metadata": {
    "hidden": true
   },
   "outputs": [],
   "source": [
    "Learner.children = lambda x: list(x.model.children())"
   ]
  },
  {
   "cell_type": "code",
   "execution_count": 9,
   "metadata": {
    "hidden": true
   },
   "outputs": [
    {
     "data": {
      "text/plain": [
       "Sequential(\n",
       "  (0): ConvLayer(\n",
       "    (conv): Conv2d(1, 8, kernel_size=(5, 5), stride=(2, 2), padding=(2, 2))\n",
       "    (relu): GeneralRelu()\n",
       "  )\n",
       "  (1): ConvLayer(\n",
       "    (conv): Conv2d(8, 16, kernel_size=(3, 3), stride=(2, 2), padding=(1, 1))\n",
       "    (relu): GeneralRelu()\n",
       "  )\n",
       "  (2): ConvLayer(\n",
       "    (conv): Conv2d(16, 32, kernel_size=(3, 3), stride=(2, 2), padding=(1, 1))\n",
       "    (relu): GeneralRelu()\n",
       "  )\n",
       "  (3): ConvLayer(\n",
       "    (conv): Conv2d(32, 64, kernel_size=(3, 3), stride=(2, 2), padding=(1, 1))\n",
       "    (relu): GeneralRelu()\n",
       "  )\n",
       "  (4): ConvLayer(\n",
       "    (conv): Conv2d(64, 64, kernel_size=(3, 3), stride=(2, 2), padding=(1, 1))\n",
       "    (relu): GeneralRelu()\n",
       "  )\n",
       "  (5): AdaptiveAvgPool2d(output_size=1)\n",
       "  (6): Lambda()\n",
       "  (7): Linear(in_features=64, out_features=10, bias=True)\n",
       ")"
      ]
     },
     "execution_count": 9,
     "metadata": {},
     "output_type": "execute_result"
    }
   ],
   "source": [
    "learn.model"
   ]
  },
  {
   "cell_type": "code",
   "execution_count": 40,
   "metadata": {
    "hidden": true
   },
   "outputs": [
    {
     "name": "stdout",
     "output_type": "stream",
     "text": [
      "train: [0.66511171875, tensor(0.7822, device='cuda:0')]\n",
      "valid: [0.12899239501953125, tensor(0.9629, device='cuda:0')]\n",
      "train: [0.121854140625, tensor(0.9643, device='cuda:0')]\n",
      "valid: [0.08859423828125, tensor(0.9748, device='cuda:0')]\n"
     ]
    }
   ],
   "source": [
    "run.fit(2, learn)"
   ]
  },
  {
   "cell_type": "code",
   "execution_count": 52,
   "metadata": {
    "hidden": true
   },
   "outputs": [],
   "source": [
    "# With lSUV\n",
    "learn,run = get_learn_run(nfs, data, 0.6, ConvLayer, cbs=cbfs)"
   ]
  },
  {
   "cell_type": "code",
   "execution_count": 53,
   "metadata": {
    "hidden": true
   },
   "outputs": [],
   "source": [
    "#export\n",
    "def find_modules(m, cond):\n",
    "    if cond(m): return [m]\n",
    "    return sum([find_modules(o,cond) for o in m.children()], [])\n",
    "\n",
    "def is_lin_layer(l):\n",
    "    lin_layers = (nn.Conv1d, nn.Conv2d, nn.Conv3d, nn.Linear, nn.ReLU)\n",
    "    return isinstance(l, lin_layers)\n",
    "mods = find_modules(learn.model, lambda o: isinstance(o,ConvLayer))"
   ]
  },
  {
   "cell_type": "code",
   "execution_count": 54,
   "metadata": {
    "hidden": true
   },
   "outputs": [],
   "source": [
    "#export\n",
    "def get_batch(dl, run):\n",
    "    run.xb,run.yb = next(iter(dl))\n",
    "    for cb in run.cbs: cb.set_runner(run)\n",
    "    run('begin_batch')\n",
    "    return run.xb,run.yb\n",
    "\n",
    "xb,yb = get_batch(data.train_dl, run)"
   ]
  },
  {
   "cell_type": "code",
   "execution_count": 55,
   "metadata": {
    "hidden": true
   },
   "outputs": [
    {
     "name": "stdout",
     "output_type": "stream",
     "text": [
      "0.4082559049129486 0.9148072004318237\n",
      "0.42271336913108826 0.9619936347007751\n",
      "0.42430564761161804 0.8008230924606323\n",
      "0.45385774970054626 0.6626458764076233\n",
      "0.3664337396621704 0.5109293460845947\n"
     ]
    }
   ],
   "source": [
    "def append_stat(hook, mod, inp, outp):\n",
    "    d = outp.data\n",
    "    hook.mean,hook.std = d.mean().item(),d.std().item()\n",
    "\n",
    "mdl = learn.model.cuda()\n",
    "\n",
    "with Hooks(mods, append_stat) as hooks:\n",
    "    mdl(xb)\n",
    "\n",
    "for hook in hooks: print(hook.mean,hook.std)"
   ]
  },
  {
   "cell_type": "code",
   "execution_count": 56,
   "metadata": {
    "hidden": true
   },
   "outputs": [],
   "source": [
    "#export\n",
    "def lsuv_module(m, xb):\n",
    "    h = Hook(m, append_stat)\n",
    "    mdl(xb)\n",
    "\n",
    "    m.bias -= h.mean\n",
    "    m.weight.data /= h.std\n",
    "\n",
    "    h.remove()\n",
    "    return h.mean,h.std"
   ]
  },
  {
   "cell_type": "code",
   "execution_count": 57,
   "metadata": {
    "hidden": true
   },
   "outputs": [
    {
     "name": "stdout",
     "output_type": "stream",
     "text": [
      "(0.4082559049129486, 0.9148072004318237)\n",
      "(0.4387704133987427, 0.9219021797180176)\n",
      "(0.36798495054244995, 0.7141125202178955)\n",
      "(0.5047606229782104, 0.7659966945648193)\n",
      "(0.4273448586463928, 0.6212998032569885)\n"
     ]
    }
   ],
   "source": [
    "for m in mods:\n",
    "    print(lsuv_module(m, xb))"
   ]
  },
  {
   "cell_type": "code",
   "execution_count": 62,
   "metadata": {
    "hidden": true
   },
   "outputs": [
    {
     "data": {
      "text/plain": [
       "tensor([0, 2, 0, 4, 2, 5, 5, 3, 1, 0, 9, 1, 6, 2, 3, 5, 8, 3, 5, 5, 7, 4, 8, 5,\n",
       "        3, 5, 6, 5, 7, 6, 3, 2, 2, 1, 5, 7, 9, 4, 4, 7, 4, 9, 1, 3, 3, 2, 2, 8,\n",
       "        1, 4, 0, 9, 7, 1, 2, 0, 3, 4, 0, 8, 7, 6, 0, 9, 0, 5, 1, 4, 4, 0, 4, 4,\n",
       "        3, 0, 9, 9, 3, 7, 4, 0, 1, 2, 2, 2, 8, 1, 9, 9, 4, 4, 0, 5, 9, 9, 3, 4,\n",
       "        1, 3, 8, 3, 1, 3, 9, 8, 8, 4, 3, 6, 2, 1, 8, 1, 6, 0, 5, 0, 2, 2, 3, 4,\n",
       "        4, 7, 3, 0, 4, 8, 7, 4], device='cuda:0')"
      ]
     },
     "execution_count": 62,
     "metadata": {},
     "output_type": "execute_result"
    }
   ],
   "source": [
    "xb,yb = get_batch(data.train_dl, run)\n",
    "yb"
   ]
  },
  {
   "cell_type": "code",
   "execution_count": 63,
   "metadata": {
    "hidden": true
   },
   "outputs": [
    {
     "name": "stdout",
     "output_type": "stream",
     "text": [
      "0.033923231065273285 0.9835842251777649\n",
      "0.032295651733875275 0.9830300807952881\n",
      "0.14319664239883423 0.9861000180244446\n",
      "0.1483154296875 1.0016591548919678\n",
      "0.26134198904037476 1.0040676593780518\n"
     ]
    }
   ],
   "source": [
    "with Hooks(mods, append_stat) as hooks:\n",
    "    mdl(xb)\n",
    "\n",
    "for hook in hooks: print(hook.mean,hook.std)"
   ]
  },
  {
   "cell_type": "code",
   "execution_count": 64,
   "metadata": {
    "hidden": true
   },
   "outputs": [
    {
     "name": "stdout",
     "output_type": "stream",
     "text": [
      "train: [0.34161875, tensor(0.8957, device='cuda:0')]\n",
      "valid: [0.13508873291015625, tensor(0.9612, device='cuda:0')]\n",
      "train: [0.088463818359375, tensor(0.9720, device='cuda:0')]\n",
      "valid: [0.09686826782226562, tensor(0.9729, device='cuda:0')]\n"
     ]
    }
   ],
   "source": [
    "run.fit(2, learn)"
   ]
  },
  {
   "cell_type": "markdown",
   "metadata": {
    "heading_collapsed": true,
    "hidden": true
   },
   "source": [
    "### Recursive exps"
   ]
  },
  {
   "cell_type": "code",
   "execution_count": 147,
   "metadata": {
    "hidden": true
   },
   "outputs": [],
   "source": [
    "import time\n",
    "t=time.time()"
   ]
  },
  {
   "cell_type": "code",
   "execution_count": 160,
   "metadata": {
    "hidden": true
   },
   "outputs": [],
   "source": [
    "from functools import lru_cache\n",
    "\n",
    "@lru_cache(maxsize=None)\n",
    "def fibonacci_recursive(n):\n",
    "    print(\"Calculating F\", \"(\", n, \")\", sep=\"\", end=\", \")\n",
    "#     t1=time.time()\n",
    "#     print(f'Time@{n}@{t1}')\n",
    "\n",
    "    # Base case\n",
    "    if n == 0:\n",
    "        return 0\n",
    "    elif n == 1:\n",
    "        return 1\n",
    "\n",
    "    # Recursive case\n",
    "    else:\n",
    "        return fibonacci_recursive(n-1) + fibonacci_recursive(n-2)"
   ]
  },
  {
   "cell_type": "code",
   "execution_count": 162,
   "metadata": {
    "hidden": true
   },
   "outputs": [
    {
     "data": {
      "text/plain": [
       "5"
      ]
     },
     "execution_count": 162,
     "metadata": {},
     "output_type": "execute_result"
    }
   ],
   "source": [
    "fibonacci_recursive(5)"
   ]
  },
  {
   "cell_type": "code",
   "execution_count": 232,
   "metadata": {
    "hidden": true
   },
   "outputs": [],
   "source": [
    "def rec_test(x):\n",
    "    if x>0:\n",
    "        print(x)\n",
    "        t = [x] if (x%2==0) else []\n",
    "        rec_test(x-1)\n",
    "        return t\n",
    "    else:\n",
    "        return []"
   ]
  },
  {
   "cell_type": "code",
   "execution_count": 236,
   "metadata": {
    "hidden": true
   },
   "outputs": [
    {
     "name": "stdout",
     "output_type": "stream",
     "text": [
      "10\n",
      "9\n",
      "8\n",
      "7\n",
      "6\n",
      "5\n",
      "4\n",
      "3\n",
      "2\n",
      "1\n"
     ]
    },
    {
     "data": {
      "text/plain": [
       "[10]"
      ]
     },
     "execution_count": 236,
     "metadata": {},
     "output_type": "execute_result"
    }
   ],
   "source": [
    "rec_test(10)"
   ]
  },
  {
   "cell_type": "code",
   "execution_count": 229,
   "metadata": {
    "hidden": true
   },
   "outputs": [],
   "source": [
    "def rec_test(x):\n",
    "    if x>0:\n",
    "        print(x)\n",
    "        t = [x] if (x%2==0) else [] \n",
    "        return sum([rec_test(x-1)], t)\n",
    "    else:\n",
    "        return []"
   ]
  },
  {
   "cell_type": "code",
   "execution_count": 231,
   "metadata": {
    "hidden": true
   },
   "outputs": [
    {
     "name": "stdout",
     "output_type": "stream",
     "text": [
      "10\n",
      "9\n",
      "8\n",
      "7\n",
      "6\n",
      "5\n",
      "4\n",
      "3\n",
      "2\n",
      "1\n"
     ]
    },
    {
     "data": {
      "text/plain": [
       "[10, 8, 6, 4, 2]"
      ]
     },
     "execution_count": 231,
     "metadata": {},
     "output_type": "execute_result"
    }
   ],
   "source": [
    "rec_test(10)"
   ]
  },
  {
   "cell_type": "markdown",
   "metadata": {
    "heading_collapsed": true
   },
   "source": [
    "## DataBlock"
   ]
  },
  {
   "cell_type": "code",
   "execution_count": 3,
   "metadata": {
    "hidden": true
   },
   "outputs": [],
   "source": [
    "#export\n",
    "from exp.nb_07a import *"
   ]
  },
  {
   "cell_type": "code",
   "execution_count": 4,
   "metadata": {
    "hidden": true
   },
   "outputs": [
    {
     "data": {
      "text/plain": [
       "PosixPath('/data/home/h216520/Desktop/fastai_work/data/imagenette-160')"
      ]
     },
     "execution_count": 4,
     "metadata": {},
     "output_type": "execute_result"
    }
   ],
   "source": [
    "path = datasets.untar_data(datasets.URLs.IMAGENETTE_160)\n",
    "path"
   ]
  },
  {
   "cell_type": "code",
   "execution_count": 6,
   "metadata": {
    "hidden": true
   },
   "outputs": [
    {
     "data": {
      "text/plain": [
       "[PosixPath('/data/home/h216520/Desktop/fastai_work/data/imagenette-160/train'),\n",
       " PosixPath('/data/home/h216520/Desktop/fastai_work/data/imagenette-160/val')]"
      ]
     },
     "execution_count": 6,
     "metadata": {},
     "output_type": "execute_result"
    }
   ],
   "source": [
    "path.ls()"
   ]
  },
  {
   "cell_type": "code",
   "execution_count": 7,
   "metadata": {
    "hidden": true
   },
   "outputs": [],
   "source": [
    "import mimetypes"
   ]
  },
  {
   "cell_type": "code",
   "execution_count": 105,
   "metadata": {
    "collapsed": true,
    "hidden": true
   },
   "outputs": [
    {
     "data": {
      "text/plain": [
       "{'.art',\n",
       " '.bmp',\n",
       " '.cdr',\n",
       " '.cdt',\n",
       " '.cpt',\n",
       " '.cr2',\n",
       " '.crw',\n",
       " '.djv',\n",
       " '.djvu',\n",
       " '.erf',\n",
       " '.gif',\n",
       " '.ico',\n",
       " '.ief',\n",
       " '.jng',\n",
       " '.jp2',\n",
       " '.jpe',\n",
       " '.jpeg',\n",
       " '.jpf',\n",
       " '.jpg',\n",
       " '.jpg2',\n",
       " '.jpm',\n",
       " '.jpx',\n",
       " '.nef',\n",
       " '.orf',\n",
       " '.pat',\n",
       " '.pbm',\n",
       " '.pcx',\n",
       " '.pgm',\n",
       " '.png',\n",
       " '.pnm',\n",
       " '.ppm',\n",
       " '.psd',\n",
       " '.ras',\n",
       " '.rgb',\n",
       " '.svg',\n",
       " '.svgz',\n",
       " '.tif',\n",
       " '.tiff',\n",
       " '.wbmp',\n",
       " '.xbm',\n",
       " '.xpm',\n",
       " '.xwd'}"
      ]
     },
     "execution_count": 105,
     "metadata": {},
     "output_type": "execute_result"
    }
   ],
   "source": [
    "set([k for k, v in zip(mimetypes.types_map.keys(), mimetypes.types_map.values()) if v.startswith('image')])"
   ]
  },
  {
   "cell_type": "code",
   "execution_count": 108,
   "metadata": {
    "hidden": true
   },
   "outputs": [],
   "source": [
    "path_tench = path/'val'/'n01440764'"
   ]
  },
  {
   "cell_type": "code",
   "execution_count": 111,
   "metadata": {
    "hidden": true
   },
   "outputs": [
    {
     "data": {
      "text/plain": [
       "['ILSVRC2012_val_00017700.JPEG',\n",
       " 'ILSVRC2012_val_00048969.JPEG',\n",
       " 'ILSVRC2012_val_00007197.JPEG']"
      ]
     },
     "execution_count": 111,
     "metadata": {},
     "output_type": "execute_result"
    }
   ],
   "source": [
    "t = [o.name for o in os.scandir(path_tench)]\n",
    "t = _get_files(path, t, extensions=image_extensions)\n",
    "t[:3]"
   ]
  },
  {
   "cell_type": "code",
   "execution_count": 120,
   "metadata": {
    "hidden": true
   },
   "outputs": [
    {
     "data": {
      "text/plain": [
       "True"
      ]
     },
     "execution_count": 120,
     "metadata": {},
     "output_type": "execute_result"
    }
   ],
   "source": [
    "(not image_extensions) or '.jpeg' in image_extensions"
   ]
  },
  {
   "cell_type": "code",
   "execution_count": 125,
   "metadata": {
    "hidden": true
   },
   "outputs": [],
   "source": [
    "x=list(os.walk('/data/home/h216520/Desktop/fastai_work/fav3part2/dev_course/dl2'))"
   ]
  },
  {
   "cell_type": "code",
   "execution_count": 8,
   "metadata": {
    "hidden": true
   },
   "outputs": [],
   "source": [
    "image_extensions = set(k for k,v in mimetypes.types_map.items() if v.startswith('image/'))"
   ]
  },
  {
   "cell_type": "code",
   "execution_count": 13,
   "metadata": {
    "hidden": true
   },
   "outputs": [],
   "source": [
    "#export\n",
    "def setify(o): return o if isinstance(o,set) else set(listify(o))\n",
    "#export\n",
    "def _get_files(p, fs, extensions=None):\n",
    "    p = Path(p)\n",
    "    res = [p/f for f in fs if not f.startswith('.')\n",
    "           and ((not extensions) or f'.{f.split(\".\")[-1].lower()}' in extensions)]\n",
    "    return res\n",
    "\n",
    "#export\n",
    "def get_files(path, extensions=None, recurse=False, include=None):\n",
    "    path = Path(path)\n",
    "    extensions = setify(extensions)\n",
    "    extensions = {e.lower() for e in extensions}\n",
    "    if recurse:\n",
    "        res = []\n",
    "        for i,(p,d,f) in enumerate(os.walk(path)): # returns (dirpath, dirnames, filenames)\n",
    "#             print(i, p, d, f)\n",
    "            if include is not None and i==0: d[:] = [o for o in d if o in include]\n",
    "            else:                            d[:] = [o for o in d if not o.startswith('.')]\n",
    "            res += _get_files(p, f, extensions)\n",
    "        return res\n",
    "    else:\n",
    "        f = [o.name for o in os.scandir(path) if o.is_file()]\n",
    "        return _get_files(path, f, extensions)"
   ]
  },
  {
   "cell_type": "code",
   "execution_count": 22,
   "metadata": {
    "collapsed": true,
    "hidden": true
   },
   "outputs": [
    {
     "name": "stdout",
     "output_type": "stream",
     "text": [
      "0 /data/home/h216520/Desktop/fastai_work/fav3part2/dev_swift/SwiftCV ['Extra', 'Tests', 'Sources', 'install'] ['README.md', '.gitignore', 'Package.swift']\n",
      "1 /data/home/h216520/Desktop/fastai_work/fav3part2/dev_swift/SwiftCV/Extra [] ['Tests.ipynb']\n",
      "2 /data/home/h216520/Desktop/fastai_work/fav3part2/dev_swift/SwiftCV/Tests ['SwiftCVTests'] ['LinuxMain.swift']\n",
      "3 /data/home/h216520/Desktop/fastai_work/fav3part2/dev_swift/SwiftCV/Tests/SwiftCVTests ['fixtures'] ['SwiftCVTests.swift', 'XCTestManifests.swift', 'TensorFlowConversionTests.swift']\n",
      "4 /data/home/h216520/Desktop/fastai_work/fav3part2/dev_swift/SwiftCV/Tests/SwiftCVTests/fixtures [] ['border.jpg', 'test.png', 'blur.jpg', 'grey.jpg', 'resize.jpg', 'zoom.jpg']\n",
      "5 /data/home/h216520/Desktop/fastai_work/fav3part2/dev_swift/SwiftCV/Sources ['opencv4', 'SwiftCV', 'COpenCV'] []\n",
      "6 /data/home/h216520/Desktop/fastai_work/fav3part2/dev_swift/SwiftCV/Sources/opencv4 [] ['module.modulemap']\n",
      "7 /data/home/h216520/Desktop/fastai_work/fav3part2/dev_swift/SwiftCV/Sources/SwiftCV [] ['Enums.swift', 'TensorFlowConversion.swift', 'SwiftCV.swift']\n",
      "8 /data/home/h216520/Desktop/fastai_work/fav3part2/dev_swift/SwiftCV/Sources/COpenCV ['include'] ['imgcodecs.cpp', 'imgproc.cpp', 'version.cpp', 'core.cpp']\n",
      "9 /data/home/h216520/Desktop/fastai_work/fav3part2/dev_swift/SwiftCV/Sources/COpenCV/include [] ['version.h', 'core.h', 'imgcodecs.h', 'imgproc.h']\n",
      "10 /data/home/h216520/Desktop/fastai_work/fav3part2/dev_swift/SwiftCV/install [] ['install_cv4.sh', 'OpenCVFindOpenBLAS.cmake']\n"
     ]
    },
    {
     "data": {
      "text/plain": [
       "[PosixPath('/data/home/h216520/Desktop/fastai_work/fav3part2/dev_swift/SwiftCV/Tests/SwiftCVTests/fixtures/border.jpg'),\n",
       " PosixPath('/data/home/h216520/Desktop/fastai_work/fav3part2/dev_swift/SwiftCV/Tests/SwiftCVTests/fixtures/test.png'),\n",
       " PosixPath('/data/home/h216520/Desktop/fastai_work/fav3part2/dev_swift/SwiftCV/Tests/SwiftCVTests/fixtures/blur.jpg'),\n",
       " PosixPath('/data/home/h216520/Desktop/fastai_work/fav3part2/dev_swift/SwiftCV/Tests/SwiftCVTests/fixtures/grey.jpg'),\n",
       " PosixPath('/data/home/h216520/Desktop/fastai_work/fav3part2/dev_swift/SwiftCV/Tests/SwiftCVTests/fixtures/resize.jpg'),\n",
       " PosixPath('/data/home/h216520/Desktop/fastai_work/fav3part2/dev_swift/SwiftCV/Tests/SwiftCVTests/fixtures/zoom.jpg')]"
      ]
     },
     "execution_count": 22,
     "metadata": {},
     "output_type": "execute_result"
    }
   ],
   "source": [
    "get_files('/data/home/h216520/Desktop/fastai_work/fav3part2/dev_swift/SwiftCV', extensions=image_extensions, recurse=True)"
   ]
  },
  {
   "cell_type": "code",
   "execution_count": 14,
   "metadata": {
    "hidden": true
   },
   "outputs": [],
   "source": [
    "#export\n",
    "def compose(x, funcs, *args, order_key='_order', **kwargs):\n",
    "    key = lambda o: getattr(o, order_key, 0)\n",
    "    for f in sorted(listify(funcs), key=key): x = f(x, **kwargs)\n",
    "    return x\n",
    "\n",
    "class ItemList(ListContainer):\n",
    "    def __init__(self, items, path='.', tfms=None):\n",
    "        super().__init__(items)\n",
    "        self.path,self.tfms = Path(path),tfms\n",
    "\n",
    "    def __repr__(self): return f'{super().__repr__()}\\nPath: {self.path}'\n",
    "    \n",
    "    def new(self, items, cls=None):\n",
    "        if cls is None: cls=self.__class__\n",
    "        return cls(items, self.path, tfms=self.tfms)\n",
    "    \n",
    "    def  get(self, i): return i\n",
    "    def _get(self, i): return compose(self.get(i), self.tfms)\n",
    "    \n",
    "    def __getitem__(self, idx):\n",
    "        res = super().__getitem__(idx)\n",
    "        if isinstance(res,list): return [self._get(o) for o in res]\n",
    "        return self._get(res)\n",
    "\n",
    "class ImageList(ItemList):\n",
    "    @classmethod\n",
    "    def from_files(cls, path, extensions=None, recurse=True, include=None, **kwargs):\n",
    "        if extensions is None: extensions = image_extensions\n",
    "        return cls(get_files(path, extensions, recurse=recurse, include=include), path, **kwargs)\n",
    "    \n",
    "    def get(self, fn): return PIL.Image.open(fn)\n",
    "#export\n",
    "class Transform(): _order=0\n",
    "\n",
    "class MakeRGB(Transform):\n",
    "    def __call__(self, item): return item.convert('RGB')\n",
    "\n",
    "def make_rgb(item): return item.convert('RGB')"
   ]
  },
  {
   "cell_type": "code",
   "execution_count": 15,
   "metadata": {
    "hidden": true,
    "scrolled": true
   },
   "outputs": [],
   "source": [
    "il = ImageList.from_files(path, tfms=make_rgb)"
   ]
  },
  {
   "cell_type": "code",
   "execution_count": 17,
   "metadata": {
    "hidden": true
   },
   "outputs": [],
   "source": [
    "#export\n",
    "def grandparent_splitter(fn, valid_name='valid', train_name='train'):\n",
    "    gp = fn.parent.parent.name\n",
    "    return True if gp==valid_name else False if gp==train_name else None\n",
    "\n",
    "def split_by_func(items, f):\n",
    "    mask = [f(o) for o in items]\n",
    "    # `None` values will be filtered out\n",
    "    f = [o for o,m in zip(items,mask) if m==False]\n",
    "    t = [o for o,m in zip(items,mask) if m==True ]\n",
    "    return f,t"
   ]
  },
  {
   "cell_type": "code",
   "execution_count": 26,
   "metadata": {
    "hidden": true
   },
   "outputs": [
    {
     "data": {
      "image/png": "[encoded data removed]",
      "text/plain": [
       "<PIL.Image.Image image mode=RGB size=160x213 at 0x7F8FCC84FEF0>"
      ]
     },
     "execution_count": 26,
     "metadata": {},
     "output_type": "execute_result"
    }
   ],
   "source": [
    "import PIL\n",
    "il[0]"
   ]
  },
  {
   "cell_type": "code",
   "execution_count": 18,
   "metadata": {
    "hidden": true
   },
   "outputs": [],
   "source": [
    "splitter = partial(grandparent_splitter, valid_name='val')"
   ]
  },
  {
   "cell_type": "code",
   "execution_count": 20,
   "metadata": {
    "hidden": true
   },
   "outputs": [],
   "source": [
    "train,valid = split_by_func(il, splitter)"
   ]
  },
  {
   "cell_type": "code",
   "execution_count": 27,
   "metadata": {
    "hidden": true
   },
   "outputs": [],
   "source": [
    "#export\n",
    "class SplitData():\n",
    "    def __init__(self, train, valid): self.train,self.valid = train,valid\n",
    "        \n",
    "    def __getattr__(self,k): return getattr(self.train,k)\n",
    "    #This is needed if we want to pickle SplitData and be able to load it back without recursion errors\n",
    "    def __setstate__(self,data:Any): self.__dict__.update(data) \n",
    "    \n",
    "    @classmethod\n",
    "    def split_by_func(cls, il, f):\n",
    "        lists = map(il.new, split_by_func(il.items, f))\n",
    "#         print(list(lists))\n",
    "        return cls(*lists)\n",
    "\n",
    "    def __repr__(self): return f'{self.__class__.__name__}\\nTrain: {self.train}\\nValid: {self.valid}\\n'"
   ]
  },
  {
   "cell_type": "code",
   "execution_count": 28,
   "metadata": {
    "hidden": true
   },
   "outputs": [],
   "source": [
    "t, v= split_by_func(il.items, splitter)"
   ]
  },
  {
   "cell_type": "code",
   "execution_count": 38,
   "metadata": {
    "hidden": true
   },
   "outputs": [],
   "source": [
    "t2=il.new(v)"
   ]
  },
  {
   "cell_type": "code",
   "execution_count": 161,
   "metadata": {
    "hidden": true
   },
   "outputs": [
    {
     "data": {
      "text/plain": [
       "[12894, 500]"
      ]
     },
     "execution_count": 161,
     "metadata": {},
     "output_type": "execute_result"
    }
   ],
   "source": [
    "list(map(len, [t,v]))"
   ]
  },
  {
   "cell_type": "code",
   "execution_count": 40,
   "metadata": {
    "hidden": true
   },
   "outputs": [
    {
     "data": {
      "text/plain": [
       "SplitData\n",
       "Train: ImageList (12894 items)\n",
       "[PosixPath('/data/home/h216520/Desktop/fastai_work/data/imagenette-160/train/n03417042/n03417042_8119.JPEG'), PosixPath('/data/home/h216520/Desktop/fastai_work/data/imagenette-160/train/n03417042/n03417042_10802.JPEG'), PosixPath('/data/home/h216520/Desktop/fastai_work/data/imagenette-160/train/n03417042/n03417042_3165.JPEG'), PosixPath('/data/home/h216520/Desktop/fastai_work/data/imagenette-160/train/n03417042/n03417042_5813.JPEG'), PosixPath('/data/home/h216520/Desktop/fastai_work/data/imagenette-160/train/n03417042/n03417042_2035.JPEG'), PosixPath('/data/home/h216520/Desktop/fastai_work/data/imagenette-160/train/n03417042/n03417042_5180.JPEG'), PosixPath('/data/home/h216520/Desktop/fastai_work/data/imagenette-160/train/n03417042/n03417042_5458.JPEG'), PosixPath('/data/home/h216520/Desktop/fastai_work/data/imagenette-160/train/n03417042/n03417042_15198.JPEG'), PosixPath('/data/home/h216520/Desktop/fastai_work/data/imagenette-160/train/n03417042/n03417042_7233.JPEG'), PosixPath('/data/home/h216520/Desktop/fastai_work/data/imagenette-160/train/n03417042/n03417042_29361.JPEG')...]\n",
       "Path: /data/home/h216520/Desktop/fastai_work/data/imagenette-160\n",
       "Valid: ImageList (500 items)\n",
       "[PosixPath('/data/home/h216520/Desktop/fastai_work/data/imagenette-160/val/n03417042/ILSVRC2012_val_00004119.JPEG'), PosixPath('/data/home/h216520/Desktop/fastai_work/data/imagenette-160/val/n03417042/ILSVRC2012_val_00009345.JPEG'), PosixPath('/data/home/h216520/Desktop/fastai_work/data/imagenette-160/val/n03417042/ILSVRC2012_val_00031313.JPEG'), PosixPath('/data/home/h216520/Desktop/fastai_work/data/imagenette-160/val/n03417042/ILSVRC2012_val_00042487.JPEG'), PosixPath('/data/home/h216520/Desktop/fastai_work/data/imagenette-160/val/n03417042/ILSVRC2012_val_00036233.JPEG'), PosixPath('/data/home/h216520/Desktop/fastai_work/data/imagenette-160/val/n03417042/ILSVRC2012_val_00019147.JPEG'), PosixPath('/data/home/h216520/Desktop/fastai_work/data/imagenette-160/val/n03417042/ILSVRC2012_val_00005094.JPEG'), PosixPath('/data/home/h216520/Desktop/fastai_work/data/imagenette-160/val/n03417042/ILSVRC2012_val_00024560.JPEG'), PosixPath('/data/home/h216520/Desktop/fastai_work/data/imagenette-160/val/n03417042/ILSVRC2012_val_00025379.JPEG'), PosixPath('/data/home/h216520/Desktop/fastai_work/data/imagenette-160/val/n03417042/ILSVRC2012_val_00038268.JPEG')...]\n",
       "Path: /data/home/h216520/Desktop/fastai_work/data/imagenette-160"
      ]
     },
     "execution_count": 40,
     "metadata": {},
     "output_type": "execute_result"
    }
   ],
   "source": [
    "sd = SplitData.split_by_func(il, splitter); sd"
   ]
  },
  {
   "cell_type": "markdown",
   "metadata": {
    "heading_collapsed": true,
    "hidden": true
   },
   "source": [
    "### Labeling"
   ]
  },
  {
   "cell_type": "code",
   "execution_count": 41,
   "metadata": {
    "hidden": true
   },
   "outputs": [],
   "source": [
    "#export\n",
    "from collections import OrderedDict\n",
    "\n",
    "def uniqueify(x, sort=False):\n",
    "    res = list(OrderedDict.fromkeys(x).keys())\n",
    "    if sort: res.sort()\n",
    "    return res\n",
    "\n",
    "#export\n",
    "class Processor(): \n",
    "    def process(self, items): return items\n",
    "\n",
    "class CategoryProcessor(Processor):\n",
    "    def __init__(self): self.vocab=None\n",
    "    \n",
    "    def __call__(self, items):\n",
    "        #The vocab is defined on the first use.\n",
    "        if self.vocab is None:\n",
    "            self.vocab = uniqueify(items)\n",
    "            self.otoi  = {v:k for k,v in enumerate(self.vocab)}\n",
    "        return [self.proc1(o) for o in items]\n",
    "    def proc1(self, item):  return self.otoi[item]\n",
    "    \n",
    "    def deprocess(self, idxs):\n",
    "        assert self.vocab is not None\n",
    "        return [self.deproc1(idx) for idx in idxs]\n",
    "    def deproc1(self, idx): return self.vocab[idx]\n",
    "\n",
    "#export\n",
    "def parent_labeler(fn): return fn.parent.name\n",
    "\n",
    "def _label_by_func(ds, f, cls=ItemList): return cls([f(o) for o in ds.items], path=ds.path)\n",
    "\n",
    "#This is a slightly different from what was seen during the lesson,\n",
    "#   we'll discuss the changes in lesson 11\n",
    "class LabeledData():\n",
    "    def process(self, il, proc): return il.new(compose(il.items, proc))\n",
    "\n",
    "    def __init__(self, x, y, proc_x=None, proc_y=None):\n",
    "        self.x,self.y = self.process(x, proc_x),self.process(y, proc_y)\n",
    "        self.proc_x,self.proc_y = proc_x,proc_y\n",
    "        \n",
    "    def __repr__(self): return f'{self.__class__.__name__}\\nx: {self.x}\\ny: {self.y}\\n'\n",
    "    def __getitem__(self,idx): return self.x[idx],self.y[idx]\n",
    "    def __len__(self): return len(self.x)\n",
    "    \n",
    "    def x_obj(self, idx): return self.obj(self.x, idx, self.proc_x)\n",
    "    def y_obj(self, idx): return self.obj(self.y, idx, self.proc_y)\n",
    "    \n",
    "    def obj(self, items, idx, procs):\n",
    "        isint = isinstance(idx, int) or (isinstance(idx,torch.LongTensor) and not idx.ndim)\n",
    "        item = items[idx]\n",
    "        for proc in reversed(listify(procs)):\n",
    "            item = proc.deproc1(item) if isint else proc.deprocess(item)\n",
    "        return item\n",
    "\n",
    "    @classmethod\n",
    "    def label_by_func(cls, il, f, proc_x=None, proc_y=None):\n",
    "        return cls(il, _label_by_func(il, f), proc_x=proc_x, proc_y=proc_y)\n",
    "\n",
    "def label_by_func(sd, f, proc_x=None, proc_y=None):\n",
    "    train = LabeledData.label_by_func(sd.train, f, proc_x=proc_x, proc_y=proc_y)\n",
    "    valid = LabeledData.label_by_func(sd.valid, f, proc_x=proc_x, proc_y=proc_y)\n",
    "    return SplitData(train,valid)"
   ]
  },
  {
   "cell_type": "code",
   "execution_count": 42,
   "metadata": {
    "hidden": true
   },
   "outputs": [],
   "source": [
    "ll = label_by_func(sd, parent_labeler, proc_y=CategoryProcessor())"
   ]
  },
  {
   "cell_type": "code",
   "execution_count": 43,
   "metadata": {
    "hidden": true
   },
   "outputs": [],
   "source": [
    "assert ll.train.proc_y is ll.valid.proc_y"
   ]
  },
  {
   "cell_type": "code",
   "execution_count": 47,
   "metadata": {
    "hidden": true
   },
   "outputs": [
    {
     "data": {
      "text/plain": [
       "__main__.SplitData"
      ]
     },
     "execution_count": 47,
     "metadata": {},
     "output_type": "execute_result"
    }
   ],
   "source": [
    "type(ll)"
   ]
  },
  {
   "cell_type": "code",
   "execution_count": 51,
   "metadata": {
    "hidden": true
   },
   "outputs": [],
   "source": [
    "import PIL"
   ]
  },
  {
   "cell_type": "code",
   "execution_count": 57,
   "metadata": {
    "hidden": true
   },
   "outputs": [
    {
     "data": {
      "text/plain": [
       "'n03417042'"
      ]
     },
     "execution_count": 57,
     "metadata": {},
     "output_type": "execute_result"
    }
   ],
   "source": [
    "ll.train.y_obj(0)"
   ]
  },
  {
   "cell_type": "code",
   "execution_count": 58,
   "metadata": {
    "collapsed": true,
    "hidden": true
   },
   "outputs": [
    {
     "data": {
      "text/plain": [
       "{'n03417042': 0,\n",
       " 'n02102040': 1,\n",
       " 'n03425413': 2,\n",
       " 'n03028079': 3,\n",
       " 'n01440764': 4,\n",
       " 'n03394916': 5,\n",
       " 'n02979186': 6,\n",
       " 'n03000684': 7,\n",
       " 'n03888257': 8,\n",
       " 'n03445777': 9}"
      ]
     },
     "execution_count": 58,
     "metadata": {},
     "output_type": "execute_result"
    }
   ],
   "source": [
    "ll.train.proc_y.otoi"
   ]
  },
  {
   "cell_type": "code",
   "execution_count": 67,
   "metadata": {
    "hidden": true
   },
   "outputs": [
    {
     "data": {
      "text/plain": [
       "3"
      ]
     },
     "execution_count": 67,
     "metadata": {},
     "output_type": "execute_result"
    }
   ],
   "source": [
    "ll.train.y[3981]"
   ]
  },
  {
   "cell_type": "code",
   "execution_count": 68,
   "metadata": {
    "hidden": true
   },
   "outputs": [
    {
     "data": {
      "text/plain": [
       "(<PIL.Image.Image image mode=RGB size=202x160 at 0x7FF21762D518>, 3)"
      ]
     },
     "execution_count": 68,
     "metadata": {},
     "output_type": "execute_result"
    }
   ],
   "source": [
    "ll.train[3981]"
   ]
  },
  {
   "cell_type": "markdown",
   "metadata": {
    "heading_collapsed": true,
    "hidden": true
   },
   "source": [
    "### Transform to tensor"
   ]
  },
  {
   "cell_type": "code",
   "execution_count": 48,
   "metadata": {
    "hidden": true
   },
   "outputs": [],
   "source": [
    "#export\n",
    "class ResizeFixed(Transform):\n",
    "    _order=10\n",
    "    def __init__(self,size):\n",
    "        if isinstance(size,int): size=(size,size)\n",
    "        self.size = size\n",
    "        \n",
    "    def __call__(self, item): return item.resize(self.size, PIL.Image.BILINEAR)\n",
    "\n",
    "def to_byte_tensor(item):\n",
    "    res = torch.ByteTensor(torch.ByteStorage.from_buffer(item.tobytes()))\n",
    "    w,h = item.size\n",
    "    return res.view(h,w,-1).permute(2,0,1)\n",
    "to_byte_tensor._order=20\n",
    "\n",
    "def to_float_tensor(item): return item.float().div_(255.)\n",
    "to_float_tensor._order=30"
   ]
  },
  {
   "cell_type": "code",
   "execution_count": 49,
   "metadata": {
    "hidden": true
   },
   "outputs": [],
   "source": [
    "tfms = [make_rgb, ResizeFixed(128), to_byte_tensor, to_float_tensor]\n",
    "\n",
    "il = ImageList.from_files(path, tfms=tfms)\n",
    "sd = SplitData.split_by_func(il, splitter)\n",
    "ll = label_by_func(sd, parent_labeler, proc_y=CategoryProcessor())"
   ]
  },
  {
   "cell_type": "markdown",
   "metadata": {
    "heading_collapsed": true,
    "hidden": true
   },
   "source": [
    "### Databunch"
   ]
  },
  {
   "cell_type": "code",
   "execution_count": 52,
   "metadata": {
    "hidden": true
   },
   "outputs": [],
   "source": [
    "bs=64\n",
    "train_dl,valid_dl = get_dls(ll.train,ll.valid,bs, num_workers=4)\n",
    "#export\n",
    "class DataBunch():\n",
    "    def __init__(self, train_dl, valid_dl, c_in=None, c_out=None):\n",
    "        self.train_dl,self.valid_dl,self.c_in,self.c_out = train_dl,valid_dl,c_in,c_out\n",
    "\n",
    "    @property\n",
    "    def train_ds(self): return self.train_dl.dataset\n",
    "\n",
    "    @property\n",
    "    def valid_ds(self): return self.valid_dl.dataset"
   ]
  },
  {
   "cell_type": "code",
   "execution_count": 53,
   "metadata": {
    "hidden": true
   },
   "outputs": [],
   "source": [
    "#export\n",
    "def databunchify(sd, bs, c_in=None, c_out=None, **kwargs):\n",
    "    dls = get_dls(sd.train, sd.valid, bs, **kwargs)\n",
    "    return DataBunch(*dls, c_in=c_in, c_out=c_out)\n",
    "\n",
    "SplitData.to_databunch = databunchify"
   ]
  },
  {
   "cell_type": "code",
   "execution_count": 54,
   "metadata": {
    "hidden": true
   },
   "outputs": [],
   "source": [
    "path = datasets.untar_data(datasets.URLs.IMAGENETTE_160)\n",
    "tfms = [make_rgb, ResizeFixed(128), to_byte_tensor, to_float_tensor]\n",
    "\n",
    "il = ImageList.from_files(path, tfms=tfms)\n",
    "sd = SplitData.split_by_func(il, partial(grandparent_splitter, valid_name='val'))\n",
    "ll = label_by_func(sd, parent_labeler, proc_y=CategoryProcessor())\n",
    "data = ll.to_databunch(bs, c_in=3, c_out=10, num_workers=4)"
   ]
  },
  {
   "cell_type": "markdown",
   "metadata": {
    "heading_collapsed": true,
    "hidden": true
   },
   "source": [
    "### Model"
   ]
  },
  {
   "cell_type": "code",
   "execution_count": 58,
   "metadata": {
    "hidden": true
   },
   "outputs": [],
   "source": [
    "cbfs = [partial(AvgStatsCallback,accuracy),\n",
    "        CudaCallback]"
   ]
  },
  {
   "cell_type": "code",
   "execution_count": 59,
   "metadata": {
    "hidden": true
   },
   "outputs": [],
   "source": [
    "#export\n",
    "def normalize_chan(x, mean, std):\n",
    "    return (x-mean[...,None,None]) / std[...,None,None]\n",
    "\n",
    "_m = tensor([0.47, 0.48, 0.45])\n",
    "_s = tensor([0.29, 0.28, 0.30])\n",
    "norm_imagenette = partial(normalize_chan, mean=_m.cuda(), std=_s.cuda())"
   ]
  },
  {
   "cell_type": "code",
   "execution_count": 60,
   "metadata": {
    "hidden": true
   },
   "outputs": [],
   "source": [
    "cbfs.append(partial(BatchTransformXCallback, norm_imagenette))"
   ]
  },
  {
   "cell_type": "code",
   "execution_count": 61,
   "metadata": {
    "hidden": true
   },
   "outputs": [],
   "source": [
    "nfs = [64,64,128,256]\n",
    "\n",
    "#export\n",
    "import math\n",
    "def prev_pow_2(x): return 2**math.floor(math.log2(x))\n",
    "\n",
    "def get_cnn_layers(data, nfs, layer, **kwargs):\n",
    "    def f(ni, nf, stride=2): return layer(ni, nf, 3, stride=stride, **kwargs)\n",
    "    l1 = data.c_in\n",
    "    l2 = prev_pow_2(l1*3*3)\n",
    "    layers =  [f(l1  , l2  , stride=1),\n",
    "               f(l2  , l2*2, stride=2),\n",
    "               f(l2*2, l2*4, stride=2)]\n",
    "    nfs = [l2*4] + nfs\n",
    "    layers += [f(nfs[i], nfs[i+1]) for i in range(len(nfs)-1)]\n",
    "    layers += [nn.AdaptiveAvgPool2d(1), Lambda(flatten), \n",
    "               nn.Linear(nfs[-1], data.c_out)]\n",
    "    return layers\n",
    "\n",
    "def get_cnn_model(data, nfs, layer, **kwargs):\n",
    "    return nn.Sequential(*get_cnn_layers(data, nfs, layer, **kwargs))\n",
    "\n",
    "def get_learn_run(nfs, data, lr, layer, cbs=None, opt_func=None, **kwargs):\n",
    "    model = get_cnn_model(data, nfs, layer, **kwargs)\n",
    "    init_cnn(model)\n",
    "    return get_runner(model, data, lr=lr, cbs=cbs, opt_func=opt_func)"
   ]
  },
  {
   "cell_type": "code",
   "execution_count": 62,
   "metadata": {
    "hidden": true
   },
   "outputs": [],
   "source": [
    "sched = combine_scheds([0.3,0.7], cos_1cycle_anneal(0.1,0.3,0.05))"
   ]
  },
  {
   "cell_type": "code",
   "execution_count": 63,
   "metadata": {
    "hidden": true
   },
   "outputs": [],
   "source": [
    "learn,run = get_learn_run(nfs, data, 0.2, conv_layer, cbs=cbfs+[\n",
    "    partial(ParamScheduler, 'lr', sched)\n",
    "])"
   ]
  },
  {
   "cell_type": "code",
   "execution_count": 64,
   "metadata": {
    "hidden": true
   },
   "outputs": [
    {
     "name": "stdout",
     "output_type": "stream",
     "text": [
      "train: [1.8030621679657204, tensor(0.3730, device='cuda:0')]\n",
      "valid: [1.792403564453125, tensor(0.4060, device='cuda:0')]\n",
      "train: [1.34838333236389, tensor(0.5508, device='cuda:0')]\n",
      "valid: [1.369734619140625, tensor(0.5300, device='cuda:0')]\n",
      "train: [1.0046060667752443, tensor(0.6754, device='cuda:0')]\n",
      "valid: [0.9614146728515625, tensor(0.6900, device='cuda:0')]\n",
      "train: [0.7327852647064527, tensor(0.7676, device='cuda:0')]\n",
      "valid: [0.871258056640625, tensor(0.7160, device='cuda:0')]\n",
      "train: [0.5100594874554056, tensor(0.8471, device='cuda:0')]\n",
      "valid: [0.8512341918945312, tensor(0.7300, device='cuda:0')]\n",
      "CPU times: user 12.8 s, sys: 6.01 s, total: 18.8 s\n",
      "Wall time: 1min 45s\n"
     ]
    }
   ],
   "source": [
    "%time run.fit(5, learn)"
   ]
  },
  {
   "cell_type": "code",
   "execution_count": null,
   "metadata": {
    "hidden": true
   },
   "outputs": [],
   "source": [
    "model_summary(run, learn, data)"
   ]
  },
  {
   "cell_type": "code",
   "execution_count": 65,
   "metadata": {
    "collapsed": true,
    "hidden": true
   },
   "outputs": [
    {
     "data": {
      "text/plain": [
       "Sequential(\n",
       "  (0): Sequential(\n",
       "    (0): Conv2d(3, 16, kernel_size=(3, 3), stride=(1, 1), padding=(1, 1), bias=False)\n",
       "    (1): GeneralRelu()\n",
       "    (2): BatchNorm2d(16, eps=1e-05, momentum=0.1, affine=True, track_running_stats=True)\n",
       "  )\n",
       "  (1): Sequential(\n",
       "    (0): Conv2d(16, 32, kernel_size=(3, 3), stride=(2, 2), padding=(1, 1), bias=False)\n",
       "    (1): GeneralRelu()\n",
       "    (2): BatchNorm2d(32, eps=1e-05, momentum=0.1, affine=True, track_running_stats=True)\n",
       "  )\n",
       "  (2): Sequential(\n",
       "    (0): Conv2d(32, 64, kernel_size=(3, 3), stride=(2, 2), padding=(1, 1), bias=False)\n",
       "    (1): GeneralRelu()\n",
       "    (2): BatchNorm2d(64, eps=1e-05, momentum=0.1, affine=True, track_running_stats=True)\n",
       "  )\n",
       "  (3): Sequential(\n",
       "    (0): Conv2d(64, 64, kernel_size=(3, 3), stride=(2, 2), padding=(1, 1), bias=False)\n",
       "    (1): GeneralRelu()\n",
       "    (2): BatchNorm2d(64, eps=1e-05, momentum=0.1, affine=True, track_running_stats=True)\n",
       "  )\n",
       "  (4): Sequential(\n",
       "    (0): Conv2d(64, 64, kernel_size=(3, 3), stride=(2, 2), padding=(1, 1), bias=False)\n",
       "    (1): GeneralRelu()\n",
       "    (2): BatchNorm2d(64, eps=1e-05, momentum=0.1, affine=True, track_running_stats=True)\n",
       "  )\n",
       "  (5): Sequential(\n",
       "    (0): Conv2d(64, 128, kernel_size=(3, 3), stride=(2, 2), padding=(1, 1), bias=False)\n",
       "    (1): GeneralRelu()\n",
       "    (2): BatchNorm2d(128, eps=1e-05, momentum=0.1, affine=True, track_running_stats=True)\n",
       "  )\n",
       "  (6): Sequential(\n",
       "    (0): Conv2d(128, 256, kernel_size=(3, 3), stride=(2, 2), padding=(1, 1), bias=False)\n",
       "    (1): GeneralRelu()\n",
       "    (2): BatchNorm2d(256, eps=1e-05, momentum=0.1, affine=True, track_running_stats=True)\n",
       "  )\n",
       "  (7): AdaptiveAvgPool2d(output_size=1)\n",
       "  (8): Lambda()\n",
       "  (9): Linear(in_features=256, out_features=10, bias=True)\n",
       ")"
      ]
     },
     "execution_count": 65,
     "metadata": {},
     "output_type": "execute_result"
    }
   ],
   "source": [
    "learn.model"
   ]
  },
  {
   "cell_type": "code",
   "execution_count": 79,
   "metadata": {
    "hidden": true
   },
   "outputs": [],
   "source": [
    "def shape(h, m, inp, oup):\n",
    "    print(m, '\\n', m.p.shape)"
   ]
  },
  {
   "cell_type": "code",
   "execution_count": 80,
   "metadata": {
    "hidden": true
   },
   "outputs": [
    {
     "name": "stdout",
     "output_type": "stream",
     "text": [
      "Sequential(\n",
      "  (0): Conv2d(3, 16, kernel_size=(3, 3), stride=(1, 1), padding=(1, 1), bias=False)\n",
      "  (1): GeneralRelu()\n",
      "  (2): BatchNorm2d(16, eps=1e-05, momentum=0.1, affine=True, track_running_stats=True)\n",
      ") \n",
      " torch.Size([116, 16, 128, 128])\n",
      "Sequential(\n",
      "  (0): Conv2d(16, 32, kernel_size=(3, 3), stride=(2, 2), padding=(1, 1), bias=False)\n",
      "  (1): GeneralRelu()\n",
      "  (2): BatchNorm2d(32, eps=1e-05, momentum=0.1, affine=True, track_running_stats=True)\n",
      ") \n",
      " torch.Size([116, 32, 64, 64])\n",
      "Sequential(\n",
      "  (0): Conv2d(32, 64, kernel_size=(3, 3), stride=(2, 2), padding=(1, 1), bias=False)\n",
      "  (1): GeneralRelu()\n",
      "  (2): BatchNorm2d(64, eps=1e-05, momentum=0.1, affine=True, track_running_stats=True)\n",
      ") \n",
      " torch.Size([116, 64, 32, 32])\n",
      "Sequential(\n",
      "  (0): Conv2d(64, 64, kernel_size=(3, 3), stride=(2, 2), padding=(1, 1), bias=False)\n",
      "  (1): GeneralRelu()\n",
      "  (2): BatchNorm2d(64, eps=1e-05, momentum=0.1, affine=True, track_running_stats=True)\n",
      ") \n",
      " torch.Size([116, 64, 16, 16])\n",
      "Sequential(\n",
      "  (0): Conv2d(64, 64, kernel_size=(3, 3), stride=(2, 2), padding=(1, 1), bias=False)\n",
      "  (1): GeneralRelu()\n",
      "  (2): BatchNorm2d(64, eps=1e-05, momentum=0.1, affine=True, track_running_stats=True)\n",
      ") \n",
      " torch.Size([116, 64, 8, 8])\n",
      "Sequential(\n",
      "  (0): Conv2d(64, 128, kernel_size=(3, 3), stride=(2, 2), padding=(1, 1), bias=False)\n",
      "  (1): GeneralRelu()\n",
      "  (2): BatchNorm2d(128, eps=1e-05, momentum=0.1, affine=True, track_running_stats=True)\n",
      ") \n",
      " torch.Size([116, 128, 4, 4])\n",
      "Sequential(\n",
      "  (0): Conv2d(128, 256, kernel_size=(3, 3), stride=(2, 2), padding=(1, 1), bias=False)\n",
      "  (1): GeneralRelu()\n",
      "  (2): BatchNorm2d(256, eps=1e-05, momentum=0.1, affine=True, track_running_stats=True)\n",
      ") \n",
      " torch.Size([116, 256, 2, 2])\n",
      "AdaptiveAvgPool2d(output_size=1) \n",
      " torch.Size([116, 256, 1, 1])\n",
      "Lambda() \n",
      " torch.Size([116, 256])\n",
      "Linear(in_features=256, out_features=10, bias=True) \n",
      " torch.Size([116, 10])\n"
     ]
    }
   ],
   "source": [
    "with Hooks(learn.model.children(), shape) as h:\n",
    "    _ = learn.model(run.xb)"
   ]
  },
  {
   "cell_type": "code",
   "execution_count": null,
   "metadata": {
    "hidden": true
   },
   "outputs": [],
   "source": [
    "#export\n",
    "def model_summary(run, learn, data, find_all=False):\n",
    "    xb,yb = get_batch(data.valid_dl, run)\n",
    "    device = next(learn.model.parameters()).device#Model may not be on the GPU yet\n",
    "    xb,yb = xb.to(device),yb.to(device)\n",
    "    mods = find_modules(learn.model, is_lin_layer) if find_all else learn.model.children()\n",
    "    f = lambda hook,mod,inp,out: print(f\"{mod}\\n{out.shape}\\n\")\n",
    "    with Hooks(mods, f) as hooks: learn.model(xb)"
   ]
  },
  {
   "cell_type": "markdown",
   "metadata": {},
   "source": [
    "## Optimizers"
   ]
  },
  {
   "cell_type": "code",
   "execution_count": 5,
   "metadata": {},
   "outputs": [],
   "source": [
    "#export\n",
    "from exp.nb_08 import *"
   ]
  },
  {
   "cell_type": "code",
   "execution_count": 6,
   "metadata": {},
   "outputs": [],
   "source": [
    "path = datasets.untar_data(datasets.URLs.IMAGENETTE_160)\n",
    "\n",
    "tfms = [make_rgb, ResizeFixed(128), to_byte_tensor, to_float_tensor]\n",
    "bs=128\n",
    "\n",
    "il = ImageList.from_files(path, tfms=tfms)\n",
    "sd = SplitData.split_by_func(il, partial(grandparent_splitter, valid_name='val'))\n",
    "ll = label_by_func(sd, parent_labeler, proc_y=CategoryProcessor())\n",
    "data = ll.to_databunch(bs, c_in=3, c_out=10, num_workers=4)"
   ]
  },
  {
   "cell_type": "code",
   "execution_count": 7,
   "metadata": {},
   "outputs": [],
   "source": [
    "nfs = [32,64,128,256]\n",
    "\n",
    "cbfs = [partial(AvgStatsCallback,accuracy), CudaCallback,\n",
    "        partial(BatchTransformXCallback, norm_imagenette)]"
   ]
  },
  {
   "cell_type": "code",
   "execution_count": 8,
   "metadata": {},
   "outputs": [],
   "source": [
    "learn,run = get_learn_run(nfs, data, 0.4, conv_layer, cbs=cbfs)"
   ]
  },
  {
   "cell_type": "code",
   "execution_count": 9,
   "metadata": {},
   "outputs": [
    {
     "name": "stdout",
     "output_type": "stream",
     "text": [
      "train: [1.7422794456239337, tensor(0.3948, device='cuda:0')]\n",
      "valid: [1.42234912109375, tensor(0.5140, device='cuda:0')]\n"
     ]
    }
   ],
   "source": [
    "run.fit(1, learn)"
   ]
  },
  {
   "cell_type": "code",
   "execution_count": 2,
   "metadata": {},
   "outputs": [],
   "source": [
    "def get_defaults(d): return getattr(d,'_defaults',{})"
   ]
  },
  {
   "cell_type": "code",
   "execution_count": 21,
   "metadata": {
    "collapsed": true
   },
   "outputs": [
    {
     "data": {
      "text/plain": [
       "Sequential(\n",
       "  (0): Sequential(\n",
       "    (0): Conv2d(3, 16, kernel_size=(3, 3), stride=(1, 1), padding=(1, 1), bias=False)\n",
       "    (1): GeneralRelu()\n",
       "    (2): BatchNorm2d(16, eps=1e-05, momentum=0.1, affine=True, track_running_stats=True)\n",
       "  )\n",
       "  (1): Sequential(\n",
       "    (0): Conv2d(16, 32, kernel_size=(3, 3), stride=(2, 2), padding=(1, 1), bias=False)\n",
       "    (1): GeneralRelu()\n",
       "    (2): BatchNorm2d(32, eps=1e-05, momentum=0.1, affine=True, track_running_stats=True)\n",
       "  )\n",
       "  (2): Sequential(\n",
       "    (0): Conv2d(32, 64, kernel_size=(3, 3), stride=(2, 2), padding=(1, 1), bias=False)\n",
       "    (1): GeneralRelu()\n",
       "    (2): BatchNorm2d(64, eps=1e-05, momentum=0.1, affine=True, track_running_stats=True)\n",
       "  )\n",
       "  (3): Sequential(\n",
       "    (0): Conv2d(64, 32, kernel_size=(3, 3), stride=(2, 2), padding=(1, 1), bias=False)\n",
       "    (1): GeneralRelu()\n",
       "    (2): BatchNorm2d(32, eps=1e-05, momentum=0.1, affine=True, track_running_stats=True)\n",
       "  )\n",
       "  (4): Sequential(\n",
       "    (0): Conv2d(32, 64, kernel_size=(3, 3), stride=(2, 2), padding=(1, 1), bias=False)\n",
       "    (1): GeneralRelu()\n",
       "    (2): BatchNorm2d(64, eps=1e-05, momentum=0.1, affine=True, track_running_stats=True)\n",
       "  )\n",
       "  (5): Sequential(\n",
       "    (0): Conv2d(64, 128, kernel_size=(3, 3), stride=(2, 2), padding=(1, 1), bias=False)\n",
       "    (1): GeneralRelu()\n",
       "    (2): BatchNorm2d(128, eps=1e-05, momentum=0.1, affine=True, track_running_stats=True)\n",
       "  )\n",
       "  (6): Sequential(\n",
       "    (0): Conv2d(128, 256, kernel_size=(3, 3), stride=(2, 2), padding=(1, 1), bias=False)\n",
       "    (1): GeneralRelu()\n",
       "    (2): BatchNorm2d(256, eps=1e-05, momentum=0.1, affine=True, track_running_stats=True)\n",
       "  )\n",
       "  (7): AdaptiveAvgPool2d(output_size=1)\n",
       "  (8): Lambda()\n",
       "  (9): Linear(in_features=256, out_features=10, bias=True)\n",
       ")"
      ]
     },
     "execution_count": 21,
     "metadata": {},
     "output_type": "execute_result"
    }
   ],
   "source": [
    "learn.model"
   ]
  },
  {
   "cell_type": "code",
   "execution_count": 20,
   "metadata": {
    "collapsed": true
   },
   "outputs": [
    {
     "name": "stdout",
     "output_type": "stream",
     "text": [
      "0.0.weight torch.Size([16, 3, 3, 3])\n",
      "0.2.weight torch.Size([16])\n",
      "0.2.bias torch.Size([16])\n",
      "1.0.weight torch.Size([32, 16, 3, 3])\n",
      "1.2.weight torch.Size([32])\n",
      "1.2.bias torch.Size([32])\n",
      "2.0.weight torch.Size([64, 32, 3, 3])\n",
      "2.2.weight torch.Size([64])\n",
      "2.2.bias torch.Size([64])\n",
      "3.0.weight torch.Size([32, 64, 3, 3])\n",
      "3.2.weight torch.Size([32])\n",
      "3.2.bias torch.Size([32])\n",
      "4.0.weight torch.Size([64, 32, 3, 3])\n",
      "4.2.weight torch.Size([64])\n",
      "4.2.bias torch.Size([64])\n",
      "5.0.weight torch.Size([128, 64, 3, 3])\n",
      "5.2.weight torch.Size([128])\n",
      "5.2.bias torch.Size([128])\n",
      "6.0.weight torch.Size([256, 128, 3, 3])\n",
      "6.2.weight torch.Size([256])\n",
      "6.2.bias torch.Size([256])\n",
      "9.weight torch.Size([10, 256])\n",
      "9.bias torch.Size([10])\n"
     ]
    }
   ],
   "source": [
    "for i, j in list(learn.model.named_parameters()):\n",
    "    print(i, j.shape)"
   ]
  },
  {
   "cell_type": "code",
   "execution_count": 22,
   "metadata": {
    "code_folding": []
   },
   "outputs": [],
   "source": [
    "class Optimizer():\n",
    "    def __init__(self, params, steppers, **defaults):\n",
    "        # might be a generator\n",
    "        self.param_groups = list(params)\n",
    "        # ensure params is a list of lists\n",
    "        if not isinstance(self.param_groups[0], list): self.param_groups = [self.param_groups]\n",
    "        self.hypers = [{**defaults} for p in self.param_groups]\n",
    "        self.steppers = listify(steppers)\n",
    "\n",
    "    def grad_params(self):\n",
    "        return [(p,hyper) for pg,hyper in zip(self.param_groups,self.hypers)\n",
    "            for p in pg if p.grad is not None]\n",
    "\n",
    "    def zero_grad(self):\n",
    "        for p,hyper in self.grad_params():\n",
    "            p.grad.detach_()\n",
    "            p.grad.zero_()\n",
    "\n",
    "    def step(self):\n",
    "        for p,hyper in self.grad_params(): compose(p, self.steppers, **hyper)\n",
    "            \n",
    "#export\n",
    "def sgd_step(p, lr, **kwargs):\n",
    "    p.data.add_(-lr, p.grad.data)\n",
    "    return p\n",
    "\n",
    "opt_func = partial(Optimizer, steppers=[sgd_step])\n",
    "\n",
    "#export\n",
    "class Recorder(Callback):\n",
    "    def begin_fit(self): self.lrs,self.losses = [],[]\n",
    "\n",
    "    def after_batch(self):\n",
    "        if not self.in_train: return\n",
    "        self.lrs.append(self.opt.hypers[-1]['lr'])\n",
    "        self.losses.append(self.loss.detach().cpu())        \n",
    "\n",
    "    def plot_lr  (self): plt.plot(self.lrs)\n",
    "    def plot_loss(self): plt.plot(self.losses)\n",
    "        \n",
    "    def plot(self, skip_last=0):\n",
    "        losses = [o.item() for o in self.losses]\n",
    "        n = len(losses)-skip_last\n",
    "        plt.xscale('log')\n",
    "        plt.plot(self.lrs[:n], losses[:n])\n",
    "\n",
    "class ParamScheduler(Callback):\n",
    "    _order=1\n",
    "    def __init__(self, pname, sched_funcs):\n",
    "        self.pname,self.sched_funcs = pname,listify(sched_funcs)\n",
    "\n",
    "    def begin_batch(self): \n",
    "        if not self.in_train: return\n",
    "        fs = self.sched_funcs\n",
    "        if len(fs)==1: fs = fs*len(self.opt.param_groups)\n",
    "        pos = self.n_epochs/self.epochs\n",
    "        for f,h in zip(fs,self.opt.hypers): h[self.pname] = f(pos)\n",
    "            \n",
    "class LR_Find(Callback):\n",
    "    _order=1\n",
    "    def __init__(self, max_iter=100, min_lr=1e-6, max_lr=10):\n",
    "        self.max_iter,self.min_lr,self.max_lr = max_iter,min_lr,max_lr\n",
    "        self.best_loss = 1e9\n",
    "        \n",
    "    def begin_batch(self): \n",
    "        if not self.in_train: return\n",
    "        pos = self.n_iter/self.max_iter\n",
    "        lr = self.min_lr * (self.max_lr/self.min_lr) ** pos\n",
    "        for pg in self.opt.hypers: pg['lr'] = lr\n",
    "            \n",
    "    def after_step(self):\n",
    "        if self.n_iter>=self.max_iter or self.loss>self.best_loss*10:\n",
    "            raise CancelTrainException()\n",
    "        if self.loss < self.best_loss: self.best_loss = self.loss\n",
    "            \n",
    "sched = combine_scheds([0.3, 0.7], [sched_cos(0.3, 0.6), sched_cos(0.6, 0.2)]) \n",
    "\n",
    "cbfs = [partial(AvgStatsCallback,accuracy),\n",
    "        CudaCallback, Recorder,\n",
    "        partial(ParamScheduler, 'lr', sched)]"
   ]
  },
  {
   "cell_type": "code",
   "execution_count": 23,
   "metadata": {},
   "outputs": [
    {
     "name": "stdout",
     "output_type": "stream",
     "text": [
      "train: [1.7361109091437879, tensor(0.3986, device='cuda:0')]\n",
      "valid: [1.42305908203125, tensor(0.5500, device='cuda:0')]\n",
      "CPU times: user 2.68 s, sys: 1.69 s, total: 4.37 s\n",
      "Wall time: 5.8 s\n"
     ]
    }
   ],
   "source": [
    "learn,run = get_learn_run(nfs, data, 0.4, conv_layer, cbs=cbfs, opt_func=opt_func)\n",
    "%time run.fit(1, learn)"
   ]
  },
  {
   "cell_type": "code",
   "execution_count": 24,
   "metadata": {},
   "outputs": [
    {
     "data": {
      "image/png": "[encoded data removed]",
      "text/plain": [
       "<Figure size 432x288 with 1 Axes>"
      ]
     },
     "metadata": {
      "needs_background": "light"
     },
     "output_type": "display_data"
    }
   ],
   "source": [
    "run.recorder.plot_loss()"
   ]
  },
  {
   "cell_type": "code",
   "execution_count": 25,
   "metadata": {},
   "outputs": [
    {
     "data": {
      "image/png": "[encoded data removed]",
      "text/plain": [
       "<Figure size 432x288 with 1 Axes>"
      ]
     },
     "metadata": {
      "needs_background": "light"
     },
     "output_type": "display_data"
    }
   ],
   "source": [
    "run.recorder.plot_lr()"
   ]
  },
  {
   "cell_type": "code",
   "execution_count": 26,
   "metadata": {},
   "outputs": [],
   "source": [
    "#export\n",
    "def weight_decay(p, lr, wd, **kwargs):\n",
    "    p.data.mul_(1 - lr*wd)\n",
    "    return p\n",
    "weight_decay._defaults = dict(wd=0.)\n",
    "\n",
    "#export\n",
    "def l2_reg(p, lr, wd, **kwargs):\n",
    "    p.grad.data.add_(wd, p.data)\n",
    "    return p\n",
    "l2_reg._defaults = dict(wd=0.)\n",
    "\n",
    "#export\n",
    "def maybe_update(os, dest, f):\n",
    "    for o in os:\n",
    "        for k,v in f(o).items():\n",
    "            if k not in dest: dest[k] = v\n",
    "\n",
    "def get_defaults(d): return getattr(d,'_defaults',{})"
   ]
  },
  {
   "cell_type": "code",
   "execution_count": 33,
   "metadata": {},
   "outputs": [],
   "source": [
    "#export\n",
    "class Optimizer():\n",
    "    def __init__(self, params, steppers, **defaults):\n",
    "        self.steppers = listify(steppers)\n",
    "        maybe_update(self.steppers, defaults, get_defaults)\n",
    "        # might be a generator\n",
    "        self.param_groups = list(params)\n",
    "        # ensure params is a list of lists\n",
    "        if not isinstance(self.param_groups[0], list): self.param_groups = [self.param_groups]\n",
    "        self.hypers = [{**defaults} for p in self.param_groups]\n",
    "\n",
    "    def grad_params(self):\n",
    "        return [(p,hyper) for pg,hyper in zip(self.param_groups,self.hypers)\n",
    "            for p in pg if p.grad is not None]\n",
    "\n",
    "    def zero_grad(self):\n",
    "        for p,hyper in self.grad_params():\n",
    "            p.grad.detach_()\n",
    "            p.grad.zero_()\n",
    "\n",
    "    def step(self):\n",
    "        for p,hyper in self.grad_params(): compose(p, self.steppers, **hyper)"
   ]
  },
  {
   "cell_type": "code",
   "execution_count": 34,
   "metadata": {},
   "outputs": [],
   "source": [
    "#export \n",
    "sgd_opt = partial(Optimizer, steppers=[weight_decay, sgd_step])"
   ]
  },
  {
   "cell_type": "code",
   "execution_count": 35,
   "metadata": {},
   "outputs": [],
   "source": [
    "learn,run = get_learn_run(nfs, data, 0.4, conv_layer, cbs=cbfs, opt_func=sgd_opt)"
   ]
  },
  {
   "cell_type": "code",
   "execution_count": 37,
   "metadata": {},
   "outputs": [],
   "source": [
    "model = learn.model"
   ]
  },
  {
   "cell_type": "code",
   "execution_count": 38,
   "metadata": {},
   "outputs": [],
   "source": [
    "opt = sgd_opt(model.parameters(), lr=0.1)\n",
    "test_eq(opt.hypers[0]['wd'], 0.)\n",
    "test_eq(opt.hypers[0]['lr'], 0.1)"
   ]
  },
  {
   "cell_type": "code",
   "execution_count": 39,
   "metadata": {},
   "outputs": [
    {
     "name": "stdout",
     "output_type": "stream",
     "text": [
      "train: [1.8190761570304017, tensor(0.3680, device='cuda:0')]\n",
      "valid: [1.7907322998046875, tensor(0.3600, device='cuda:0')]\n"
     ]
    }
   ],
   "source": [
    "cbfs = [partial(AvgStatsCallback,accuracy), CudaCallback]\n",
    "\n",
    "learn,run = get_learn_run(nfs, data, 0.3, conv_layer, cbs=cbfs, opt_func=partial(sgd_opt, wd=0.01))\n",
    "\n",
    "run.fit(1, learn)"
   ]
  },
  {
   "cell_type": "markdown",
   "metadata": {},
   "source": [
    "### With momentum"
   ]
  },
  {
   "cell_type": "code",
   "execution_count": null,
   "metadata": {},
   "outputs": [],
   "source": [
    "#export\n",
    "class StatefulOptimizer(Optimizer):\n",
    "    def __init__(self, params, steppers, stats=None, **defaults): \n",
    "        self.stats = listify(stats)\n",
    "        maybe_update(self.stats, defaults, get_defaults)\n",
    "        super().__init__(params, steppers, **defaults)\n",
    "        self.state = {}\n",
    "        \n",
    "    def step(self):\n",
    "        for p,hyper in self.grad_params():\n",
    "            if p not in self.state:\n",
    "                #Create a state for p and call all the statistics to initialize it.\n",
    "                self.state[p] = {}\n",
    "                maybe_update(self.stats, self.state[p], lambda o: o.init_state(p))\n",
    "            state = self.state[p]\n",
    "            for stat in self.stats: state = stat.update(p, state, **hyper)\n",
    "            compose(p, self.steppers, **state, **hyper)\n",
    "            self.state[p] = state"
   ]
  },
  {
   "cell_type": "code",
   "execution_count": 40,
   "metadata": {},
   "outputs": [],
   "source": [
    "#export\n",
    "class Stat():\n",
    "    _defaults = {}\n",
    "    def init_state(self, p): raise NotImplementedError\n",
    "    def update(self, p, state, **kwargs): raise NotImplementedError    "
   ]
  },
  {
   "cell_type": "code",
   "execution_count": 41,
   "metadata": {},
   "outputs": [],
   "source": [
    "class AverageGrad(Stat):\n",
    "    _defaults = dict(mom=0.9)\n",
    "\n",
    "    def init_state(self, p): return {'grad_avg': torch.zeros_like(p.grad.data)}\n",
    "    def update(self, p, state, mom, **kwargs):\n",
    "        state['grad_avg'].mul_(mom).add_(p.grad.data)\n",
    "        return state"
   ]
  },
  {
   "cell_type": "code",
   "execution_count": 42,
   "metadata": {},
   "outputs": [],
   "source": [
    "#export\n",
    "def momentum_step(p, lr, grad_avg, **kwargs):\n",
    "    p.data.add_(-lr, grad_avg)\n",
    "    return p"
   ]
  },
  {
   "cell_type": "code",
   "execution_count": 43,
   "metadata": {},
   "outputs": [
    {
     "name": "stdout",
     "output_type": "stream",
     "text": [
      "train: [1.8014285047793548, tensor(0.3848, device='cuda:0')]\n",
      "valid: [1.577860107421875, tensor(0.4780, device='cuda:0')]\n"
     ]
    }
   ],
   "source": [
    "sgd_mom_opt = partial(StatefulOptimizer, steppers=[momentum_step,weight_decay],\n",
    "                  stats=AverageGrad(), wd=0.01)\n",
    "\n",
    "learn,run = get_learn_run(nfs, data, 0.3, conv_layer, cbs=cbfs, opt_func=sgd_mom_opt)\n",
    "\n",
    "run.fit(1, learn)"
   ]
  },
  {
   "cell_type": "code",
   "execution_count": 63,
   "metadata": {},
   "outputs": [
    {
     "data": {
      "text/plain": [
       "dict"
      ]
     },
     "execution_count": 63,
     "metadata": {},
     "output_type": "execute_result"
    }
   ],
   "source": [
    "type(learn.opt.state[list(learn.opt.state.keys())[0]])"
   ]
  },
  {
   "cell_type": "code",
   "execution_count": 65,
   "metadata": {},
   "outputs": [
    {
     "data": {
      "text/plain": [
       "[<function __main__.momentum_step(p, lr, grad_avg, **kwargs)>,\n",
       " <function __main__.weight_decay(p, lr, wd, **kwargs)>]"
      ]
     },
     "execution_count": 65,
     "metadata": {},
     "output_type": "execute_result"
    }
   ],
   "source": [
    "learn.opt.steppers"
   ]
  },
  {
   "cell_type": "code",
   "execution_count": null,
   "metadata": {},
   "outputs": [],
   "source": []
  },
  {
   "cell_type": "code",
   "execution_count": null,
   "metadata": {},
   "outputs": [],
   "source": []
  },
  {
   "cell_type": "code",
   "execution_count": null,
   "metadata": {},
   "outputs": [],
   "source": []
  },
  {
   "cell_type": "code",
   "execution_count": null,
   "metadata": {},
   "outputs": [],
   "source": []
  },
  {
   "cell_type": "code",
   "execution_count": null,
   "metadata": {},
   "outputs": [],
   "source": []
  }
 ],
 "metadata": {
  "kernelspec": {
   "display_name": "fav3p2",
   "language": "python",
   "name": "base"
  },
  "language_info": {
   "codemirror_mode": {
    "name": "ipython",
    "version": 3
   },
   "file_extension": ".py",
   "mimetype": "text/x-python",
   "name": "python",
   "nbconvert_exporter": "python",
   "pygments_lexer": "ipython3",
   "version": "3.6.8"
  }
 },
 "nbformat": 4,
 "nbformat_minor": 2
}
