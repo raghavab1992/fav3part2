{
 "cells": [
  {
   "cell_type": "code",
   "execution_count": null,
   "metadata": {},
   "outputs": [],
   "source": [
    "from nb_200 import *"
   ]
  },
  {
   "cell_type": "markdown",
   "metadata": {},
   "source": [
    "## Get the data"
   ]
  },
  {
   "cell_type": "code",
   "execution_count": null,
   "metadata": {},
   "outputs": [],
   "source": [
    "class PetsData(DataBlock):\n",
    "    get_x_cls = ImageGetter\n",
    "    get_y_cls = CategoryGetter\n",
    "    \n",
    "    def get_source(self):        return untar_data(URLs.PETS)\n",
    "    def get_items(self, source): return get_image_files(source/\"images\")\n",
    "    def split(self, items):      return random_splitter(items)\n",
    "    def label(self, items):      return re_labeller(items, pat = r'/([^/]+)_\\d+.jpg$')"
   ]
  },
  {
   "cell_type": "code",
   "execution_count": null,
   "metadata": {},
   "outputs": [],
   "source": [
    "class PlanetData(DataBlock):\n",
    "    get_x_cls = ImageGetter\n",
    "    get_y_cls = MultiCategoryGetter\n",
    "    \n",
    "    def get_source(self):        \n",
    "        self.path = untar_data(URLs.PLANET_SAMPLE)\n",
    "        return pd.read_csv(path/'labels.csv')\n",
    "    def get_items(self, source): return read_column(source, 'image_name', prefix=f'{self.path}/train/', suffix='.jpg')\n",
    "    def split(self, items):      return random_splitter(items)\n",
    "    def label(self, items):      return read_column(self.source, 'tags', delim=' ')"
   ]
  },
  {
   "cell_type": "code",
   "execution_count": null,
   "metadata": {},
   "outputs": [],
   "source": [
    "class CamvidData(DataBlock):\n",
    "    get_x_cls = ImageGetter\n",
    "    get_y_cls = SegmentMaskGetter\n",
    "    \n",
    "    def get_source(self):        return untar_data(URLs.CAMVID_TINY)      \n",
    "    def get_items(self, source): return get_image_files(source/'images')\n",
    "    def split(self, items):      return random_splitter(items)\n",
    "    def label(self, items):      \n",
    "        path_lbl = self.source/'labels'\n",
    "        codes = np.loadtxt(self.source/'codes.txt', dtype=str)\n",
    "        return func_labeller(items, lambda x: path_lbl/f'{x.stem}_P{x.suffix}')"
   ]
  },
  {
   "cell_type": "code",
   "execution_count": null,
   "metadata": {},
   "outputs": [],
   "source": [
    "class BiwiData(DataBlock):\n",
    "    get_x_cls = ImageGetter\n",
    "    get_y_cls = PointsGetter\n",
    "    \n",
    "    def get_source(self):        return untar_data(URLs.BIWI_SAMPLE)      \n",
    "    def get_items(self, source): return get_image_files(source/'images')\n",
    "    def split(self, items):      return random_splitter(items)\n",
    "    def label(self, items):      \n",
    "        fn2ctr = pickle.load(open(self.source/'centers.pkl', 'rb'))\n",
    "        return func_labeller(items, lambda o:fn2ctr[o.name])"
   ]
  },
  {
   "cell_type": "code",
   "execution_count": null,
   "metadata": {},
   "outputs": [],
   "source": [
    "class CocoData(DataBlock):\n",
    "    get_x_cls = ImageGetter\n",
    "    get_y_cls = BBoxGetter\n",
    "    \n",
    "    def get_source(self):        return untar_data(URLs.COCO_TINY)      \n",
    "    def get_items(self, source): return get_image_files(source/'train')\n",
    "    def split(self, items):      return random_splitter(items)\n",
    "    def label(self, items):      \n",
    "        images, lbl_bbox = get_annotations(self.source/'train.json')\n",
    "        img2bbox = dict(zip(images, lbl_bbox))\n",
    "        return func_labeller(items, lambda o:img2bbox[o.name])\n",
    "    \n",
    "    def databunch(self, bs=64, **kwargs):\n",
    "        kwargs['collate_fn'] = bb_pad_collate\n",
    "        return super().databunch(bs=bs, **kwargs)"
   ]
  },
  {
   "cell_type": "code",
   "execution_count": null,
   "metadata": {},
   "outputs": [],
   "source": [
    "tfms = [DecodeImg(), ResizeFixed(128), ToByteTensor(), ToFloatTensor()]"
   ]
  },
  {
   "cell_type": "code",
   "execution_count": null,
   "metadata": {},
   "outputs": [],
   "source": [
    "data = PetsData(tfms=tfms).databunch()"
   ]
  },
  {
   "cell_type": "code",
   "execution_count": null,
   "metadata": {},
   "outputs": [],
   "source": [
    "data.show_batch()"
   ]
  },
  {
   "cell_type": "markdown",
   "metadata": {},
   "source": [
    "## Data augmentation on the GPU"
   ]
  },
  {
   "cell_type": "markdown",
   "metadata": {},
   "source": [
    "Writing batch transforms as transforms for now, can easily put them in callbacks."
   ]
  },
  {
   "cell_type": "code",
   "execution_count": null,
   "metadata": {},
   "outputs": [],
   "source": [
    "device = torch.device('cuda',0)"
   ]
  },
  {
   "cell_type": "code",
   "execution_count": null,
   "metadata": {},
   "outputs": [],
   "source": [
    "def to_device(x, device):\n",
    "    return [to_device(o, device) for o in x] if isinstance(x, (list,tuple)) else x.to(device)"
   ]
  },
  {
   "cell_type": "code",
   "execution_count": null,
   "metadata": {},
   "outputs": [],
   "source": [
    "class Cuda(Transform):\n",
    "    _order = 0\n",
    "    def __init__(self,device): self.device=device\n",
    "    def __call__(self, b, tfm_y=TfmY.No): return to_device(b, self.device)"
   ]
  },
  {
   "cell_type": "code",
   "execution_count": null,
   "metadata": {},
   "outputs": [],
   "source": [
    "import torch.nn.functional as F"
   ]
  },
  {
   "cell_type": "code",
   "execution_count": null,
   "metadata": {},
   "outputs": [],
   "source": [
    "class AffineAndCoordTfm(Transform):\n",
    "    def __init__(self, aff_tfms, coord_tfms, size=None, mode='bilinear', padding_mode='reflection'):\n",
    "        self.aff_tfms,self.coord_tfms,self.mode,self.padding_mode = aff_tfms,coord_tfms,mode,padding_mode\n",
    "        self.size = None if size is None else (size,size) if isinstance(size, int) else tuple(size)\n",
    "    \n",
    "    def randomize(self):\n",
    "        for t in self.aff_tfms+self.coord_tfms: t.randomize(self.x)\n",
    "    \n",
    "    def _get_affine_mat(self):\n",
    "        aff_m = torch.eye(3, dtype=self.x.dtype, device=self.x.device)\n",
    "        aff_m = aff_m.unsqueeze(0).expand(self.x.size(0), 3, 3)\n",
    "        ms = [tfm() for tfm in self.aff_tfms]\n",
    "        ms = [m for m in ms if m is not None]\n",
    "        for m in ms: aff_m = aff_m @ m\n",
    "        return aff_m\n",
    "    \n",
    "    def apply(self, x):\n",
    "        bs = x.size(0)\n",
    "        size = tuple(x.shape[-2:]) if self.size is None else self.size\n",
    "        size = (bs,x.size(1)) + size\n",
    "        coords = F.affine_grid(self._get_affine_mat()[:,:2], size)\n",
    "        coords = compose(coords, self.coord_tfms)\n",
    "        return F.grid_sample(x, coords, mode=self.mode, padding_mode=self.padding_mode)\n",
    "    \n",
    "    def apply_mask(self, y):\n",
    "        self.old_mode,self.mode = self.mode,'nearest'\n",
    "        res = self.apply(y.float())\n",
    "        self.mode = self.old_mode\n",
    "        return res.long()\n",
    "    \n",
    "    def apply_point(self, y):\n",
    "        m = self._get_affine_mat()[:,:2]\n",
    "        y = y @ m[:,:,:2] + m[:,:,2].unsqueeze(1)\n",
    "        return compose(y, self.coord_tfms, invert=True)\n",
    "    \n",
    "    def apply_bbox(self, y):\n",
    "        bbox,label = y\n",
    "        bs,n = bbox.shape[:2]\n",
    "        pnts = stack([bbox[...,:2], stack([bbox[...,0],bbox[...,3]],dim=2), \n",
    "                      stack([bbox[...,2],bbox[...,1]],dim=2), bbox[...,2:]], dim=2)\n",
    "        pnts = self.apply_point(pnts.view(bs, 4*n, 2))\n",
    "        pnts = pnts.view(bs, n, 4, 2)\n",
    "        tl,dr = pnts.min(dim=2)[0],pnts.max(dim=2)[0]\n",
    "        return [torch.cat([tl, dr], dim=2), label]"
   ]
  },
  {
   "cell_type": "markdown",
   "metadata": {},
   "source": [
    "### Rotate"
   ]
  },
  {
   "cell_type": "code",
   "execution_count": null,
   "metadata": {},
   "outputs": [],
   "source": [
    "import math\n",
    "from torch import stack, zeros_like as t0, ones_like as t1\n",
    "from torch.distributions.bernoulli import Bernoulli"
   ]
  },
  {
   "cell_type": "code",
   "execution_count": null,
   "metadata": {},
   "outputs": [],
   "source": [
    "def rotation_matrix(thetas):\n",
    "    thetas.mul_(math.pi/180)\n",
    "    rows = [stack([thetas.cos(),  thetas.sin(), t0(thetas)], dim=1),\n",
    "            stack([-thetas.sin(), thetas.cos(), t0(thetas)], dim=1),\n",
    "            stack([t0(thetas),    t0(thetas),   t1(thetas)], dim=1)]\n",
    "    return stack(rows, dim=1)"
   ]
  },
  {
   "cell_type": "code",
   "execution_count": null,
   "metadata": {},
   "outputs": [],
   "source": [
    "class DataAugTfm():\n",
    "    _order = 0\n",
    "    def randomize(self, x): pass"
   ]
  },
  {
   "cell_type": "code",
   "execution_count": null,
   "metadata": {},
   "outputs": [],
   "source": [
    "class RandomRotation():\n",
    "    def __init__(self, degrees, p=0.5):\n",
    "        self.mat,self.degrees,self.p = None,degrees,p\n",
    "    \n",
    "    def randomize(self, x):\n",
    "        mask = x.new_empty(x.size(0)).bernoulli_(self.p)\n",
    "        thetas = x.new_empty(x.size(0)).uniform_(-self.degrees,self.degrees)\n",
    "        self.mat = rotation_matrix(thetas * mask)\n",
    "    \n",
    "    def __call__(self): return self.mat"
   ]
  },
  {
   "cell_type": "code",
   "execution_count": null,
   "metadata": {},
   "outputs": [],
   "source": [
    "btfms = [Cuda(device), AffineAndCoordTfm([RandomRotation(30.)], [])]"
   ]
  },
  {
   "cell_type": "code",
   "execution_count": null,
   "metadata": {},
   "outputs": [],
   "source": [
    "class BiwiDataCorner(DataBlock):\n",
    "    get_x_cls = ImageGetter\n",
    "    get_y_cls = PointsGetter\n",
    "    \n",
    "    def get_source(self):        return untar_data(URLs.BIWI_SAMPLE)      \n",
    "    def get_items(self, source): return get_image_files(source/'images')\n",
    "    def split(self, items):      return random_splitter(items)\n",
    "    def label(self, items):      \n",
    "        fn2ctr = pickle.load(open(self.source/'centers.pkl', 'rb'))\n",
    "        return func_labeller(items, lambda o:[[0,0], [120,0]])#, [0,160], [120,160]])"
   ]
  },
  {
   "cell_type": "code",
   "execution_count": null,
   "metadata": {},
   "outputs": [],
   "source": [
    "#data = PetsData(tfms=tfms).databunch(bs=16)\n",
    "#data = CamvidData(tfms=tfms).databunch(bs=16)\n",
    "#data = BiwiData(tfms=tfms).databunch(bs=16)\n",
    "#data = BiwiDataCorner(tfms=tfms).databunch(bs=16)\n",
    "data = CocoData(tfms=tfms).databunch(bs=16)"
   ]
  },
  {
   "cell_type": "code",
   "execution_count": null,
   "metadata": {},
   "outputs": [],
   "source": [
    "def expand(sample, bs=16):\n",
    "    if isinstance(sample, (list,tuple)): return [expand(x, bs=bs) for x in sample]\n",
    "    return sample.unsqueeze(0).expand(bs, *sample.shape)"
   ]
  },
  {
   "cell_type": "code",
   "execution_count": null,
   "metadata": {},
   "outputs": [],
   "source": [
    "batch = next(iter(data.train_dl))\n",
    "b = expand(grab_idx(batch, 0))"
   ]
  },
  {
   "cell_type": "code",
   "execution_count": null,
   "metadata": {},
   "outputs": [],
   "source": [
    "batch_tfmed = compose(b, btfms, tfm_y=data.train_ds.y.item_get.default_tfm)"
   ]
  },
  {
   "cell_type": "code",
   "execution_count": null,
   "metadata": {},
   "outputs": [],
   "source": [
    "data.show_batch(batch=batch_tfmed)"
   ]
  },
  {
   "cell_type": "markdown",
   "metadata": {},
   "source": [
    "### Warp"
   ]
  },
  {
   "cell_type": "code",
   "execution_count": null,
   "metadata": {},
   "outputs": [],
   "source": [
    "def find_coeffs(p1, p2):\n",
    "    matrix = []\n",
    "    p = p1[:,0,0]\n",
    "    #The equations we'll need to solve.\n",
    "    for i in range(p1.shape[1]):\n",
    "        matrix.append(stack([p2[:,i,0], p2[:,i,1], t1(p), t0(p), t0(p), t0(p), -p1[:,i,0]*p2[:,i,0], -p1[:,i,0]*p2[:,i,1]]))\n",
    "        matrix.append(stack([t0(p), t0(p), t0(p), p2[:,i,0], p2[:,i,1], t1(p), -p1[:,i,1]*p2[:,i,0], -p1[:,i,1]*p2[:,i,1]]))\n",
    "    #The 8 scalars we seek are solution of AX = B\n",
    "    A = stack(matrix).permute(2, 0, 1)\n",
    "    B = p1.view(p1.shape[0], 8, 1)\n",
    "    return torch.solve(B,A)[0]"
   ]
  },
  {
   "cell_type": "code",
   "execution_count": null,
   "metadata": {},
   "outputs": [],
   "source": [
    "def apply_perspective(coords, coeffs):\n",
    "    sz = coords.shape\n",
    "    coords = coords.view(sz[0], -1, 2)\n",
    "    coeffs = torch.cat([coeffs, t1(coeffs[:,:1])], dim=1).view(coeffs.shape[0], 3,3)\n",
    "    coords = coords @ coeffs[...,:2].transpose(1,2) + coeffs[...,2].unsqueeze(1)\n",
    "    coords.div_(coords[...,2].unsqueeze(-1))\n",
    "    return coords[...,:2].view(*sz)"
   ]
  },
  {
   "cell_type": "code",
   "execution_count": null,
   "metadata": {},
   "outputs": [],
   "source": [
    "class RandomWarp(DataAugTfm):\n",
    "    def __init__(self, magnitude, p=0.5):\n",
    "        self.coeffs,self.magnitude,self.p = None,magnitude,p\n",
    "    \n",
    "    def randomize(self, x):\n",
    "        mask = x.new_empty(x.size(0)).bernoulli_(self.p)\n",
    "        up_t = x.new_empty(x.size(0)).uniform_(-self.magnitude,self. magnitude)\n",
    "        lr_t = x.new_empty(x.size(0)).uniform_(-self.magnitude,self. magnitude)\n",
    "        orig_pts = torch.tensor([[-1,-1], [-1,1], [1,-1], [1,1]], dtype=x.dtype, device=x.device)\n",
    "        self.orig_pts = orig_pts.unsqueeze(0).expand(x.size(0),4,2)\n",
    "        targ_pts = stack([stack([-1-up_t, -1-lr_t]), stack([-1+up_t, 1+lr_t]), \n",
    "                               stack([1+up_t, -1+lr_t]), stack([1-up_t, 1-lr_t])])\n",
    "        self.targ_pts = targ_pts.permute(2,0,1)\n",
    "    \n",
    "    def __call__(self, x, invert=False): \n",
    "        coeffs = find_coeffs(self.targ_pts, self.orig_pts) if invert else find_coeffs(self.orig_pts, self.targ_pts)\n",
    "        return apply_perspective(x, coeffs)"
   ]
  },
  {
   "cell_type": "code",
   "execution_count": null,
   "metadata": {},
   "outputs": [],
   "source": [
    "btfms = [Cuda(device), AffineAndCoordTfm([RandomRotation(10.)], [RandomWarp(0.2)])]"
   ]
  },
  {
   "cell_type": "code",
   "execution_count": null,
   "metadata": {},
   "outputs": [],
   "source": [
    "batch_tfmed = compose(b, btfms, tfm_y=data.train_ds.y.item_get.default_tfm)"
   ]
  },
  {
   "cell_type": "code",
   "execution_count": null,
   "metadata": {},
   "outputs": [],
   "source": [
    "data.show_batch(batch=batch_tfmed)"
   ]
  },
  {
   "cell_type": "code",
   "execution_count": null,
   "metadata": {},
   "outputs": [],
   "source": []
  }
 ],
 "metadata": {
  "kernelspec": {
   "display_name": "Python 3",
   "language": "python",
   "name": "python3"
  }
 },
 "nbformat": 4,
 "nbformat_minor": 2
}
