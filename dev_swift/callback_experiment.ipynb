{
 "cells": [
  {
   "cell_type": "code",
   "execution_count": null,
   "metadata": {},
   "outputs": [
    {
     "name": "stdout",
     "output_type": "stream",
     "text": [
      "Installing packages:\n",
      "\t.package(path: \"/home/ubuntu/fastai_docs/dev_swift/FastaiNotebooks\")\n",
      "\t\tFastaiNotebooks\n",
      "With SwiftPM flags: []\n",
      "Working in: /tmp/tmpiqlvfyo4\n",
      "Fetching https://github.com/mxcl/Path.swift\n",
      "Fetching https://github.com/JustHTTP/Just\n",
      "Completed resolution in 2.85s\n",
      "Cloning https://github.com/mxcl/Path.swift\n",
      "Resolving https://github.com/mxcl/Path.swift at 0.16.2\n",
      "Cloning https://github.com/JustHTTP/Just\n",
      "Resolving https://github.com/JustHTTP/Just at 0.7.1\n",
      "Compile Swift Module 'Just' (1 sources)\n",
      "Compile Swift Module 'Path' (9 sources)\n",
      "Compile Swift Module 'FastaiNotebooks' (4 sources)\n",
      "Compile Swift Module 'jupyterInstalledPackages' (1 sources)\n",
      "Linking ./.build/x86_64-unknown-linux/debug/libjupyterInstalledPackages.so\n",
      "Initializing Swift...\n",
      "Loading library...\n",
      "Installation complete!\n"
     ]
    }
   ],
   "source": [
    "%install '.package(path: \"$cwd/FastaiNotebooks\")' FastaiNotebooks"
   ]
  },
  {
   "cell_type": "markdown",
   "metadata": {},
   "source": [
    "# Implement Callback Mechanism"
   ]
  },
  {
   "cell_type": "code",
   "execution_count": null,
   "metadata": {},
   "outputs": [],
   "source": [
    "import TensorFlow\n",
    "\n",
    "struct DataBatch<Inputs: Differentiable & TensorGroup, Labels: TensorGroup>: TensorGroup {\n",
    "    var xb: Inputs\n",
    "    var yb: Labels    \n",
    "}\n",
    "\n",
    "enum CallbackResult {\n",
    "    case proceed\n",
    "    case skip\n",
    "    case stop\n",
    "}\n",
    "\n",
    "enum CallbackEvent {\n",
    "    // I haven't implemented all the events.\n",
    "    case beginFit\n",
    "    case beginEpoch\n",
    "    case beginBatch\n",
    "    case afterForwardsBackwards\n",
    "}\n",
    "\n",
    "class Callback<Opt: Optimizer, Labels: TensorGroup>\n",
    "where Opt.Model.CotangentVector == Opt.Model.AllDifferentiableVariables,\n",
    "      Opt.Model.Input: TensorGroup\n",
    "{\n",
    "    func apply(event: CallbackEvent, learner: Learner<Opt, Labels>) -> CallbackResult {\n",
    "        return .proceed\n",
    "    }\n",
    "}\n",
    "\n",
    "class Learner<Opt: Optimizer, Labels: TensorGroup>\n",
    "where Opt.Model.CotangentVector == Opt.Model.AllDifferentiableVariables,\n",
    "      Opt.Model.Input: TensorGroup\n",
    "{\n",
    "    typealias Model = Opt.Model\n",
    "    var model: Model\n",
    "    \n",
    "    typealias Inputs = Model.Input\n",
    "    \n",
    "    // I'm getting some crashes in AD-generated code if I put a `lossFunc` in the learner.\n",
    "    // So I'm putting a `lossWithGradient` for now, to work around this.\n",
    "    // (model, context, inputs, labels) -> (loss, grad)\n",
    "    typealias LossWithGradient = (Model, Context, Inputs, Labels) -> (Tensor<Float>, Model.AllDifferentiableVariables)\n",
    "    var lossWithGradient: LossWithGradient\n",
    "    \n",
    "    var optimizer: Opt\n",
    "    \n",
    "    typealias Data = Dataset<DataBatch<Inputs, Labels>>\n",
    "    var data: Data\n",
    "\n",
    "    var callbacks: [Callback<Opt, Labels>]\n",
    "    \n",
    "    var loss: Tensor<Float> = Tensor(0)\n",
    "    var grad: Model.AllDifferentiableVariables = Model.AllDifferentiableVariables.zero\n",
    "    \n",
    "    var epoch: Int = 0\n",
    "    var epochs: Int = 0\n",
    "    \n",
    "    init(\n",
    "        model: Model,\n",
    "        lossWithGradient: @escaping LossWithGradient,\n",
    "        optimizer: Opt,\n",
    "        data: Data,\n",
    "        callbacks: [Callback<Opt, Labels>]\n",
    "    ) {\n",
    "        self.model = model\n",
    "        self.lossWithGradient = lossWithGradient\n",
    "        self.optimizer = optimizer\n",
    "        self.data = data\n",
    "        self.callbacks = callbacks\n",
    "    }\n",
    "    \n",
    "    private func resetPerBatchValues() {\n",
    "        self.loss = Tensor(0)\n",
    "        self.grad = Model.AllDifferentiableVariables.zero        \n",
    "    }\n",
    "    \n",
    "    func trainOneBatch(xb: Inputs, yb: Labels) -> CallbackResult {\n",
    "        var cbResult = runCallbacks(event: .beginBatch)\n",
    "        if cbResult != .proceed {\n",
    "            return cbResult\n",
    "        }\n",
    "        let context = Context(learningPhase: .training)\n",
    "        (self.loss, self.grad) = lossWithGradient(model, context, xb, yb)\n",
    "        defer {\n",
    "            // Zero out the loss & gradient to ensure stale values aren't used.\n",
    "            resetPerBatchValues()\n",
    "        }\n",
    "        cbResult = runCallbacks(event: .afterForwardsBackwards)\n",
    "        if cbResult != .proceed {\n",
    "            return cbResult\n",
    "        }\n",
    "        optimizer.update(&model.allDifferentiableVariables, along: self.grad)\n",
    "        return .proceed\n",
    "    }\n",
    "    \n",
    "    func trainOneEpoch() -> CallbackResult {\n",
    "        switch runCallbacks(event: .beginEpoch) {\n",
    "            case .stop: return .stop\n",
    "            case .skip:\n",
    "                print(\"Unexpected .skip returned from running callbacks(event: .beginEpoch)\")\n",
    "                return .skip\n",
    "            case .proceed: break\n",
    "        }\n",
    "        for batch in self.data {\n",
    "            let cbResult = trainOneBatch(xb: batch.xb, yb: batch.yb)\n",
    "            if cbResult != .proceed {\n",
    "                return cbResult\n",
    "            }\n",
    "        }\n",
    "        return .proceed\n",
    "    }\n",
    "\n",
    "    func fit(epochs: Int) {\n",
    "        // I haven't implemented validation.\n",
    "        self.epochs = epochs\n",
    "        var cbResult = runCallbacks(event: .beginFit)\n",
    "        if cbResult != .proceed {\n",
    "            return\n",
    "        }\n",
    "        for epoch in 1...epochs {\n",
    "            self.epoch = epoch\n",
    "            cbResult = trainOneEpoch()\n",
    "            if cbResult != .proceed {\n",
    "                return\n",
    "            }\n",
    "        }\n",
    "    }\n",
    "    \n",
    "    private func runCallbacks(event: CallbackEvent) -> CallbackResult {\n",
    "        for callback in callbacks {\n",
    "            let cbResult = callback.apply(event: event, learner: self)\n",
    "            if cbResult != .proceed {\n",
    "                return cbResult\n",
    "            }\n",
    "        }\n",
    "        return .proceed\n",
    "    }\n",
    "}"
   ]
  },
  {
   "cell_type": "markdown",
   "metadata": {},
   "source": [
    "# Implement some example callbacks"
   ]
  },
  {
   "cell_type": "code",
   "execution_count": null,
   "metadata": {},
   "outputs": [],
   "source": [
    "%include \"EnableIPythonDisplay.swift\"\n",
    "let plt = Python.import(\"matplotlib.pyplot\")\n",
    "IPythonDisplay.shell.enable_matplotlib(\"inline\")\n",
    "\n",
    "class Recorder<Opt: Optimizer, Labels: TensorGroup> : Callback<Opt, Labels>\n",
    "// Hmm, this boilerplate is kind of annoying.\n",
    "where Opt.Model.CotangentVector == Opt.Model.AllDifferentiableVariables,\n",
    "      Opt.Model.Input: TensorGroup,\n",
    "      // Notice that we can add constraints so that this callback only works with certain types of learners.\n",
    "      // Here, we require that the optimizer's scalar type is float so that `plt.plot` understands the\n",
    "      // learning rate.\n",
    "      Opt.Scalar == Float\n",
    "{\n",
    "         \n",
    "    var losses: [Float] = []\n",
    "    var lrs: [Float] = []\n",
    "          \n",
    "    override func apply(event: CallbackEvent, learner: Learner<Opt, Labels>) -> CallbackResult {\n",
    "        switch event {\n",
    "        case .beginFit:\n",
    "            losses = []\n",
    "            lrs = []\n",
    "        case .afterForwardsBackwards:\n",
    "            losses.append(learner.loss.scalar!)\n",
    "            lrs.append(learner.optimizer.learningRate)\n",
    "        default: break\n",
    "        }\n",
    "        return .proceed\n",
    "    }\n",
    "          \n",
    "    func plotLosses() {\n",
    "        plt.plot(losses)\n",
    "    }\n",
    "          \n",
    "    func plotLrs() {\n",
    "        plt.plot(lrs)\n",
    "    }\n",
    "}"
   ]
  },
  {
   "cell_type": "code",
   "execution_count": null,
   "metadata": {},
   "outputs": [],
   "source": [
    "class Progress<Opt: Optimizer, Labels: TensorGroup> : Callback<Opt, Labels>\n",
    "// Hmm, this boilerplate is kind of annoying.\n",
    "where Opt.Model.CotangentVector == Opt.Model.AllDifferentiableVariables,\n",
    "      Opt.Model.Input: TensorGroup {\n",
    "    override func apply(event: CallbackEvent, learner: Learner<Opt, Labels>) -> CallbackResult {\n",
    "        switch event {\n",
    "        case .beginEpoch:\n",
    "            print(\"Starting new epoch: \\(learner.epoch) of \\(learner.epochs)\")\n",
    "        default: break\n",
    "        }\n",
    "        return .proceed\n",
    "    }\n",
    "}"
   ]
  },
  {
   "cell_type": "code",
   "execution_count": null,
   "metadata": {},
   "outputs": [],
   "source": [
    "class ParamScheduler<Opt: Optimizer, Labels: TensorGroup, Param> : Callback<Opt, Labels>\n",
    "// Hmm, this boilerplate is kind of annoying.\n",
    "where Opt.Model.CotangentVector == Opt.Model.AllDifferentiableVariables,\n",
    "      Opt.Model.Input: TensorGroup,\n",
    "      Opt.Model.Output: TensorGroup\n",
    "{\n",
    "    \n",
    "    let paramKeyPath: ReferenceWritableKeyPath<Learner<Opt, Labels>, Param>\n",
    "    let schedule: (Float) -> Param\n",
    "    \n",
    "    init(paramKeyPath: ReferenceWritableKeyPath<Learner<Opt, Labels>, Param>, schedule: @escaping (Float) -> Param) {\n",
    "        self.paramKeyPath = paramKeyPath\n",
    "        self.schedule = schedule\n",
    "    }\n",
    "          \n",
    "    override func apply(event: CallbackEvent, learner: Learner<Opt, Labels>) -> CallbackResult {\n",
    "        switch event {\n",
    "        case .beginBatch:\n",
    "            learner[keyPath: paramKeyPath] = schedule(Float(learner.epoch) / Float(learner.epochs))\n",
    "        default: break\n",
    "        }\n",
    "        return .proceed\n",
    "    }\n",
    "}"
   ]
  },
  {
   "cell_type": "markdown",
   "metadata": {},
   "source": [
    "# The model and data"
   ]
  },
  {
   "cell_type": "code",
   "execution_count": null,
   "metadata": {},
   "outputs": [],
   "source": [
    "import FastaiNotebooks\n",
    "import Path\n",
    "\n",
    "var (xTrain,yTrain,xValid,yValid) = loadMNIST(path: Path.home/\".fastai\"/\"data\"/\"mnist_tst\")"
   ]
  },
  {
   "cell_type": "code",
   "execution_count": null,
   "metadata": {},
   "outputs": [],
   "source": [
    "xTrain = xTrain.reshaped(toShape: [60000, 784])\n",
    "\n",
    "let (n,m) = (Int(xTrain.shape[0]),Int(xTrain.shape[1]))\n",
    "let c = y_train.max()+1\n",
    "\n",
    "let nh = 50\n",
    "let bs: Int32 = 64\n",
    "\n",
    "let train_ds: Dataset<DataBatch> = Dataset(elements: DataBatch(xb: xTrain, yb: yTrain)).batched(Int64(bs))"
   ]
  },
  {
   "cell_type": "code",
   "execution_count": null,
   "metadata": {},
   "outputs": [],
   "source": [
    "let outputCount = 10\n",
    "\n",
    "struct MyModel: Layer {\n",
    "    var layer1 = Dense<Float>(inputSize: m, outputSize: nh, activation: relu)\n",
    "    var layer2 = Dense<Float>(inputSize: nh, outputSize: outputCount)\n",
    "    \n",
    "    /// A silly non-trained parameter to show off the parameter scheduler.\n",
    "    @noDerivative var sillyExtraBiasParam: Tensor<Float> = Tensor(zeros: [Int32(outputCount)])\n",
    "    \n",
    "    @differentiable\n",
    "    func applied(to input: Tensor<Float>, in context: Context) -> Tensor<Float> {\n",
    "        return input.sequenced(in: context, through: layer1, layer2) + sillyExtraBiasParam\n",
    "    }\n",
    "}\n",
    "\n",
    "var model = MyModel()\n",
    "\n",
    "func lossWithGrad(\n",
    "    model: MyModel,\n",
    "    in context: Context,\n",
    "    inputs: Tensor<Float>,\n",
    "    labels: Tensor<Int32>\n",
    ") -> (Tensor<Float>, MyModel.AllDifferentiableVariables) {\n",
    "    return model.valueWithGradient { model -> Tensor<Float> in\n",
    "        let predictions = model.applied(to: inputs, in: context)\n",
    "        return softmaxCrossEntropy(logits: predictions, labels: labels)\n",
    "    }\n",
    "}"
   ]
  },
  {
   "cell_type": "markdown",
   "metadata": {},
   "source": [
    "# Run the learner"
   ]
  },
  {
   "cell_type": "code",
   "execution_count": null,
   "metadata": {},
   "outputs": [],
   "source": [
    "// Some typealiases to reduce repeatedly typing types.\n",
    "typealias MyOptimizer = SGD<MyModel, Float>\n",
    "typealias MyLearner = Learner<MyOptimizer, Tensor<Int32>>"
   ]
  },
  {
   "cell_type": "code",
   "execution_count": null,
   "metadata": {},
   "outputs": [],
   "source": [
    "let optimizer = MyOptimizer(learningRate: 0.01)"
   ]
  },
  {
   "cell_type": "code",
   "execution_count": null,
   "metadata": {},
   "outputs": [],
   "source": [
    "// We can't schedule the learning rate because the Optimizer protocol doesn't allow setting learning rates.\n",
    "// If we change it to allow setting learning rates, `ParamScheduler` should allow setting learning rates,\n",
    "// with `paramKeyPath: \\MyLearner.optimizer.learningRate`.\n",
    "let scheduler = ParamScheduler(paramKeyPath: \\MyLearner.model.sillyExtraBiasParam) { t in\n",
    "    if t < 0.5 {\n",
    "        return Tensor([0, 0, 0, 0, 0, 0, 0, 0, 0, 0])\n",
    "    } else {\n",
    "        return Tensor([10, 20, 30, 0, 0, 0, 0, 0, 0, 0])\n",
    "    }\n",
    "}"
   ]
  },
  {
   "cell_type": "code",
   "execution_count": null,
   "metadata": {},
   "outputs": [],
   "source": [
    "let recorder = Recorder<MyOptimizer, Tensor<Int32>>()"
   ]
  },
  {
   "cell_type": "code",
   "execution_count": null,
   "metadata": {},
   "outputs": [],
   "source": [
    "let learner = Learner(\n",
    "    model: model,\n",
    "    lossWithGradient: lossWithGrad,\n",
    "    optimizer: optimizer,\n",
    "    data: train_ds,\n",
    "    callbacks: [\n",
    "        Progress(),\n",
    "        recorder,\n",
    "        scheduler\n",
    "    ])"
   ]
  },
  {
   "cell_type": "code",
   "execution_count": null,
   "metadata": {},
   "outputs": [
    {
     "name": "stdout",
     "output_type": "stream",
     "text": [
      "Starting new epoch: 1 of 6\n",
      "Starting new epoch: 2 of 6\n",
      "Starting new epoch: 3 of 6\n",
      "Starting new epoch: 4 of 6\n",
      "Starting new epoch: 5 of 6\n",
      "Starting new epoch: 6 of 6\n"
     ]
    }
   ],
   "source": [
    "learner.fit(epochs: 6)"
   ]
  },
  {
   "cell_type": "code",
   "execution_count": null,
   "metadata": {},
   "outputs": [],
   "source": [
    "recorder.plotLosses()\n",
    "plt.show()"
   ]
  },
  {
   "cell_type": "code",
   "execution_count": null,
   "metadata": {},
   "outputs": [],
   "source": []
  }
 ],
 "metadata": {
  "kernelspec": {
   "display_name": "Swift",
   "language": "swift",
   "name": "swift"
  }
 },
 "nbformat": 4,
 "nbformat_minor": 2
}
