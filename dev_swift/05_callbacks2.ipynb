{
 "cells": [
  {
   "cell_type": "markdown",
   "metadata": {},
   "source": [
    "## Notes\n",
    "\n",
    "Porting `class Runner` to Swift is a WIP.\n",
    "\n",
    "* `TrainerCallback` is a class, not a protocol, because `Trainer` needs to store a `[TrainerCallback]` array.\n",
    "\n",
    "Todos:\n",
    "* Improve naming, currently many names come directly from Python"
   ]
  },
  {
   "cell_type": "code",
   "execution_count": null,
   "metadata": {},
   "outputs": [],
   "source": [
    "import TensorFlow"
   ]
  },
  {
   "cell_type": "code",
   "execution_count": null,
   "metadata": {},
   "outputs": [],
   "source": [
    "// Example loss function.\n",
    "// TODO: This should be moved into the TensorFlow library/APIs.\n",
    "@differentiable(vjp: _vjpSoftmaxCrossEntropy)\n",
    "func softmaxCrossEntropy<Scalar: TensorFlowFloatingPoint>(\n",
    "    features: Tensor<Scalar>, labels: Tensor<Scalar>\n",
    ") -> Tensor<Scalar> {\n",
    "    return Raw.softmaxCrossEntropyWithLogits(features: features, labels: labels).loss.mean()\n",
    "}\n",
    "\n",
    "@usableFromInline\n",
    "func _vjpSoftmaxCrossEntropy<Scalar: TensorFlowFloatingPoint>(\n",
    "    features: Tensor<Scalar>, labels: Tensor<Scalar>\n",
    ") -> (Tensor<Scalar>, (Tensor<Scalar>) -> (Tensor<Scalar>, Tensor<Scalar>)) {\n",
    "    let (loss, grad) = Raw.softmaxCrossEntropyWithLogits(features: features, labels: labels)\n",
    "    let batchSize = Tensor<Scalar>(features.shapeTensor[0])\n",
    "    return (loss.mean(), { v in ((v / batchSize) * grad, Tensor<Scalar>(0)) })\n",
    "}"
   ]
  },
  {
   "cell_type": "code",
   "execution_count": null,
   "metadata": {},
   "outputs": [],
   "source": [
    "// Example type for use with `Dataset`.\n",
    "// TODO: The usage of this should be re-evaluated.\n",
    "public struct Example<DataScalar, LabelScalar>: TensorGroup\n",
    "    where DataScalar: TensorFlowFloatingPoint,\n",
    "          LabelScalar: TensorFlowFloatingPoint {\n",
    "    public var data: Tensor<DataScalar>\n",
    "    public var labels: Tensor<LabelScalar>\n",
    "}"
   ]
  },
  {
   "cell_type": "code",
   "execution_count": null,
   "metadata": {},
   "outputs": [],
   "source": [
    "/// A training loop.\n",
    "///\n",
    "/// Trains the given model at the given keypath \n",
    "public func train<M, O: Optimizer, S>(\n",
    "    _ model: inout M,\n",
    "    at variablesKeyPath: WritableKeyPath<M, M.AllDifferentiableVariables>,\n",
    "    on dataset: Dataset<Example<S, S>>,\n",
    "    using optimizer: inout O,\n",
    "    loss: @escaping @differentiable (Tensor<S>, Tensor<S>) -> Tensor<S>\n",
    ") where O.Model == M, O.Scalar == S,\n",
    "        M.Input == Tensor<S>, M.Output == Tensor<S>\n",
    "{\n",
    "    let context = Context(learningPhase: .training)\n",
    "    for batch in dataset {\n",
    "        let (x, y) = (batch.data, batch.labels)\n",
    "        let (loss, (𝛁model, _)) = model.valueWithGradient(at: y) { (model, y) -> Tensor<S> in\n",
    "            let preds = model.applied(to: x, in: context)\n",
    "            return loss(preds, y)\n",
    "        }\n",
    "        print(loss)\n",
    "        optimizer.update(&model[keyPath: variablesKeyPath], along: 𝛁model)\n",
    "    }\n",
    "}"
   ]
  },
  {
   "cell_type": "code",
   "execution_count": null,
   "metadata": {},
   "outputs": [],
   "source": [
    "// Example usage.\n",
    "var model = Dense<Float>(inputSize: 784, outputSize: 10)\n",
    "var optimizer = SGD<Dense<Float>, Float>(learningRate: 0.1)\n",
    "\n",
    "let data = Tensor<Float>(randomNormal: [10, 10, 784])\n",
    "let labels = Tensor<Float>(randomNormal: [10, 10])\n",
    "let dataset = Dataset<Example<Float, Float>>(elements: Example<Float, Float>(data: data, labels: labels))\n",
    "\n",
    "train(&model, at: \\Dense<Float>.allDifferentiableVariables, on: dataset, using: &optimizer, loss: softmaxCrossEntropy)"
   ]
  },
  {
   "cell_type": "markdown",
   "metadata": {},
   "source": [
    "## Add Callbacks\n",
    "\n",
    "The code below adds callbacks and defines a new training loop."
   ]
  },
  {
   "cell_type": "code",
   "execution_count": null,
   "metadata": {},
   "outputs": [],
   "source": [
    "/// CallbackResult allows callbacks to control the training loop.\n",
    "public enum CallbackResult {\n",
    "    /// Proceed with the training step.\n",
    "    case proceed\n",
    "    /// Skip the rest of the training step, and move immediately to the next step.\n",
    "    case skip\n",
    "    /// Stop training.\n",
    "    case stop\n",
    "}\n",
    "\n",
    "\n",
    "open class TrainingCallbacks<M, O: Optimizer, S> \n",
    "    where O.Model == M, O.Scalar == S,\n",
    "          M.Input == Tensor<S>, M.Output == Tensor<S> {\n",
    "              \n",
    "    open func beforeTrain(model: inout M, optimizer: inout O) -> CallbackResult {\n",
    "        return .proceed\n",
    "    }\n",
    "    \n",
    "    // TODO: Figure out what to pass here!\n",
    "    open func beforeBatch() -> CallbackResult {\n",
    "        return .proceed\n",
    "    }\n",
    "    \n",
    "    open func afterBatch(loss: inout Tensor<S>) -> CallbackResult {\n",
    "        return .proceed\n",
    "    }\n",
    "    \n",
    "}"
   ]
  },
  {
   "cell_type": "code",
   "execution_count": null,
   "metadata": {},
   "outputs": [],
   "source": [
    "class Recorder<M, O: Optimizer, S>: TrainingCallbacks<M, O, S>\n",
    "    where O.Model == M, O.Scalar == S,\n",
    "          M.Input == Tensor<S>, M.Output == Tensor<S> {\n",
    "    private var optimizer: O? = nil\n",
    "    private var losses: [S] = []\n",
    "    private var lrs: [O.Scalar] = []\n",
    "    override func beforeTrain(model: inout M, optimizer: inout O) -> CallbackResult {\n",
    "        self.optimizer = optimizer\n",
    "        return .proceed\n",
    "    }\n",
    "    \n",
    "    override func afterBatch(loss: inout Tensor<S>) -> CallbackResult {\n",
    "        lrs.append(optimizer!.learningRate)\n",
    "        losses.append(loss.scalarized())\n",
    "        return .proceed\n",
    "    }\n",
    "}"
   ]
  },
  {
   "cell_type": "code",
   "execution_count": null,
   "metadata": {},
   "outputs": [],
   "source": [
    "/// Simple SGD optimizer with a modifiable learning rate.\n",
    "public class SettableSGD<Model: Layer>: Optimizer\n",
    "    where Model.AllDifferentiableVariables == Model.CotangentVector {\n",
    "    /// The learning rate.\n",
    "    public var learningRate: Float {\n",
    "        willSet(newLearningRate) {\n",
    "            precondition(newLearningRate >= 0, \"Learning rate must be non-negative\")\n",
    "        }\n",
    "    }\n",
    "\n",
    "    public init(learningRate: Float = 0.01) {\n",
    "        precondition(learningRate >= 0, \"Learning rate must be non-negative\")\n",
    "        self.learningRate = learningRate\n",
    "    }\n",
    "\n",
    "    public func update(_ model: inout Model.AllDifferentiableVariables,\n",
    "                       along direction: Model.CotangentVector) {\n",
    "        for kp in model.recursivelyAllWritableKeyPaths(to: Tensor<Scalar>.self) {\n",
    "            model[keyPath: kp] += learningRate * direction[keyPath: kp]\n",
    "        }\n",
    "    }\n",
    "}\n"
   ]
  },
  {
   "cell_type": "code",
   "execution_count": null,
   "metadata": {},
   "outputs": [],
   "source": [
    "let foo = SettableSGD<Dense<Float>>()"
   ]
  },
  {
   "cell_type": "code",
   "execution_count": null,
   "metadata": {},
   "outputs": [],
   "source": [
    "foo.learningRate"
   ]
  },
  {
   "cell_type": "code",
   "execution_count": null,
   "metadata": {},
   "outputs": [],
   "source": [
    "foo.learningRate = 0.2"
   ]
  },
  {
   "cell_type": "code",
   "execution_count": null,
   "metadata": {},
   "outputs": [],
   "source": [
    "foo.learningRate"
   ]
  },
  {
   "cell_type": "code",
   "execution_count": null,
   "metadata": {},
   "outputs": [],
   "source": [
    "/// A non-generalized learning rate scheduler\n",
    "class LearningRateScheduler<M, O: SettableSGD<M>>: TrainingCallbacks<M, O, Float>\n",
    "    where O.Model == M,\n",
    "          M.Input == Tensor<Float>, M.Output == Tensor<Float> {\n",
    "    \n",
    "    // A learning rate schedule from step to float.\n",
    "    typealias ScheduleFunc = (Int) -> Float\n",
    "\n",
    "    private var optimizer: O?\n",
    "    private let scheduler: ScheduleFunc\n",
    "    private var step = 0\n",
    "    \n",
    "    init(scheduler: @escaping ScheduleFunc) {\n",
    "        self.scheduler = scheduler\n",
    "    }\n",
    "\n",
    "    override func beforeTrain(model: inout M, optimizer: inout O) -> CallbackResult {\n",
    "        self.optimizer = optimizer\n",
    "        return .proceed\n",
    "    }\n",
    "              \n",
    "    override func beforeBatch() -> CallbackResult {\n",
    "        step += 1\n",
    "        self.optimizer!.learningRate = scheduler(step)\n",
    "        return .proceed\n",
    "    }\n",
    "    \n",
    "}"
   ]
  },
  {
   "cell_type": "code",
   "execution_count": null,
   "metadata": {},
   "outputs": [],
   "source": [
    "class SequentialCallbacks< M, O: Optimizer, S>: TrainingCallbacks<M, O, S>\n",
    "    where O.Model == M, O.Scalar == S,\n",
    "          M.Input == Tensor<S>, M.Output == Tensor<S> {\n",
    "    \n",
    "    private let callbacks: [TrainingCallbacks<M, O, S>]\n",
    "\n",
    "    init(_ callbacks: [TrainingCallbacks<M, O, S>]) {\n",
    "        self.callbacks = callbacks\n",
    "    }\n",
    "    convenience init(_ callbacks: TrainingCallbacks<M, O, S>...) {\n",
    "        self.init(callbacks)\n",
    "    }\n",
    "              \n",
    "    override func beforeTrain(model: inout M, optimizer: inout O) -> CallbackResult {\n",
    "        for cb in callbacks {\n",
    "            let cbResult = cb.beforeTrain(model: &model, optimizer: &optimizer)\n",
    "            switch cbResult {\n",
    "                case .stop, .skip: return cbResult\n",
    "                case .proceed: break\n",
    "            }\n",
    "        }\n",
    "        return .proceed\n",
    "    }\n",
    "    \n",
    "    // TODO: Figure out what to pass here!\n",
    "    override func beforeBatch() -> CallbackResult {\n",
    "        for cb in callbacks {\n",
    "            let cbResult = cb.beforeBatch()\n",
    "            switch cbResult {\n",
    "                case .stop, .skip: return cbResult\n",
    "                case .proceed: break\n",
    "            }\n",
    "        }\n",
    "        return .proceed\n",
    "    }\n",
    "    \n",
    "    override func afterBatch(loss: inout Tensor<S>) -> CallbackResult {\n",
    "        for cb in callbacks {\n",
    "            let cbResult = cb.afterBatch(loss: &loss)\n",
    "            switch cbResult {\n",
    "                case .stop, .skip: return cbResult\n",
    "                case .proceed: break\n",
    "            }\n",
    "        }\n",
    "        return .proceed\n",
    "    }\n",
    "}"
   ]
  },
  {
   "cell_type": "code",
   "execution_count": null,
   "metadata": {},
   "outputs": [],
   "source": [
    "/// A training loop, now improved with callbacks!\n",
    "public func trainWithCallbacks<M, O: Optimizer, S>(\n",
    "    _ model: inout M,\n",
    "    at variablesKeyPath: WritableKeyPath<M, M.AllDifferentiableVariables>,\n",
    "    on dataset: Dataset<Example<S, S>>,\n",
    "    using optimizer: inout O,\n",
    "    loss: @escaping @differentiable (Tensor<S>, Tensor<S>) -> Tensor<S>,\n",
    "    callbacks: TrainingCallbacks<M, O, S>\n",
    ") where O.Model == M, O.Scalar == S,\n",
    "        M.Input == Tensor<S>, M.Output == Tensor<S>\n",
    "{\n",
    "    let context = Context(learningPhase: .training)\n",
    "    callbacks.beforeTrain(model: &model, optimizer: &optimizer)\n",
    "    for batch in dataset {\n",
    "        callbacks.beforeBatch()  // TODO: pass in batch!\n",
    "        let (x, y) = (batch.data, batch.labels)\n",
    "        var (loss, (𝛁model, _)) = model.valueWithGradient(at: y) { (model, y) -> Tensor<S> in\n",
    "            let preds = model.applied(to: x, in: context)\n",
    "            return loss(preds, y)\n",
    "        }\n",
    "        callbacks.afterBatch(loss: &loss)\n",
    "        print(loss)\n",
    "        optimizer.update(&model[keyPath: variablesKeyPath], along: 𝛁model)\n",
    "    }\n",
    "}"
   ]
  },
  {
   "cell_type": "code",
   "execution_count": null,
   "metadata": {},
   "outputs": [],
   "source": []
  }
 ],
 "metadata": {
  "kernelspec": {
   "display_name": "Swift",
   "language": "swift",
   "name": "swift"
  }
 },
 "nbformat": 4,
 "nbformat_minor": 1
}
