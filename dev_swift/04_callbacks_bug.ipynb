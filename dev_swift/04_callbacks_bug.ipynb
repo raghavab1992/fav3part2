{
 "cells": [
  {
   "cell_type": "markdown",
   "metadata": {},
   "source": [
    "# Callbacks version 2"
   ]
  },
  {
   "cell_type": "code",
   "execution_count": null,
   "metadata": {},
   "outputs": [],
   "source": [
    "%install '.package(path: \"$cwd/FastaiNotebooks\")' FastaiNotebooks"
   ]
  },
  {
   "cell_type": "markdown",
   "metadata": {},
   "source": [
    "## Load data"
   ]
  },
  {
   "cell_type": "code",
   "execution_count": null,
   "metadata": {},
   "outputs": [],
   "source": [
    "import FastaiNotebooks"
   ]
  },
  {
   "cell_type": "code",
   "execution_count": null,
   "metadata": {},
   "outputs": [],
   "source": [
    "// export\n",
    "import Path\n",
    "import TensorFlow"
   ]
  },
  {
   "cell_type": "code",
   "execution_count": null,
   "metadata": {},
   "outputs": [],
   "source": [
    "var (xTrain,yTrain,xValid,yValid) = loadMNIST(path: mnistPath, flat: true)"
   ]
  },
  {
   "cell_type": "code",
   "execution_count": null,
   "metadata": {},
   "outputs": [],
   "source": [
    "let (n,m) = (Int(xTrain.shape[0]),Int(xTrain.shape[1]))\n",
    "let c = yTrain.max()+1\n",
    "print(n,m,c)"
   ]
  },
  {
   "cell_type": "markdown",
   "metadata": {},
   "source": [
    "Those can't be used to define a model cause they're not Ints though..."
   ]
  },
  {
   "cell_type": "code",
   "execution_count": null,
   "metadata": {},
   "outputs": [],
   "source": [
    "let (n,m) = (60000,784)\n",
    "let c = 10\n",
    "let nHid = 50"
   ]
  },
  {
   "cell_type": "code",
   "execution_count": null,
   "metadata": {},
   "outputs": [],
   "source": [
    "// export\n",
    "public struct BasicModel: Layer {\n",
    "    public var layer1: Dense<Float>\n",
    "    public var layer2: Dense<Float>\n",
    "    \n",
    "    public init(nIn: Int, nHid: Int, nOut: Int){\n",
    "        layer1 = Dense(inputSize: nIn, outputSize: nHid, activation: relu)\n",
    "        layer2 = Dense(inputSize: nHid, outputSize: nOut)\n",
    "    }\n",
    "    \n",
    "    @differentiable\n",
    "    public func applied(to input: Tensor<Float>, in context: Context) -> Tensor<Float> {\n",
    "        return input.sequenced(in: context, through: layer1, layer2)\n",
    "    }\n",
    "}"
   ]
  },
  {
   "cell_type": "code",
   "execution_count": null,
   "metadata": {},
   "outputs": [],
   "source": [
    "var model = BasicModel(nIn: m, nHid: nHid, nOut: c)"
   ]
  },
  {
   "cell_type": "code",
   "execution_count": null,
   "metadata": {},
   "outputs": [],
   "source": [
    "// export\n",
    "public struct DataBunch<Element> where Element: TensorGroup{\n",
    "    public var train: Dataset<Element>\n",
    "    public var valid: Dataset<Element>\n",
    "    \n",
    "    public init(train: Dataset<Element>, valid: Dataset<Element>) {\n",
    "        self.train = train\n",
    "        self.valid = valid\n",
    "    }\n",
    "}"
   ]
  },
  {
   "cell_type": "code",
   "execution_count": null,
   "metadata": {},
   "outputs": [],
   "source": [
    "//export\n",
    "public func mnistDataBunch(path: Path = mnistPath, flat: Bool = false, bs: Int = 64\n",
    "                          ) -> DataBunch<DataBatch<Tensor<Float>, Tensor<Int32>>>{\n",
    "    let (xTrain,yTrain,xValid,yValid) = loadMNIST(path: path, flat: flat)\n",
    "    return DataBunch(train: Dataset(elements:DataBatch(xb:xTrain, yb:yTrain)).batched(Int64(bs)), \n",
    "                     valid: Dataset(elements:DataBatch(xb:xValid, yb:yValid)).batched(Int64(bs)))\n",
    "}"
   ]
  },
  {
   "cell_type": "code",
   "execution_count": null,
   "metadata": {},
   "outputs": [],
   "source": [
    "let data = mnistDataBunch(flat: true)"
   ]
  },
  {
   "cell_type": "markdown",
   "metadata": {},
   "source": [
    "## Learner (Richard's version)"
   ]
  },
  {
   "cell_type": "code",
   "execution_count": null,
   "metadata": {},
   "outputs": [],
   "source": [
    "public enum TrainerAction: Error {\n",
    "    case skipEpoch\n",
    "    case skipBatch\n",
    "    case stop\n",
    "}"
   ]
  },
  {
   "cell_type": "markdown",
   "metadata": {},
   "source": [
    "Basic class"
   ]
  },
  {
   "cell_type": "code",
   "execution_count": null,
   "metadata": {},
   "outputs": [],
   "source": [
    "/// A model trainer, responsible for initializing and training a model on a given dataset.\n",
    "// NOTE: When TF-421 is fixed, make `Label` not constrained to `Differentiable`.\n",
    "public final class Trainer<Label: Differentiable & TensorGroup,\n",
    "                           O: TensorFlow.Optimizer & AnyObject>\n",
    "    where O.Scalar: Differentiable,\n",
    "          O.Model.Input: TensorGroup\n",
    "{\n",
    "    // Common type aliases.\n",
    "    public typealias Input = Model.Input\n",
    "    public typealias Data = DataBunch<DataBatch<Input, Label>>\n",
    "    public typealias Loss = Tensor<Float>\n",
    "    public typealias Optimizer = O\n",
    "    public typealias Model = Optimizer.Model\n",
    "    public typealias Variables = Model.AllDifferentiableVariables\n",
    "    // NOTE: When TF-421 is fixed, replace with:\n",
    "    //   public typealias LossFunction = @differentiable (Model.Output, @nondiff Label) -> Loss\n",
    "    public typealias LossFunction = @differentiable (Model.Output, Label) -> Loss\n",
    "    public typealias EventHandler = (Trainer) throws -> Void\n",
    "    \n",
    "    /// The dataset on which the model will be trained.\n",
    "    public let data: Data\n",
    "    /// The optimizer used for updating model parameters along gradient vectors.\n",
    "    public var optimizer: Optimizer\n",
    "    /// The function that computes a loss value when given a prediction and a label.\n",
    "    public var lossFunction: LossFunction\n",
    "    /// The model being trained.\n",
    "    public var model: Model\n",
    "    \n",
    "    /// The number of total epochs.\n",
    "    public private(set) var epochCount: Int = .zero\n",
    "    /// The current epoch.\n",
    "    public private(set) var currentEpoch: Int = .zero\n",
    "    /// The current gradient.\n",
    "    public private(set) var currentGradient: Model.CotangentVector = .zero\n",
    "    /// The current loss.\n",
    "    public private(set) var currentLoss: Loss = .zero\n",
    "    \n",
    "    open class Delegate {\n",
    "        open func trainingWillStart(trainer: Trainer) throws {}\n",
    "        /// The completion of model training.\n",
    "        open func trainingDidFinish(trainer: Trainer) throws {}\n",
    "        /// A closure which will be called upon the start of an epoch.\n",
    "        open func epochWillStart(trainer: Trainer) throws {}\n",
    "        /// A closure which will be called upon the completion of an epoch.\n",
    "        open func epochDidFinish(trainer: Trainer) throws {}\n",
    "        /// A closure which will be called upon the start of model validation.\n",
    "        open func validationWillStart(trainer: Trainer) throws {}\n",
    "        /// A closure which will be called upon the start of training on a batch.\n",
    "        open func batchWillStart(trainer: Trainer) throws {}\n",
    "        /// A closure which will be called upon the completion of training on a batch.\n",
    "        open func batchDidFinish(trainer: Trainer) throws {}\n",
    "        /// A closure which will be called when a new loss has been computed.\n",
    "        open func trainerDidProduceNewLoss(trainer: Trainer) throws {}\n",
    "        /// A closure which will be called when a new gradient has been computed.\n",
    "        open func trainerDidProduceNewGradient(trainer: Trainer) throws {}\n",
    "        /// A closure which will be called upon the completion of an optimizer update.\n",
    "        open func optimizerDidUpdate(trainer: Trainer) throws {}\n",
    "    }\n",
    "    public var delegates: [Delegate] = []\n",
    "    \n",
    "    /// The context used for layer applications.\n",
    "    private let context = Context(learningPhase: .training)\n",
    "\n",
    "    /// Creates a trainer.\n",
    "    ///\n",
    "    /// - Parameters:\n",
    "    ///   - dataset: The dataset which will be trained on.\n",
    "    ///   - lossFunction: The loss function.\n",
    "    ///   - optimizer: The optimizer used for updating model parameters along\n",
    "    ///     gradient vectors.\n",
    "    ///   - modelInitializer: The closure that produces an model to be trained.\n",
    "    ///\n",
    "    public init(data: Data,\n",
    "                lossFunction: @escaping LossFunction,\n",
    "                optimizer: Optimizer,\n",
    "                initializingWith modelInitializer: () -> Model) {\n",
    "        self.data = data\n",
    "        self.optimizer = optimizer\n",
    "        self.lossFunction = lossFunction\n",
    "        self.model = modelInitializer()\n",
    "    }\n",
    "}"
   ]
  },
  {
   "cell_type": "markdown",
   "metadata": {},
   "source": [
    "Then let's write the parts of the training loop:"
   ]
  },
  {
   "cell_type": "code",
   "execution_count": null,
   "metadata": {},
   "outputs": [],
   "source": [
    "extension Trainer {\n",
    "    /// Trains the model on the given batch.\n",
    "    ///\n",
    "    /// - Parameter batch: The batch of input data and labels to be trained on.\n",
    "    ///\n",
    "    private func train(onBatch batch: DataBatch<Input, Label>) throws {\n",
    "        // NOTE: When the \"subset of parameters\" bug is fixed, replace with:\n",
    "        //   let (loss, grad) = model.valueWithGradient { model -> Loss in\n",
    "        //      let y = model.applied(to: batch.data, in: context)\n",
    "        //      return lossFunction(y, batch.label)\n",
    "        //   }\n",
    "        print(\"Begin batch\")\n",
    "        let (loss, (grad, _)) = model.valueWithGradient(at: batch.yb) {\n",
    "            (model, label) -> Loss in\n",
    "            let y = model.applied(to: batch.xb, in: context)\n",
    "            print(\"out\")\n",
    "            let loss = lossFunction(y, label)\n",
    "            print(loss)\n",
    "            return loss\n",
    "        }\n",
    "        print(loss)\n",
    "        // NOTE: Put this inside `valueWithGradient`'s trailing closure when differentiation\n",
    "        // supports throwing functions.\n",
    "        currentLoss = loss\n",
    "        try delegates.forEach { try $0.trainerDidProduceNewLoss(trainer: self) }\n",
    "        currentGradient = grad\n",
    "        try delegates.forEach { try $0.trainerDidProduceNewGradient(trainer: self) }\n",
    "        optimizer.update(&model.allDifferentiableVariables, along: grad)\n",
    "        try delegates.forEach { try $0.batchDidFinish(trainer: self) }\n",
    "    }\n",
    "    \n",
    "    /// Performs a training epoch on a Dataset.\n",
    "    private func train(onDataset ds: Dataset<DataBatch<Input, Label>>) throws {\n",
    "        for batch in ds {\n",
    "            print(\"Begin batch\")\n",
    "            try delegates.forEach { try $0.batchWillStart(trainer: self) }\n",
    "            do { try train(onBatch: batch) }\n",
    "            catch TrainerAction.skipBatch { break }\n",
    "            try delegates.forEach { try $0.batchDidFinish(trainer: self) }\n",
    "        }\n",
    "        try delegates.forEach { try $0.epochDidFinish(trainer: self) }\n",
    "    }\n",
    "}"
   ]
  },
  {
   "cell_type": "markdown",
   "metadata": {},
   "source": [
    "And the whole fit function."
   ]
  },
  {
   "cell_type": "code",
   "execution_count": null,
   "metadata": {},
   "outputs": [],
   "source": [
    "extension Trainer{\n",
    "    /// Starts training.\n",
    "    ///\n",
    "    /// - Parameter epochCount: The number of epochs that will be run.\n",
    "    ///\n",
    "    public func fit(epochCount: Int) throws {\n",
    "        self.epochCount = epochCount\n",
    "        do {\n",
    "            try delegates.forEach { try $0.trainingWillStart(trainer: self) }\n",
    "            for i in 0..<epochCount {\n",
    "                self.currentEpoch = i\n",
    "                print(i)\n",
    "                try delegates.forEach { try $0.epochWillStart(trainer: self) }\n",
    "                do { try train(onDataset: data.train) }\n",
    "                try delegates.forEach { try $0.validationWillStart(trainer: self) }\n",
    "                do { try train(onDataset: data.valid) }\n",
    "                catch TrainerAction.skipEpoch { break }\n",
    "            }\n",
    "            try delegates.forEach { try $0.trainingDidFinish(trainer: self) }\n",
    "        } catch TrainerAction.stop { return }\n",
    "    }\n",
    "}"
   ]
  },
  {
   "cell_type": "markdown",
   "metadata": {},
   "source": [
    "### Test"
   ]
  },
  {
   "cell_type": "markdown",
   "metadata": {},
   "source": [
    "Since the labels are non-differentiable and ints, "
   ]
  },
  {
   "cell_type": "code",
   "execution_count": null,
   "metadata": {},
   "outputs": [],
   "source": [
    "let opt = SGD<BasicModel, Float>(learningRate: 1e-2)"
   ]
  },
  {
   "cell_type": "code",
   "execution_count": null,
   "metadata": {},
   "outputs": [],
   "source": [
    "func modelInit() -> BasicModel {return BasicModel(nIn: m, nHid: nHid, nOut: c)}"
   ]
  },
  {
   "cell_type": "code",
   "execution_count": null,
   "metadata": {},
   "outputs": [],
   "source": [
    "let (xTrain,yTrain,xValid,yValid) = loadMNIST(path: mnistPath, flat: true)"
   ]
  },
  {
   "cell_type": "code",
   "execution_count": null,
   "metadata": {},
   "outputs": [],
   "source": [
    "let yTrain1 = Raw.oneHot(indices: yTrain, depth: Tensor(10), onValue: Tensor(1.0), offValue: Tensor(0.0))\n",
    "let yValid1 = Raw.oneHot(indices: yValid, depth: Tensor(10), onValue: Tensor(1.0), offValue: Tensor(0.0))"
   ]
  },
  {
   "cell_type": "code",
   "execution_count": null,
   "metadata": {},
   "outputs": [],
   "source": [
    "let train: Dataset<DataBatch<Tensor<Float>, Tensor<Float>>> = Dataset(\n",
    "    elements:DataBatch(xb:xTrain, yb:Tensor<Float>(yTrain1))).batched(Int64(64))\n",
    "let valid: Dataset<DataBatch<Tensor<Float>, Tensor<Float>>> = Dataset(\n",
    "    elements:DataBatch(xb:xValid, yb:Tensor<Float>(yValid1))).batched(Int64(64))"
   ]
  },
  {
   "cell_type": "code",
   "execution_count": null,
   "metadata": {},
   "outputs": [],
   "source": [
    "let data = DataBunch(train: train, valid: valid)"
   ]
  },
  {
   "cell_type": "code",
   "execution_count": null,
   "metadata": {},
   "outputs": [],
   "source": [
    "@differentiable(vjp: _vjpSoftmaxCrossEntropy)\n",
    "func softmaxCrossEntropy1<Scalar: TensorFlowFloatingPoint>(\n",
    "    _ features: Tensor<Scalar>, _ labels: Tensor<Scalar>\n",
    ") -> Tensor<Scalar> {\n",
    "    return Raw.softmaxCrossEntropyWithLogits(features: features, labels: labels).loss.mean()\n",
    "}\n",
    "\n",
    "@usableFromInline\n",
    "func _vjpSoftmaxCrossEntropy<Scalar: TensorFlowFloatingPoint>(\n",
    "    features: Tensor<Scalar>, labels: Tensor<Scalar>\n",
    ") -> (Tensor<Scalar>, (Tensor<Scalar>) -> (Tensor<Scalar>, Tensor<Scalar>)) {\n",
    "    let (loss, grad) = Raw.softmaxCrossEntropyWithLogits(features: features, labels: labels)\n",
    "    let batchSize = Tensor<Scalar>(features.shapeTensor[0])\n",
    "    return (loss.mean(), { v in ((v / batchSize) * grad, Tensor<Scalar>(0)) })\n",
    "}"
   ]
  },
  {
   "cell_type": "code",
   "execution_count": null,
   "metadata": {},
   "outputs": [],
   "source": [
    "let trainer = Trainer(data: data, lossFunction: softmaxCrossEntropy1, optimizer: opt, initializingWith: modelInit)"
   ]
  },
  {
   "cell_type": "markdown",
   "metadata": {},
   "source": [
    "This line will crash the kernel. Failing in `Learner.train(onBatch: batch)` at the line\n",
    "```\n",
    "let (loss, (grad, _)) = model.valueWithGradient(at: batch.yb) {\n",
    "            (model, label) -> Loss in\n",
    "            let y = model.applied(to: batch.xb, in: context)\n",
    "            print(\"out\")\n",
    "            let loss = lossFunction(y, label)\n",
    "            print(loss)\n",
    "            return loss\n",
    "        }\n",
    "```\n",
    "when you arrive at `let loss = lossFunction(y, label)` (out is printed but not the loss)."
   ]
  },
  {
   "cell_type": "code",
   "execution_count": null,
   "metadata": {},
   "outputs": [],
   "source": [
    "//trainer.fit(epochCount: 1)"
   ]
  },
  {
   "cell_type": "markdown",
   "metadata": {},
   "source": [
    "But if you request a batch and apply the pieces, it works fine."
   ]
  },
  {
   "cell_type": "code",
   "execution_count": null,
   "metadata": {},
   "outputs": [],
   "source": [
    "var firstBatch: DataBatch<Tensor<Float>, Tensor<Float>>? = nil\n",
    "for batch in data.train{\n",
    "    firstBatch = batch\n",
    "    break\n",
    "}"
   ]
  },
  {
   "cell_type": "code",
   "execution_count": null,
   "metadata": {},
   "outputs": [],
   "source": [
    "let xb = firstBatch!.xb\n",
    "let yb = firstBatch!.yb\n",
    "let (loss, (grad, _)) = model.valueWithGradient(at: yb) {\n",
    "            (model, label) -> Tensor<Float> in\n",
    "            let y = model.applied(to: xb, in: Context(learningPhase: .training))\n",
    "            let loss = softmaxCrossEntropy1(y, label)\n",
    "            return loss\n",
    "}"
   ]
  }
 ],
 "metadata": {
  "kernelspec": {
   "display_name": "Swift",
   "language": "swift",
   "name": "swift"
  }
 },
 "nbformat": 4,
 "nbformat_minor": 1
}
