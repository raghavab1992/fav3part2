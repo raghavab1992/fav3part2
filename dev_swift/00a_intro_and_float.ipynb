{
 "cells": [
  {
   "cell_type": "code",
   "execution_count": null,
   "metadata": {},
   "outputs": [
    {
     "name": "stdout",
     "output_type": "stream",
     "text": [
      "Installing packages:\n",
      "\t.package(path: \"/home/clattner/fastai_docs/dev_swift/FastaiNotebook_00_load_data\")\n",
      "\t\tFastaiNotebook_00_load_data\n",
      "With SwiftPM flags: []\n",
      "Working in: /tmp/tmpmyugb9qg\n",
      "/home/clattner/swift/usr/bin/swift-build: /home/clattner/anaconda3/envs/swift/lib/libuuid.so.1: no version information available (required by /home/clattner/swift/usr/lib/swift/linux/libFoundation.so)\n",
      "Fetching https://github.com/mxcl/Path.swift\n",
      "Fetching https://github.com/JustHTTP/Just\n",
      "Completed resolution in 1.97s\n",
      "Cloning https://github.com/JustHTTP/Just\n",
      "Resolving https://github.com/JustHTTP/Just at 0.7.1\n",
      "Cloning https://github.com/mxcl/Path.swift\n",
      "Resolving https://github.com/mxcl/Path.swift at 0.16.2\n",
      "/home/clattner/swift/usr/bin/swiftc: /home/clattner/anaconda3/envs/swift/lib/libuuid.so.1: no version information available (required by /home/clattner/swift/usr/bin/swiftc)\n",
      "Compile Swift Module 'Just' (1 sources)\n",
      "Compile Swift Module 'Path' (9 sources)\n",
      "/home/clattner/swift/usr/bin/swiftc: /home/clattner/anaconda3/envs/swift/lib/libuuid.so.1: no version information available (required by /home/clattner/swift/usr/bin/swiftc)\n",
      "\n",
      "/home/clattner/swift/usr/bin/swiftc: /home/clattner/anaconda3/envs/swift/lib/libuuid.so.1: no version information available (required by /home/clattner/swift/usr/bin/swiftc)\n",
      "\n",
      "/home/clattner/swift/usr/bin/swift: /home/clattner/anaconda3/envs/swift/lib/libuuid.so.1: no version information available (required by /home/clattner/swift/usr/bin/swift)\n",
      "\n",
      "/home/clattner/swift/usr/bin/swift: /home/clattner/anaconda3/envs/swift/lib/libuuid.so.1: no version information available (required by /home/clattner/swift/usr/bin/swift)\n",
      "\n",
      "/home/clattner/swift/usr/bin/swift: /home/clattner/anaconda3/envs/swift/lib/libuuid.so.1: no version information available (required by /home/clattner/swift/usr/bin/swift)\n",
      "\n",
      "/home/clattner/swift/usr/bin/swift: /home/clattner/anaconda3/envs/swift/lib/libuuid.so.1: no version information available (required by /home/clattner/swift/usr/bin/swift)\n",
      "\n",
      "/home/clattner/swift/usr/bin/swift: /home/clattner/anaconda3/envs/swift/lib/libuuid.so.1: no version information available (required by /home/clattner/swift/usr/bin/swift)\n",
      "\n",
      "/home/clattner/swift/usr/bin/swift: /home/clattner/anaconda3/envs/swift/lib/libuuid.so.1: no version information available (required by /home/clattner/swift/usr/bin/swift)\n",
      "\n",
      "/home/clattner/swift/usr/bin/swift: /home/clattner/anaconda3/envs/swift/lib/libuuid.so.1: no version information available (required by /home/clattner/swift/usr/bin/swift)\n",
      "\n",
      "/home/clattner/swift/usr/bin/swift: /home/clattner/anaconda3/envs/swift/lib/libuuid.so.1: no version information available (required by /home/clattner/swift/usr/bin/swift)\n",
      "\n",
      "/home/clattner/swift/usr/bin/swift: /home/clattner/anaconda3/envs/swift/lib/libuuid.so.1: no version information available (required by /home/clattner/swift/usr/bin/swift)\n",
      "\n",
      "/home/clattner/swift/usr/bin/swift: /home/clattner/anaconda3/envs/swift/lib/libuuid.so.1: no version information available (required by /home/clattner/swift/usr/bin/swift)\n",
      "\n",
      "/home/clattner/swift/usr/bin/swift: /home/clattner/anaconda3/envs/swift/lib/libuuid.so.1: no version information available (required by /home/clattner/swift/usr/bin/swift)\n",
      "\n",
      "Compile Swift Module 'FastaiNotebook_00_load_data' (1 sources)\n",
      "/home/clattner/swift/usr/bin/swiftc: /home/clattner/anaconda3/envs/swift/lib/libuuid.so.1: no version information available (required by /home/clattner/swift/usr/bin/swiftc)\n",
      "\n",
      "/home/clattner/swift/usr/bin/swift: /home/clattner/anaconda3/envs/swift/lib/libuuid.so.1: no version information available (required by /home/clattner/swift/usr/bin/swift)\n",
      "\n",
      "/home/clattner/swift/usr/bin/swift: /home/clattner/anaconda3/envs/swift/lib/libuuid.so.1: no version information available (required by /home/clattner/swift/usr/bin/swift)\n",
      "\n",
      "Compile Swift Module 'jupyterInstalledPackages' (1 sources)\n",
      "/home/clattner/swift/usr/bin/swiftc: /home/clattner/anaconda3/envs/swift/lib/libuuid.so.1: no version information available (required by /home/clattner/swift/usr/bin/swiftc)\n",
      "\n",
      "/home/clattner/swift/usr/bin/swift: /home/clattner/anaconda3/envs/swift/lib/libuuid.so.1: no version information available (required by /home/clattner/swift/usr/bin/swift)\n",
      "\n",
      "/home/clattner/swift/usr/bin/swift: /home/clattner/anaconda3/envs/swift/lib/libuuid.so.1: no version information available (required by /home/clattner/swift/usr/bin/swift)\n",
      "\n",
      "Linking ./.build/x86_64-unknown-linux/debug/libjupyterInstalledPackages.so\n",
      "/home/clattner/swift/usr/bin/swiftc: /home/clattner/anaconda3/envs/swift/lib/libuuid.so.1: no version information available (required by /home/clattner/swift/usr/bin/swiftc)\n",
      "\n",
      "/home/clattner/swift/usr/bin/swift-autolink-extract: /home/clattner/anaconda3/envs/swift/lib/libuuid.so.1: no version information available (required by /home/clattner/swift/usr/bin/swift-autolink-extract)\n",
      "\n",
      "Initializing Swift...\n",
      "Loading library...\n",
      "Installation complete!\n"
     ]
    },
    {
     "ename": "",
     "evalue": "",
     "output_type": "error",
     "traceback": [
      "error: <Cell 1>:1:18: error: consecutive statements on a line must be separated by ';'\n%install-location $cwd/swift-install\n                 ^\n                 ;\n\n"
     ]
    }
   ],
   "source": [
    "%install-location $cwd/swift-install\n",
    "%install '.package(path: \"$cwd/FastaiNotebook_00_load_data\")' FastaiNotebook_00_load_data"
   ]
  },
  {
   "cell_type": "code",
   "execution_count": null,
   "metadata": {},
   "outputs": [],
   "source": [
    "import FastaiNotebook_00_load_data"
   ]
  },
  {
   "cell_type": "markdown",
   "metadata": {},
   "source": [
    "# Hello Swift"
   ]
  },
  {
   "cell_type": "markdown",
   "metadata": {},
   "source": [
    "The first thing you'll notice about Swift is that it has variables (`var`) and constants (`let`)."
   ]
  },
  {
   "cell_type": "code",
   "execution_count": null,
   "metadata": {},
   "outputs": [
    {
     "name": "stdout",
     "output_type": "stream",
     "text": [
      "some integers: 25\r\n",
      "some floats:  3.1 3.1415925\r\n"
     ]
    }
   ],
   "source": [
    "// These are integers\n",
    "let batchSize = 6\n",
    "var b = 1 + (4 * batchSize)\n",
    "print(\"some integers:\", b)\n",
    "\n",
    "// These are floating point values.\n",
    "var myPi = 3.1\n",
    "let π    = Float.pi\n",
    "print(\"some floats: \", myPi, π)"
   ]
  },
  {
   "cell_type": "markdown",
   "metadata": {},
   "source": [
    "Constants cannot be changed after they are set:"
   ]
  },
  {
   "cell_type": "code",
   "execution_count": null,
   "metadata": {},
   "outputs": [
    {
     "ename": "",
     "evalue": "",
     "output_type": "error",
     "traceback": [
      "error: <Cell 6>:1:1: error: cannot assign to value: 'batchSize' is a 'let' constant\nbatchSize = 8\n^~~~~~~~~\n\n<Cell 5>:2:1: note: change 'let' to 'var' to make it mutable\nlet batchSize = 6\n^~~\nvar\n\n"
     ]
    }
   ],
   "source": [
    "batchSize = 8"
   ]
  },
  {
   "cell_type": "markdown",
   "metadata": {},
   "source": [
    "Swift also has types... and type inference.  This means you often don't have to specify the types, but they are there, and can be used to override type inference:\n"
   ]
  },
  {
   "cell_type": "code",
   "execution_count": null,
   "metadata": {},
   "outputs": [
    {
     "name": "stdout",
     "output_type": "stream",
     "text": [
      "dog poo\r\n",
      "some types:  Float String\r\n"
     ]
    }
   ],
   "source": [
    "// Type inference would produce an integer, but we make this be a float.\n",
    "var someFloat : Float = 1 + 4*9\n",
    "\n",
    "// Jeremy might not like greek letters, but he surely loves emoji 😬\n",
    "var 🐶💩 = \"dog poo\"\n",
    "print(🐶💩)\n",
    "\n",
    "\n",
    "// This is the equivalent of the Python 'type' operator.\n",
    "print(\"some types: \", type(of: someFloat), type(of: 🐶💩))"
   ]
  },
  {
   "cell_type": "markdown",
   "metadata": {},
   "source": [
    "### Functions, tuples, and structs in Swift "
   ]
  },
  {
   "cell_type": "markdown",
   "metadata": {},
   "source": [
    "Functions are declare with `func` instead of `def` in Swift.  They include types, and default to having argument labels."
   ]
  },
  {
   "cell_type": "code",
   "execution_count": null,
   "metadata": {},
   "outputs": [
    {
     "name": "stdout",
     "output_type": "stream",
     "text": [
      "2.236068\r\n"
     ]
    }
   ],
   "source": [
    "func distance(x: Float, y: Float) -> Float {\n",
    "    return sqrt(x*x+y*y)\n",
    "}\n",
    "\n",
    "// Functions default to having argument labels:\n",
    "print(distance(x: 1.0, y: 2.0))\n"
   ]
  },
  {
   "cell_type": "markdown",
   "metadata": {},
   "source": [
    "Sometimes argument labels are the wrong thing, and sometimes you want the caller to use a different argument label than you want to use as the name inside of a function.  To support this, Swift allows you to use two names for each argument, and the underscore means \"ignore\".\n",
    "\n",
    "Swift also has tuples just like Python, and you can use them to return multiple results:"
   ]
  },
  {
   "cell_type": "code",
   "execution_count": null,
   "metadata": {},
   "outputs": [
    {
     "name": "stdout",
     "output_type": "stream",
     "text": [
      "(-3.019916e-07, 1.0)\r\n",
      "0.8090276\r\n",
      "-1.3165069\r\n"
     ]
    }
   ],
   "source": [
    "func sincos(_ value: Float) -> (Float, Float) {\n",
    "    return (sin(value), cos(value))\n",
    "}\n",
    "\n",
    "// Print the tuple.\n",
    "print(sincos(2*π))\n",
    "\n",
    "// Destructuring too.\n",
    "let (s, c) = sincos(42)\n",
    "\n",
    "let tupleValue = sincos(213)\n",
    "print(tupleValue.1)\n",
    "print(s + c)\n"
   ]
  },
  {
   "cell_type": "markdown",
   "metadata": {},
   "source": [
    "Structures are a little bit like a class in Python.  You can define structures with the `struct` keyword, which gives you a name for a type.  Structs are super efficient (no memory allocation etc) and allow you to access the fields conveniently:"
   ]
  },
  {
   "cell_type": "code",
   "execution_count": null,
   "metadata": {},
   "outputs": [
    {
     "name": "stdout",
     "output_type": "stream",
     "text": [
      "ComplexF(real: 1.0, imag: 12.0)\r\n"
     ]
    }
   ],
   "source": [
    "struct ComplexF {\n",
    "    var real, imag : Float\n",
    "}\n",
    "\n",
    "var someComplex = ComplexF(real: 1.0, imag: 12.0)\n",
    "print(someComplex)"
   ]
  },
  {
   "cell_type": "markdown",
   "metadata": {},
   "source": [
    "This is very similar to a [dataclass](https://docs.python.org/3/library/dataclasses.html) in Python:\n",
    "```python\n",
    "@dataclass\n",
    "class ComplexF:\n",
    "    real:float\n",
    "    imag:float\n",
    "\n",
    "someComplex = ComplexF(1.0, 12.0)\n",
    "someComplex\n",
    "```"
   ]
  },
  {
   "cell_type": "markdown",
   "metadata": {},
   "source": [
    "Once you have types, you want to write generic code.  Generics in Swift work very differently than Java or C++ generics, but the syntax is similar.  Let's make this type generic, and add some computed properties:\n",
    "\n"
   ]
  },
  {
   "cell_type": "code",
   "execution_count": null,
   "metadata": {},
   "outputs": [
    {
     "name": "stdout",
     "output_type": "stream",
     "text": [
      "Complex<Int>(real: 1, imag: 12)\r\n",
      "Complex<Float>(real: 1.0, imag: 3.1415925)\r\n",
      "\r\n",
      "Conj:      Complex<Int>(real: 1, imag: -12)\r\n",
      "Doubled:   Complex<Float>(real: 2.0, imag: 6.283185)\r\n",
      "property:  12 -12\r\n",
      "property:  -4 4\r\n"
     ]
    }
   ],
   "source": [
    "struct Complex<T : SignedNumeric> {\n",
    "    var real, imag : T\n",
    "    \n",
    "    // This is a read only computed property.\n",
    "    var conj : Complex { return Complex(real: real, imag: -imag) }\n",
    "    \n",
    "    // Here's a computed property with a setter, that returns the imaginary\n",
    "    // component negated, just to show how to do this.  A more realistic\n",
    "    // use case would be to provide a polar coordinate projection.\n",
    "    var imagNegated : T {\n",
    "        get { return -imag }\n",
    "        set { imag = -newValue }\n",
    "    }\n",
    "}\n",
    "\n",
    "var complexInt = Complex(real: 1, imag: 12)\n",
    "var complexDouble = Complex(real: 1.0, imag: π)\n",
    "print(complexInt, complexDouble, separator: \"\\n\")\n",
    "print()\n",
    "\n",
    "print(\"Conj:     \", complexInt.conj)\n",
    "\n",
    "// Show how computed property works...\n",
    "print(\"property: \", complexInt.imag, complexInt.imagNegated)\n",
    "complexInt.imagNegated = 4\n",
    "print(\"property: \", complexInt.imag, complexInt.imagNegated)\n"
   ]
  },
  {
   "cell_type": "markdown",
   "metadata": {},
   "source": [
    "Swift lets you add things to types that are already defined with **Extensions** to types, using the `extension` keyword.  You can even extend a type implemented by someone else, no problem:"
   ]
  },
  {
   "cell_type": "code",
   "execution_count": null,
   "metadata": {},
   "outputs": [
    {
     "name": "stdout",
     "output_type": "stream",
     "text": [
      "☑️Original:  Complex<Float>(real: 1.0, imag: 3.1415925)\r\n",
      "⤴️Moved:     Complex<Float>(real: 11.0, imag: 13.141592)\r\n",
      "2️⃣Doubled:   Complex<Float>(real: 2.0, imag: 6.283185)\r\n"
     ]
    }
   ],
   "source": [
    "extension Complex {\n",
    "    // Give Complex an `add` method.\n",
    "    func add(_ other: Complex) -> Complex {\n",
    "        return Complex(real: real + other.real,\n",
    "                       imag: imag + other.imag)\n",
    "    }\n",
    "}\n",
    "\n",
    "print(\"☑️Original: \", complexDouble)\n",
    "print(\"⤴️Moved:    \", complexDouble.add(Complex(real: 10, imag: 10)))\n",
    "print(\"2️⃣Doubled:  \", complexDouble.add(complexDouble))\n"
   ]
  },
  {
   "cell_type": "markdown",
   "metadata": {},
   "source": [
    "Defining an 'add' method make me sad though, because this is math! Fortunately **operators** are just functions in Swift, and are defined with `func`. "
   ]
  },
  {
   "cell_type": "code",
   "execution_count": null,
   "metadata": {},
   "outputs": [
    {
     "name": "stdout",
     "output_type": "stream",
     "text": [
      "added:  Complex<Int>(real: 2, imag: -8)\r\n",
      "atan2'd:  0.3081691\r\n"
     ]
    }
   ],
   "source": [
    "extension Complex {\n",
    "    static func+(lhs : Complex, rhs: Complex) -> Complex {\n",
    "        return Complex(real: lhs.real + lhs.real, \n",
    "                       imag: lhs.imag + rhs.imag)\n",
    "    }\n",
    "}\n",
    "\n",
    "print(\"added: \", complexInt + complexInt)\n",
    "\n",
    "\n",
    "// You can even define your own happy cat 😸 operator if you feel like it.\n",
    "// Please don't get too crazy.\n",
    "prefix operator ^*^\n",
    "prefix func ^*^(value: Complex<Float>) -> Float {\n",
    "    return atan2(value.real, value.imag)\n",
    "}\n",
    "\n",
    "print(\"atan2'd: \", ^*^complexDouble)\n"
   ]
  },
  {
   "cell_type": "markdown",
   "metadata": {},
   "source": [
    "\n",
    "\n",
    "**Wrapping up:** Okay, that's your basic introduction to Swift.  If you'd like a longer tour about high level Swift language features and concepts, there is an online [guided tour to Swift](https://docs.swift.org/swift-book/GuidedTour/GuidedTour.html) on swift.org.\n",
    "\n",
    "Now lets talk about ... Python?!\n",
    "\n"
   ]
  },
  {
   "cell_type": "markdown",
   "metadata": {},
   "source": [
    "# Swift loves Python 🐍 too"
   ]
  },
  {
   "cell_type": "code",
   "execution_count": null,
   "metadata": {},
   "outputs": [],
   "source": [
    "// One of the cool things about Swift for TensorFlow is that we can directly call into\n",
    "// Python.  First we import Python into Swift.\n",
    "import Python"
   ]
  },
  {
   "cell_type": "code",
   "execution_count": null,
   "metadata": {},
   "outputs": [],
   "source": [
    "// You can import arbitrary Python modules and directly use them.\n",
    "// No wrappers, interface libraries, code generators, or build steps.\n",
    "public let np = Python.import(\"numpy\")\n",
    "public let plt = Python.import(\"matplotlib.pyplot\")"
   ]
  },
  {
   "cell_type": "code",
   "execution_count": null,
   "metadata": {},
   "outputs": [
    {
     "name": "stdout",
     "output_type": "stream",
     "text": [
      "NumPy Array: [1 2 3 4]\r\n",
      "NumPy Module Type:  PythonObject\r\n",
      "NumPy Function Type:  PythonObject\r\n",
      "NumPy Array Type:  PythonObject\r\n",
      "[2 4 6 8] 2\r\n"
     ]
    }
   ],
   "source": [
    "// Err, Python in Swift??  Yep, Swift is super dynamic too, so it can\n",
    "// directly talk to the Python runtime.  We'll talk about that later.\n",
    "let npArray = np.array([1,2,3,4])\n",
    "print(\"NumPy Array:\", npArray)\n",
    "\n",
    "// Python is a dynamically typed language ... but another way to look at it is \n",
    "// that it has exactly one static type.  Swift calls it `PythonObject`.\n",
    "print(\"NumPy Module Type: \", type(of: np))\n",
    "print(\"NumPy Function Type: \", type(of: np.array))\n",
    "print(\"NumPy Array Type: \", type(of: npArray))\n",
    "print(npArray*2, npArray[1])"
   ]
  },
  {
   "cell_type": "markdown",
   "metadata": {},
   "source": [
    "Why do we want this?  Well it turns out that the entire datascience ecosystem is in Python, and many of you are comfortable with Python APIs.  Swift can do lots of things, but Python is just fine for basic things like reading files, so there's no need to change what isn't broken!\n"
   ]
  },
  {
   "cell_type": "markdown",
   "metadata": {},
   "source": [
    "# Using Python and matplotlib to visualize data"
   ]
  },
  {
   "cell_type": "code",
   "execution_count": null,
   "metadata": {},
   "outputs": [],
   "source": [
    "import TensorFlow\n",
    "// loadMNIST is defined in workbook 00_load_data.\n",
    "// It loads the data into TensorFlow Tensors.\n",
    "let (xTrain, yTrain, xValid, yValid) = loadMNIST(path: mnistPath, flat: true)"
   ]
  },
  {
   "cell_type": "code",
   "execution_count": null,
   "metadata": {},
   "outputs": [
    {
     "name": "stdout",
     "output_type": "stream",
     "text": [
      "Tensor<Float>\r\n",
      "TensorShape(dimensions: [60000, 784])\r\n",
      "TensorShape(dimensions: [60000])\r\n",
      "TensorShape(dimensions: [10000, 784])\r\n",
      "TensorShape(dimensions: [10000])\r\n"
     ]
    }
   ],
   "source": [
    "// That just loaded a TensorFlow Tensor:\n",
    "print(type(of: xTrain))\n",
    "print(xTrain.shape, yTrain.shape, xValid.shape, yValid.shape, separator: \"\\n\")\n"
   ]
  },
  {
   "cell_type": "markdown",
   "metadata": {},
   "source": [
    "For now though we won't talk much about the Tensor API, come back to it later."
   ]
  },
  {
   "cell_type": "markdown",
   "metadata": {},
   "source": [
    "### Using matplotlib\n",
    "\n",
    "Let's take a look at an example from MNIST.  We'll import matplotlib, just like we imported numpy before:"
   ]
  },
  {
   "cell_type": "code",
   "execution_count": null,
   "metadata": {},
   "outputs": [
    {
     "data": {
      "text/plain": [
       "('inline', 'module://ipykernel.pylab.backend_inline')\n"
      ]
     },
     "execution_count": null,
     "metadata": {},
     "output_type": "execute_result"
    }
   ],
   "source": [
    "%include \"EnableIPythonDisplay.swift\"\n",
    "IPythonDisplay.shell.enable_matplotlib(\"inline\")"
   ]
  },
  {
   "cell_type": "code",
   "execution_count": null,
   "metadata": {},
   "outputs": [
    {
     "data": {
      "image/png": "[encoded data removed]",
      "text/plain": [
       "<Figure size 360x360 with 1 Axes>"
      ]
     },
     "metadata": {
      "needs_background": "light"
     },
     "output_type": "display_data"
    },
    {
     "data": {
      "text/plain": [
       "None\n"
      ]
     },
     "execution_count": null,
     "metadata": {},
     "output_type": "execute_result"
    }
   ],
   "source": [
    "// It's super easy to turn an example from the tensor into a NumPy array.\n",
    "let img = xTrain[0].makeNumpyArray().reshape(28, 28)\n",
    "\n",
    "// Then have \n",
    "plt.figure(figsize: [5,5])\n",
    "plt.show(plt.imshow(X: img, cmap: \"gray\"))"
   ]
  },
  {
   "cell_type": "markdown",
   "metadata": {},
   "source": [
    "# \"Impractical\" Programming Languages\n",
    "\n",
    "We now have a bit of a grasp on how Swift basics work, but we're taking a lot for granted here!  We are supposed to be building an entire machine learning framework from scratch!\n",
    "\n",
    "Jeremy started by showing you how to implement a MatMul using an array of floating point scalars, \"from the foundations\". Apparently, Jeremy thinks this is the foundations:\n",
    "\n",
    "```python\n",
    "def matmul(a,b):\n",
    "    ar,ac = a.shape # n_rows * n_cols\n",
    "    br,bc = b.shape\n",
    "    assert ac==br\n",
    "    c = torch.zeros(ar, bc)\n",
    "    for i in range(ar):\n",
    "        for j in range(bc):\n",
    "            for k in range(ac): # or br\n",
    "                c[i,j] += a[i,k] * b[k,j]\n",
    "    return c\n",
    "```\n",
    "\n",
    "Let's do it properly, this time... by going down to the bedrock.  First lets talk more about what programming languages are, how compilers work, and then we can understand what Swift really is.\n",
    "\n",
    "**Slides**: [What is a Compiler](https://docs.google.com/presentation/d/1dc6o2o-uYGnJeCeyvgsgyk05dBMneArxdICW5vF75oU/edit#slide=id.g5674d3ead7_0_83)\n"
   ]
  },
  {
   "cell_type": "markdown",
   "metadata": {},
   "source": [
    "## Building Float\n",
    "\n",
    "Ok, now we know how to build Float, Double, Int, etc.  One really nice thing is that this generates really great code."
   ]
  },
  {
   "cell_type": "code",
   "execution_count": null,
   "metadata": {},
   "outputs": [],
   "source": [
    "// Really simple math\n",
    "func squareAdd(n: Float) -> Float {\n",
    "    let tmp = n * n\n",
    "    let result = tmp + 1.0\n",
    "    return result\n",
    "}\n"
   ]
  },
  {
   "cell_type": "markdown",
   "metadata": {},
   "source": [
    "You can see the generated X86 assembly the [Compiler Explorer](https://godbolt.org/z/Xns8IA)!  It is optimal, and exactly what you get from the Clang C compiler, because it is built on top of the same LLVM code generator."
   ]
  },
  {
   "cell_type": "code",
   "execution_count": null,
   "metadata": {},
   "outputs": [
    {
     "name": "stdout",
     "output_type": "stream",
     "text": [
      "Builtin.Int64\r\n",
      "Builtin.FPIEEE32\r\n"
     ]
    }
   ],
   "source": [
    "// Because Int and Float are implemented in the standard library, you can actually\n",
    "// see the underlying field if you know where to look:\n",
    "var someInt = 42\n",
    "print(type(of: someInt._value))\n",
    "print(type(of: π._value))\n"
   ]
  },
  {
   "cell_type": "code",
   "execution_count": null,
   "metadata": {},
   "outputs": [
    {
     "ename": "",
     "evalue": "",
     "output_type": "error",
     "traceback": [
      "error: <Cell 69>:5:8: error: no such module 'Builtin'\nimport Builtin\n       ^\n\n"
     ]
    }
   ],
   "source": [
    "// That said you can't do anything useful with it - only the Swift standard library gets \n",
    "// to use the functionality defined in the Builtin module.  It is a private interface \n",
    "// between the standard library and the compiler, and the stdlib reexports all of its\n",
    "// functionality.\n",
    "import Builtin"
   ]
  },
  {
   "cell_type": "markdown",
   "metadata": {},
   "source": [
    "A cool thing is that since these things are normal types, you can add your own operators and methods to them, just like you can with any other type:"
   ]
  },
  {
   "cell_type": "code",
   "execution_count": null,
   "metadata": {},
   "outputs": [
    {
     "name": "stdout",
     "output_type": "stream",
     "text": [
      "Feeling odd?\r\n",
      "  Lets check  4: false\r\n",
      "  what about 17: true\r\n",
      "  Lets check  4: 👎\r\n",
      "  What about 17: 👍\r\n"
     ]
    }
   ],
   "source": [
    "extension Int {\n",
    "  var isOdd : Bool { return self & 1 != 0 }\n",
    "}\n",
    "\n",
    "extension Bool {\n",
    "  var symbol : String { return self ? \"👍\" : \"👎\" }\n",
    "}\n",
    "\n",
    "// Multi line string literals also support interpolation with \\().\n",
    "print(\"\"\"\n",
    "      Feeling odd?\n",
    "        Lets check  4: \\(     4.isOdd         )\n",
    "        what about 17: \\(    17.isOdd         )\n",
    "        Lets check  4: \\(     4.isOdd.symbol  )\n",
    "        What about 17: \\(    17.isOdd.symbol  )\n",
    "      \"\"\")"
   ]
  },
  {
   "cell_type": "markdown",
   "metadata": {},
   "source": [
    "A lot of the Swift \"language\" is implemented in the standard library, including primitive types like `Bool` as well.  Check out how short circuiting `&&` and `||` operators are [implemented right in the standard library](https://github.com/apple/swift/blob/master/stdlib/public/core/Bool.swift#L245).  Even primitives like `assert` are just [functions implemented in Swift](https://github.com/apple/swift/blob/master/stdlib/public/core/Assert.swift#L13).\n",
    "\n",
    "\n",
    "```swift\n",
    "  public static func && (lhs: Bool, rhs: @autoclosure () -> Bool) -> Bool {\n",
    "    return lhs ? rhs() : false\n",
    "  }\n",
    "```"
   ]
  },
  {
   "cell_type": "markdown",
   "metadata": {},
   "source": [
    "## Looking inside Array\n",
    "\n",
    "Of course, `Array` and `String` are also written in Swift and provided by the standard library.  Array in Swift contains a pointer to the elements and a size and a reserved capacity.  Let's try it out to see how it works.\n"
   ]
  },
  {
   "cell_type": "code",
   "execution_count": null,
   "metadata": {},
   "outputs": [
    {
     "name": "stdout",
     "output_type": "stream",
     "text": [
      "Array<Int> Array<Int> Array<Int>\r\n"
     ]
    }
   ],
   "source": [
    "// Arrays work with type inference:\n",
    "var myArray = [1,2,3,4,5,6]\n",
    "\n",
    "// You can write array types with [] syntax, which is what most people do...\n",
    "var myArray2 : [Int] = myArray\n",
    "\n",
    "// But this is just synactic sugar for the `Array` type.\n",
    "var myArray3 : Array<Int> = myArray\n",
    "\n",
    "// You can see that all of these have the exact same type, even though they \n",
    "// are written in different ways:\n",
    "print(type(of: myArray), type(of: myArray2), type(of: myArray3))\n",
    "\n"
   ]
  },
  {
   "cell_type": "markdown",
   "metadata": {},
   "source": [
    "Swift arrays support all the normal stuff you'd expect, like iteration, indexing, slicing etc.  The Swift slicing operators are `...` for inclusive (including the endpoint) and `..<` for exclusive ranges.  You'll see `..<` the most often:\n",
    "\n",
    "\n",
    "\n"
   ]
  },
  {
   "cell_type": "code",
   "execution_count": null,
   "metadata": {},
   "outputs": [
    {
     "name": "stdout",
     "output_type": "stream",
     "text": [
      "1\r\n",
      "2\r\n",
      "3\r\n",
      "4\r\n",
      "5\r\n",
      "6\r\n",
      "\r\n",
      "element: 1\r\n",
      "slice:   [2, 3]\r\n",
      "\r\n",
      "sum:       21\r\n",
      "filtered:  [1, 3, 5]\r\n",
      "mapped:    [11, 12, 13, 14, 15, 16]\r\n",
      "oddity:    [\"👍\", \"👎\", \"👍\", \"👎\", \"👍\", \"👎\"]\r\n",
      "processed: [3, 9, 15]\r\n"
     ]
    }
   ],
   "source": [
    "\n",
    "// Standard `for` loop\n",
    "for x in myArray {\n",
    "    print(x)\n",
    "}\n",
    "print()\n",
    "\n",
    "print(\"element:\", myArray[0])\n",
    "print(\"slice:  \", myArray[1..<3])\n",
    "print()\n",
    "\n",
    "// + is just a function, so it can be passed into reduce.\n",
    "print(\"sum:      \", myArray.reduce(0, +))\n",
    "\n",
    "// Swift closures are like Python lambda's.  You can name\n",
    "// the argument to the lambda if you'd like:\n",
    "print(\"filtered: \", myArray.filter({ arg in arg.isOdd }))\n",
    "\n",
    "// Arguments can also be anonymous, and default to $0, $1, $2,\n",
    "// which are nice for concise functional algorithms.\n",
    "print(\"mapped:   \", myArray.map ({ $0 + 10 }))\n",
    "\n",
    "// Functions with trailing closures can omit the parens or \n",
    "// move the closure after the parens, which allows you to write\n",
    "// nice and fluent code:\n",
    "print(\"oddity:   \", myArray.map{ $0.isOdd.symbol })\n",
    "print(\"processed:\", myArray.map{ $0*3 }.filter{ $0.isOdd })\n",
    "\n"
   ]
  },
  {
   "cell_type": "markdown",
   "metadata": {},
   "source": [
    "Since `Array` is a type like any other, of course you can put your own methods on it:"
   ]
  },
  {
   "cell_type": "code",
   "execution_count": null,
   "metadata": {},
   "outputs": [
    {
     "name": "stdout",
     "output_type": "stream",
     "text": [
      "[2, 4, 6]\r\n"
     ]
    }
   ],
   "source": [
    "extension Array where Element : Numeric {\n",
    "    func doubleElements() -> Array {\n",
    "        return self.map { $0 * 2 }\n",
    "    }\n",
    "}\n",
    "\n",
    "print([1,2,3].doubleElements())"
   ]
  },
  {
   "cell_type": "markdown",
   "metadata": {},
   "source": [
    "You might be wondering what the `where Element : Numeric` thing is on that extension.  That is saying that the `doubleElements` method only exists on arrays whose elements are numeric.  Other sorts of arrays don't get this method because they can't multiply the elements by two.  For example, try it out on an array of strings or bool (which aren't considered to be numeric) to see what happens:"
   ]
  },
  {
   "cell_type": "code",
   "execution_count": null,
   "metadata": {},
   "outputs": [
    {
     "ename": "",
     "evalue": "",
     "output_type": "error",
     "traceback": [
      "error: <Cell 74>:1:27: error: ambiguous reference to instance method 'doubleElements()'\nprint([true, false, true].doubleElements())\n                          ^\n\n<Cell 54>:1:1: note: candidate requires that 'Bool' conform to 'Numeric' (requirement specified as 'Element' == 'Numeric')\nextension Array where Element : Numeric {\n^\n\n<Cell 73>:1:1: note: candidate requires that 'Bool' conform to 'Numeric' (requirement specified as 'Element' == 'Numeric')\nextension Array where Element : Numeric {\n^\n\n"
     ]
    }
   ],
   "source": [
    "print([true, false, true].doubleElements())"
   ]
  },
  {
   "cell_type": "markdown",
   "metadata": {},
   "source": [
    "If you are curious about `Array` please dive [into the code in the standard library](https://github.com/apple/swift/blob/master/stdlib/public/core/Array.swift#L300).  It is all written in Swift, but uses somewhat more advanced features than we've introduced so far.  For example, you can see how it [implements subscripting of an element](https://github.com/apple/swift/blob/master/stdlib/public/core/Array.swift#L677).\n",
    "\n",
    "If you're interested in diving into other things, [`Dictionary`](https://github.com/apple/swift/blob/tensorflow/stdlib/public/core/Dictionary.swift#L13) and [`Set`](https://github.com/apple/swift/blob/tensorflow/stdlib/public/core/Set.swift#L13) are also interesting and have some massive doc comments explaining how they work.\n",
    "\n",
    "\n",
    "Now that we have seen how Float and Arrays are defined, we're allowed to use them - so we can define a matmul!  Onward to 01_matmul."
   ]
  },
  {
   "cell_type": "code",
   "execution_count": null,
   "metadata": {},
   "outputs": [],
   "source": []
  }
 ],
 "metadata": {
  "kernelspec": {
   "display_name": "Swift",
   "language": "swift",
   "name": "swift"
  }
 },
 "nbformat": 4,
 "nbformat_minor": 2
}
