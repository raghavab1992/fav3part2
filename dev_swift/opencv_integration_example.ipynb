{
 "cells": [
  {
   "cell_type": "markdown",
   "metadata": {},
   "source": [
    "## OpenCV Integration Example\n",
    "Note: SwiftCV package requires OpenCV installed in order to compile."
   ]
  },
  {
   "cell_type": "code",
   "execution_count": null,
   "metadata": {},
   "outputs": [],
   "source": [
    "%install '.package(url: \"https://github.com/vvmnnnkv/SwiftCV.git\", .branch(\"fastai-example\"))' SwiftCV"
   ]
  },
  {
   "cell_type": "markdown",
   "metadata": {},
   "source": [
    "### Imports"
   ]
  },
  {
   "cell_type": "code",
   "execution_count": null,
   "metadata": {},
   "outputs": [],
   "source": [
    "%include \"EnableIPythonDisplay.swift\"\n",
    "import Foundation\n",
    "import Python\n",
    "import TensorFlow\n",
    "import SwiftCV\n",
    "\n",
    "let plt = Python.import(\"matplotlib.pyplot\")\n",
    "let np = Python.import(\"numpy\")\n",
    "IPythonDisplay.shell.enable_matplotlib(\"inline\")"
   ]
  },
  {
   "cell_type": "code",
   "execution_count": null,
   "metadata": {},
   "outputs": [],
   "source": [
    "// display opencv version\n",
    "print(cvVersion())"
   ]
  },
  {
   "cell_type": "markdown",
   "metadata": {},
   "source": [
    "### Utility"
   ]
  },
  {
   "cell_type": "code",
   "execution_count": null,
   "metadata": {},
   "outputs": [],
   "source": [
    "func show_img(_ img: Mat, _ w: Int = 7, _ h: Int = 5) {\n",
    "    // convert from OpenCV to Tensor\n",
    "    let tens = Tensor<UInt8>(cvMat: img)!\n",
    "    // and from Tensor to numpy array for matplot\n",
    "    show_img(tens.makeNumpyArray(), w, h)\n",
    "}\n",
    "\n",
    "func show_img(_ img: PythonObject, _ w: Int = 7, _ h: Int = 5) {\n",
    "    plt.figure(figsize: [w, h])\n",
    "    plt.imshow(img)\n",
    "    plt.show()\n",
    "}"
   ]
  },
  {
   "cell_type": "markdown",
   "metadata": {},
   "source": [
    "### Load image"
   ]
  },
  {
   "cell_type": "code",
   "execution_count": null,
   "metadata": {},
   "outputs": [],
   "source": [
    "// load image in memory\n",
    "let url = \"https://live.staticflickr.com/2842/11335865374_0b202e2dc6_o_d.jpg\"\n",
    "let imgContent = Data(contentsOf: URL(string: url)!)\n",
    "\n",
    "// make opencv image\n",
    "var cvImg = imdecode(imgContent)\n",
    "// convert color scheme to RGB\n",
    "cvImg = cvtColor(cvImg, nil, ColorConversionCode.COLOR_BGR2RGB)\n",
    "show_img(cvImg)"
   ]
  },
  {
   "cell_type": "markdown",
   "metadata": {},
   "source": [
    "### OpenCV Transformations"
   ]
  },
  {
   "cell_type": "markdown",
   "metadata": {},
   "source": [
    "#### Resize"
   ]
  },
  {
   "cell_type": "code",
   "execution_count": null,
   "metadata": {},
   "outputs": [],
   "source": [
    "show_img(\n",
    "    resize(cvImg, nil, Size(100, 50), 0, 0, InterpolationFlag.INTER_AREA)\n",
    ")\n"
   ]
  },
  {
   "cell_type": "markdown",
   "metadata": {},
   "source": [
    "#### Zoom / Crop"
   ]
  },
  {
   "cell_type": "code",
   "execution_count": null,
   "metadata": {},
   "outputs": [],
   "source": [
    "let zoomMat = getRotationMatrix2D(Size(cvImg.cols, cvImg.rows / 2), 0, 2)\n",
    "show_img(\n",
    "    warpAffine(cvImg, nil, zoomMat, Size(600, 600))\n",
    ")"
   ]
  },
  {
   "cell_type": "markdown",
   "metadata": {},
   "source": [
    "#### Rotate"
   ]
  },
  {
   "cell_type": "code",
   "execution_count": null,
   "metadata": {},
   "outputs": [],
   "source": [
    "let rotMat = getRotationMatrix2D(Size(cvImg.cols / 2, cvImg.rows / 2), 20, 1)\n",
    "show_img(\n",
    "    warpAffine(cvImg, nil, rotMat, Size(cvImg.cols, cvImg.rows))\n",
    ")"
   ]
  },
  {
   "cell_type": "markdown",
   "metadata": {},
   "source": [
    "#### Pad"
   ]
  },
  {
   "cell_type": "code",
   "execution_count": null,
   "metadata": {},
   "outputs": [],
   "source": [
    "show_img(\n",
    "    copyMakeBorder(cvImg, nil, 40, 40, 40, 40, BorderType.BORDER_CONSTANT, RGBA(0, 127, 0, 0))\n",
    ")"
   ]
  },
  {
   "cell_type": "markdown",
   "metadata": {},
   "source": [
    "#### Blur"
   ]
  },
  {
   "cell_type": "code",
   "execution_count": null,
   "metadata": {},
   "outputs": [],
   "source": [
    "show_img(\n",
    "    GaussianBlur(cvImg, nil, Size(25, 25))\n",
    ")"
   ]
  },
  {
   "cell_type": "markdown",
   "metadata": {},
   "source": [
    "#### Flip"
   ]
  },
  {
   "cell_type": "code",
   "execution_count": null,
   "metadata": {},
   "outputs": [],
   "source": [
    "show_img(\n",
    "    flip(cvImg, nil, FlipMode.HORIZONTAL)\n",
    ")"
   ]
  },
  {
   "cell_type": "markdown",
   "metadata": {},
   "source": [
    "#### Transpose"
   ]
  },
  {
   "cell_type": "code",
   "execution_count": null,
   "metadata": {},
   "outputs": [],
   "source": [
    "show_img(\n",
    "    transpose(cvImg, nil)\n",
    ")"
   ]
  },
  {
   "cell_type": "markdown",
   "metadata": {},
   "source": [
    "### Using Native S4TF Tensor Operations"
   ]
  },
  {
   "cell_type": "markdown",
   "metadata": {},
   "source": [
    "#### Lightning / Contrast"
   ]
  },
  {
   "cell_type": "code",
   "execution_count": null,
   "metadata": {},
   "outputs": [],
   "source": [
    "// convert image to floats Tensor\n",
    "var imgTens = Tensor<Float>(Tensor<UInt8>(cvMat: cvImg)!) / 255\n",
    "let contr:Float = 1.8\n",
    "let lightn:Float = 0.2\n",
    "let mean = imgTens.mean()\n",
    "imgTens = (imgTens - mean) * contr + mean + lightn\n",
    "show_img(imgTens.makeNumpyArray())"
   ]
  },
  {
   "cell_type": "markdown",
   "metadata": {},
   "source": [
    "#### Noise"
   ]
  },
  {
   "cell_type": "code",
   "execution_count": null,
   "metadata": {},
   "outputs": [],
   "source": [
    "// convert image to Tensor\n",
    "let smallImg = resize(cvImg, nil, Size(150, 150))\n",
    "var imgTens = Tensor<Float>(Tensor<UInt8>(cvMat: smallImg)!) / 255\n",
    "\n",
    "// make white noise (slow! :))\n",
    "var rng = PhiloxRandomNumberGenerator(seed: UInt64(42))\n",
    "let dist = NormalDistribution<Float>(mean: 0, standardDeviation: 0.05)\n",
    "var random: [Float] = []\n",
    "for _ in 0..<imgTens.shape.contiguousSize {\n",
    "    random.append(dist.next(using: &rng))\n",
    "}\n",
    "let randTens = Tensor<Float>(shape: imgTens.shape, scalars: random)\n",
    "\n",
    "imgTens += randTens\n",
    "show_img(imgTens.makeNumpyArray())"
   ]
  },
  {
   "cell_type": "code",
   "execution_count": null,
   "metadata": {},
   "outputs": [],
   "source": []
  }
 ],
 "metadata": {
  "kernelspec": {
   "display_name": "Swift",
   "language": "swift",
   "name": "swift"
  }
 },
 "nbformat": 4,
 "nbformat_minor": 2
}
